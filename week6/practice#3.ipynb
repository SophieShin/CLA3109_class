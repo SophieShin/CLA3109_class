{
 "cells": [
  {
   "cell_type": "code",
   "execution_count": null,
   "id": "2a12ea46",
   "metadata": {},
   "outputs": [],
   "source": [
    "# 손에 잡히는 10분 정규표현식 책 추천"
   ]
  },
  {
   "cell_type": "code",
   "execution_count": 1,
   "id": "dd139cc8",
   "metadata": {},
   "outputs": [],
   "source": [
    "import re # regular expression"
   ]
  },
  {
   "cell_type": "code",
   "execution_count": 3,
   "id": "2aaf0bec",
   "metadata": {},
   "outputs": [],
   "source": [
    "txt = '''상(上)이 삭전(朔奠)001) 을 지내고 상식(上食)002) 을 올렸다.'''"
   ]
  },
  {
   "cell_type": "code",
   "execution_count": 6,
   "id": "89dfc3ba",
   "metadata": {},
   "outputs": [
    {
     "data": {
      "text/plain": [
       "'상(上)이 삭전(朔奠)001) 을 지내고 상식(上食)002) 을 올렸다.'"
      ]
     },
     "execution_count": 6,
     "metadata": {},
     "output_type": "execute_result"
    }
   ],
   "source": [
    "txt"
   ]
  },
  {
   "cell_type": "code",
   "execution_count": 4,
   "id": "187391b4",
   "metadata": {},
   "outputs": [],
   "source": [
    "pattern = re.compile(\"\\(.*?\\)\") \n",
    "# match, search, findall 할 수 있음!\n",
    "# \\ 가 붙은건 메타문자가 아니라는 걸 나타내는 것. 메타문자를 탈출하는 거 \n",
    "# ? 의미는 non-greedy 이게 없다면 전체가 ()가 나올 것임"
   ]
  },
  {
   "cell_type": "code",
   "execution_count": 5,
   "id": "3d213175",
   "metadata": {},
   "outputs": [
    {
     "data": {
      "text/plain": [
       "re.compile(r'\\(.*?\\)', re.UNICODE)"
      ]
     },
     "execution_count": 5,
     "metadata": {},
     "output_type": "execute_result"
    }
   ],
   "source": [
    "pattern"
   ]
  },
  {
   "cell_type": "code",
   "execution_count": 10,
   "id": "0f01c363",
   "metadata": {},
   "outputs": [],
   "source": [
    "pattern.match(txt) # 맨 처음 글자랑 매치가 된건지?"
   ]
  },
  {
   "cell_type": "code",
   "execution_count": 11,
   "id": "016e4936",
   "metadata": {},
   "outputs": [
    {
     "data": {
      "text/plain": [
       "<re.Match object; span=(1, 4), match='(上)'>"
      ]
     },
     "execution_count": 11,
     "metadata": {},
     "output_type": "execute_result"
    }
   ],
   "source": [
    "pattern.match(txt,1) # 위치값을 알아야만 parsing이 되어 많이 쓰이진 않음"
   ]
  },
  {
   "cell_type": "code",
   "execution_count": 18,
   "id": "3db145d3",
   "metadata": {},
   "outputs": [],
   "source": []
  },
  {
   "cell_type": "code",
   "execution_count": null,
   "id": "b2863c66",
   "metadata": {},
   "outputs": [],
   "source": []
  },
  {
   "cell_type": "code",
   "execution_count": 12,
   "id": "900e32d9",
   "metadata": {},
   "outputs": [
    {
     "data": {
      "text/plain": [
       "<re.Match object; span=(1, 4), match='(上)'>"
      ]
     },
     "execution_count": 12,
     "metadata": {},
     "output_type": "execute_result"
    }
   ],
   "source": [
    "pattern.search(txt)"
   ]
  },
  {
   "cell_type": "code",
   "execution_count": 13,
   "id": "94efcecb",
   "metadata": {},
   "outputs": [
    {
     "data": {
      "text/plain": [
       "['(上)', '(朔奠)', '(上食)']"
      ]
     },
     "execution_count": 13,
     "metadata": {},
     "output_type": "execute_result"
    }
   ],
   "source": [
    "pattern.findall(txt) # 보통 findall을 가장 많이 씀"
   ]
  },
  {
   "cell_type": "code",
   "execution_count": 15,
   "id": "93f450c2",
   "metadata": {},
   "outputs": [
    {
     "data": {
      "text/plain": [
       "<callable_iterator at 0x180086b7d90>"
      ]
     },
     "execution_count": 15,
     "metadata": {},
     "output_type": "execute_result"
    }
   ],
   "source": [
    "pattern.finditer(txt) # 뽑아져 나오는 거 계속 돌돌이로 말려있는 상태"
   ]
  },
  {
   "cell_type": "code",
   "execution_count": 17,
   "id": "f98680c5",
   "metadata": {},
   "outputs": [
    {
     "data": {
      "text/plain": [
       "[<re.Match object; span=(1, 4), match='(上)'>,\n",
       " <re.Match object; span=(8, 12), match='(朔奠)'>,\n",
       " <re.Match object; span=(25, 29), match='(上食)'>]"
      ]
     },
     "execution_count": 17,
     "metadata": {},
     "output_type": "execute_result"
    }
   ],
   "source": [
    "[i for i in pattern.finditer(txt)]"
   ]
  },
  {
   "cell_type": "code",
   "execution_count": 14,
   "id": "a0231db1",
   "metadata": {
    "scrolled": true
   },
   "outputs": [
    {
     "name": "stdout",
     "output_type": "stream",
     "text": [
      "<re.Match object; span=(1, 4), match='(上)'>\n",
      "<re.Match object; span=(8, 12), match='(朔奠)'>\n",
      "<re.Match object; span=(25, 29), match='(上食)'>\n"
     ]
    }
   ],
   "source": [
    "for t in pattern.finditer(txt):\n",
    "    print(t)"
   ]
  },
  {
   "cell_type": "code",
   "execution_count": 22,
   "id": "722b7394",
   "metadata": {},
   "outputs": [
    {
     "data": {
      "text/plain": [
       "'상이 삭전001) 을 지내고 상식002) 을 올렸다.'"
      ]
     },
     "execution_count": 22,
     "metadata": {},
     "output_type": "execute_result"
    }
   ],
   "source": [
    "pattern.sub('',txt) #패턴이 들어간걸  ''로 대체"
   ]
  },
  {
   "cell_type": "code",
   "execution_count": 23,
   "id": "7560b96a",
   "metadata": {},
   "outputs": [
    {
     "data": {
      "text/plain": [
       "'상**한문**이 삭전**한문**001) 을 지내고 상식**한문**002) 을 올렸다.'"
      ]
     },
     "execution_count": 23,
     "metadata": {},
     "output_type": "execute_result"
    }
   ],
   "source": [
    "pattern.sub('**한문**', txt)"
   ]
  },
  {
   "cell_type": "code",
   "execution_count": 24,
   "id": "0f66d6d3",
   "metadata": {},
   "outputs": [
    {
     "data": {
      "text/plain": [
       "['ete', '']"
      ]
     },
     "execution_count": 24,
     "metadata": {},
     "output_type": "execute_result"
    }
   ],
   "source": [
    "re.findall('.*', 'ete') #.* 아무문자나 있으면 뽑아라! 0번 있어도 뽑아라."
   ]
  },
  {
   "cell_type": "code",
   "execution_count": 25,
   "id": "79e875ef",
   "metadata": {},
   "outputs": [
    {
     "data": {
      "text/plain": [
       "['ete']"
      ]
     },
     "execution_count": 25,
     "metadata": {},
     "output_type": "execute_result"
    }
   ],
   "source": [
    "re.findall('.+', 'ete') #.+ 여기서는 맨 앞에 비어있는게 안나옴!"
   ]
  },
  {
   "cell_type": "markdown",
   "id": "cc4bd016",
   "metadata": {},
   "source": [
    "### [ ] 문자 집합 이용하기."
   ]
  },
  {
   "cell_type": "code",
   "execution_count": 26,
   "id": "eaf57ef5",
   "metadata": {},
   "outputs": [
    {
     "data": {
      "text/plain": [
       "'상(上)이 삭전(朔奠)**숫자**을 지내고 상식(上食)**숫자**을 올렸다.'"
      ]
     },
     "execution_count": 26,
     "metadata": {},
     "output_type": "execute_result"
    }
   ],
   "source": [
    "txt = '''상(上)이 삭전(朔奠)001) 을 지내고 상식(上食)002) 을 올렸다.'''\n",
    "pattern = re.compile(\"[0-9]{3}\\) \")\n",
    "pattern.sub('**숫자**', txt)"
   ]
  },
  {
   "cell_type": "code",
   "execution_count": 28,
   "id": "eb498e22",
   "metadata": {},
   "outputs": [
    {
     "data": {
      "text/plain": [
       "'상(上)이 삭전(朔奠)**숫자**을 지내고 상식(上食)**숫자**을 올렸다.'"
      ]
     },
     "execution_count": 28,
     "metadata": {},
     "output_type": "execute_result"
    }
   ],
   "source": [
    "txt = '''상(上)이 삭전(朔奠)001) 을 지내고 상식(上食)002) 을 올렸다.'''\n",
    "pattern = re.compile(\"[0-9]{3,}\\) \")\n",
    "pattern.sub('**숫자**', txt)"
   ]
  },
  {
   "cell_type": "code",
   "execution_count": 27,
   "id": "2ca5cc75",
   "metadata": {},
   "outputs": [
    {
     "data": {
      "text/plain": [
       "'상(上)이 삭전(朔奠)**숫자**을 지내고 상식(上食)**숫자**을 올렸다.'"
      ]
     },
     "execution_count": 27,
     "metadata": {},
     "output_type": "execute_result"
    }
   ],
   "source": [
    "txt = '''상(上)이 삭전(朔奠)001) 을 지내고 상식(上食)002) 을 올렸다.'''\n",
    "pattern = re.compile(\"[0-9][0-9][0-9]\\) \")\n",
    "pattern.sub('**숫자**', txt)"
   ]
  },
  {
   "cell_type": "code",
   "execution_count": 29,
   "id": "2b1863f7",
   "metadata": {},
   "outputs": [
    {
     "data": {
      "text/plain": [
       "'상(上)이 삭전(朔奠)**숫자**을 지내고 상식(上食)**숫자**을 올렸다.'"
      ]
     },
     "execution_count": 29,
     "metadata": {},
     "output_type": "execute_result"
    }
   ],
   "source": [
    "txt = '''상(上)이 삭전(朔奠)001) 을 지내고 상식(上食)002) 을 올렸다.'''\n",
    "pattern = re.compile(\"[0-9]+\\) \")\n",
    "pattern.sub('**숫자**', txt)"
   ]
  },
  {
   "cell_type": "code",
   "execution_count": 30,
   "id": "478a32ea",
   "metadata": {},
   "outputs": [
    {
     "data": {
      "text/plain": [
       "'상(上)이 삭전(朔奠)**숫자**을 지내고 상식(上食)**숫자**을 올렸다.'"
      ]
     },
     "execution_count": 30,
     "metadata": {},
     "output_type": "execute_result"
    }
   ],
   "source": [
    "txt = '''상(上)이 삭전(朔奠)001) 을 지내고 상식(上食)002) 을 올렸다.'''\n",
    "pattern = re.compile(\"[0-9]*\\) \")\n",
    "pattern.sub('**숫자**', txt)"
   ]
  },
  {
   "cell_type": "markdown",
   "id": "69c61cc5",
   "metadata": {},
   "source": [
    "### . : 모든 문자"
   ]
  },
  {
   "cell_type": "code",
   "execution_count": 31,
   "id": "deac4c6b",
   "metadata": {},
   "outputs": [
    {
     "data": {
      "text/plain": [
       "['충렬왕', '충선왕', '충숙왕', '충혜왕', '충목왕', '충정왕']"
      ]
     },
     "execution_count": 31,
     "metadata": {},
     "output_type": "execute_result"
    }
   ],
   "source": [
    "koryeo_kings = '충렬왕, 충선왕, 충숙왕, 충혜왕, 충목왕, 충정왕, 공민왕'\n",
    "pattern = re.compile(\"충.왕\")\n",
    "pattern.findall(koryeo_kings)"
   ]
  },
  {
   "cell_type": "code",
   "execution_count": 32,
   "id": "c5a426bb",
   "metadata": {},
   "outputs": [
    {
     "data": {
      "text/plain": [
       "['충선숙왕']"
      ]
     },
     "execution_count": 32,
     "metadata": {},
     "output_type": "execute_result"
    }
   ],
   "source": [
    "koryeo_kings = '충렬왕, 충선왕, 충숙왕, 충혜왕, 충목왕, 충정왕, 공민왕, 충선숙왕'\n",
    "pattern = re.compile(\"충..왕\")\n",
    "pattern.findall(koryeo_kings)"
   ]
  },
  {
   "cell_type": "markdown",
   "id": "4641911e",
   "metadata": {},
   "source": [
    "### * : 앞에 문자가 0부터 무한대로 반복 가능."
   ]
  },
  {
   "cell_type": "code",
   "execution_count": 33,
   "id": "daaa6b1b",
   "metadata": {},
   "outputs": [
    {
     "data": {
      "text/plain": [
       "'아아아아아주'"
      ]
     },
     "execution_count": 33,
     "metadata": {},
     "output_type": "execute_result"
    }
   ],
   "source": [
    "phrase = '성균관대학교 학생들은 아아아아아주 성실하다.'\n",
    "pattern = re.compile(\"아*주\")\n",
    "pattern.search(phrase)[0]"
   ]
  },
  {
   "cell_type": "code",
   "execution_count": 34,
   "id": "e1cb8943",
   "metadata": {},
   "outputs": [
    {
     "data": {
      "text/plain": [
       "'아아아아아주'"
      ]
     },
     "execution_count": 34,
     "metadata": {},
     "output_type": "execute_result"
    }
   ],
   "source": [
    "phrase = '성균관대학교 학생들은 아아아아아주 성실하다.'\n",
    "pattern = re.compile(\"아+주\")\n",
    "pattern.search(phrase)[0]"
   ]
  },
  {
   "cell_type": "markdown",
   "id": "64835028",
   "metadata": {},
   "source": [
    "### + : 최소 1번 이상 반복되어야 함."
   ]
  },
  {
   "cell_type": "code",
   "execution_count": 38,
   "id": "f60d7536",
   "metadata": {},
   "outputs": [
    {
     "data": {
      "text/plain": [
       "'SKKU'"
      ]
     },
     "execution_count": 38,
     "metadata": {},
     "output_type": "execute_result"
    }
   ],
   "source": [
    "univ = 'SKKU'\n",
    "pattern = re.compile(\"SK+U\")\n",
    "pattern.search(univ)[0]"
   ]
  },
  {
   "cell_type": "markdown",
   "id": "adc663f2",
   "metadata": {},
   "source": [
    "### {m, n} : 최소 m번, 최대 n번까지 반복(생략 가능)"
   ]
  },
  {
   "cell_type": "code",
   "execution_count": 36,
   "id": "197cfd77",
   "metadata": {},
   "outputs": [
    {
     "data": {
      "text/plain": [
       "[]"
      ]
     },
     "execution_count": 36,
     "metadata": {},
     "output_type": "execute_result"
    }
   ],
   "source": [
    "univ = 'SKKKKKKKKKKKKKKKU'\n",
    "pattern = re.compile(\"SK{2,3}U\")\n",
    "pattern.findall(univ)"
   ]
  },
  {
   "cell_type": "markdown",
   "id": "6aef4c92",
   "metadata": {},
   "source": [
    "### ? : {0, 1}과 동일함. 있어도 되고 없어도 되고.\n"
   ]
  },
  {
   "cell_type": "code",
   "execution_count": 44,
   "id": "589f5f69",
   "metadata": {},
   "outputs": [
    {
     "data": {
      "text/plain": [
       "['서울시', '인천시', '대전', '안양', '제주']"
      ]
     },
     "execution_count": 44,
     "metadata": {},
     "output_type": "execute_result"
    }
   ],
   "source": [
    "cities = '서울시 인천시 대전 안양 제주'\n",
    "pattern = re.compile(\"[가-힣]{2}시?\")\n",
    "pattern.findall(cities)"
   ]
  },
  {
   "cell_type": "code",
   "execution_count": 45,
   "id": "3d1e0e72",
   "metadata": {},
   "outputs": [
    {
     "data": {
      "text/plain": [
       "['서울', '인천', '대전', '안양', '제주']"
      ]
     },
     "execution_count": 45,
     "metadata": {},
     "output_type": "execute_result"
    }
   ],
   "source": [
    "cities = '서울시 인천시 대전 안양 제주'\n",
    "pattern = re.compile(\"[가-힣]{2}?\")\n",
    "pattern.findall(cities)"
   ]
  },
  {
   "cell_type": "code",
   "execution_count": 47,
   "id": "6cba27b3",
   "metadata": {},
   "outputs": [
    {
     "data": {
      "text/plain": [
       "['서울', '인천', '대전', '전전', '안양', '제주']"
      ]
     },
     "execution_count": 47,
     "metadata": {},
     "output_type": "execute_result"
    }
   ],
   "source": [
    "cities = '서울시 인천시 대전전전 안양 제주'\n",
    "pattern = re.compile(\"[가-힣]{2}?\")\n",
    "pattern.findall(cities)"
   ]
  },
  {
   "cell_type": "markdown",
   "id": "d226c41e",
   "metadata": {},
   "source": [
    "### | : or 와 동일한 의미"
   ]
  },
  {
   "cell_type": "code",
   "execution_count": 48,
   "id": "18ece55e",
   "metadata": {},
   "outputs": [
    {
     "data": {
      "text/plain": [
       "['태조',\n",
       " '정종',\n",
       " '태종',\n",
       " '세종',\n",
       " '문종',\n",
       " '단종',\n",
       " '세조',\n",
       " '예종',\n",
       " '성종',\n",
       " '중종',\n",
       " '인종',\n",
       " '명종',\n",
       " '선조',\n",
       " '인조',\n",
       " '효종',\n",
       " '현종',\n",
       " '숙종',\n",
       " '경종',\n",
       " '영조',\n",
       " '정조',\n",
       " '순조',\n",
       " '헌종',\n",
       " '철종',\n",
       " '고종',\n",
       " '순종']"
      ]
     },
     "execution_count": 48,
     "metadata": {},
     "output_type": "execute_result"
    }
   ],
   "source": [
    "joseon_kings = '태조 정종 태종 세종 문종 단종 세조 예종 성종 연산군 중종 인종 명종 선조 광해군 인조 효종 현종 숙종 경종 영조 정조 순조 헌종 철종 고종 순종'\n",
    "pattern = re.compile(\".[종|조]\") # 아무글자하나 + 종이나 조 있는 거\n",
    "pattern.findall(joseon_kings)"
   ]
  },
  {
   "cell_type": "markdown",
   "id": "e043c9a5",
   "metadata": {},
   "source": [
    "### ^: 문자열의 맨 처음과 일치함."
   ]
  },
  {
   "cell_type": "code",
   "execution_count": 49,
   "id": "12f3717b",
   "metadata": {},
   "outputs": [
    {
     "data": {
      "text/plain": [
       "['충렬왕']"
      ]
     },
     "execution_count": 49,
     "metadata": {},
     "output_type": "execute_result"
    }
   ],
   "source": [
    "koryeo_kings = '충렬왕, 충선왕, 충숙왕, 충혜왕, 충목왕, 충정왕, 공민왕'\n",
    "pattern = re.compile(\"^충.{2}(?=,)\")\n",
    "pattern.findall(koryeo_kings)"
   ]
  },
  {
   "cell_type": "markdown",
   "id": "286086d1",
   "metadata": {},
   "source": [
    "### $:  문자열의 맨 끝과 일치함"
   ]
  },
  {
   "cell_type": "code",
   "execution_count": 50,
   "id": "85d2ff49",
   "metadata": {},
   "outputs": [
    {
     "data": {
      "text/plain": [
       "['우리는 모두 성균인']"
      ]
     },
     "execution_count": 50,
     "metadata": {},
     "output_type": "execute_result"
    }
   ],
   "source": [
    "phrase = \"우리는 모두 성균인\"\n",
    "pattern = re.compile(\"^우.*인$\")\n",
    "pattern.findall(phrase)"
   ]
  },
  {
   "cell_type": "code",
   "execution_count": 55,
   "id": "9002734f",
   "metadata": {},
   "outputs": [
    {
     "data": {
      "text/plain": [
       "[]"
      ]
     },
     "execution_count": 55,
     "metadata": {},
     "output_type": "execute_result"
    }
   ],
   "source": [
    "phrase = \"우리는 모두 성균인\"\n",
    "pattern = re.compile(\"^성.*인$\")\n",
    "pattern.findall(phrase)"
   ]
  },
  {
   "cell_type": "markdown",
   "id": "663798c6",
   "metadata": {},
   "source": [
    "### \\d : 모든 숫자와 일치"
   ]
  },
  {
   "cell_type": "code",
   "execution_count": 57,
   "id": "8d2eb51d",
   "metadata": {},
   "outputs": [
    {
     "data": {
      "text/plain": [
       "'상(上)이 삭전(朔奠)**숫자**을 지내고 상식(上食)**숫자**을 올렸다.'"
      ]
     },
     "execution_count": 57,
     "metadata": {},
     "output_type": "execute_result"
    }
   ],
   "source": [
    "txt = '''상(上)이 삭전(朔奠)001) 을 지내고 상식(上食)002) 을 올렸다.'''\n",
    "pattern = re.compile(r\"[0-9]+\\) \") # r 이 있어도 되고 없어도 되고 # 붙이는 습관으로 \n",
    "pattern.sub('**숫자**', txt)"
   ]
  },
  {
   "cell_type": "code",
   "execution_count": null,
   "id": "49c34075",
   "metadata": {},
   "outputs": [],
   "source": [
    "txt = '''상(上)이 삭전(朔奠)001) 을 지내고 상식(上食)002) 을 올렸다.'''\n",
    "pattern = re.compile(r\"\\d+\\) \") # \n",
    "pattern.sub('**숫자**', txt)"
   ]
  },
  {
   "cell_type": "markdown",
   "id": "65a63c1c",
   "metadata": {},
   "source": [
    "### \\s : 모든 공백 문자와 동일. [ \\t\\n\\r\\f\\v] 와 동일함."
   ]
  },
  {
   "cell_type": "code",
   "execution_count": 59,
   "id": "642ee36e",
   "metadata": {},
   "outputs": [
    {
     "data": {
      "text/plain": [
       "'상(上)이 삭전(朔奠)**숫자**을 지내고 상식(上食)**숫자**을 올렸다.'"
      ]
     },
     "execution_count": 59,
     "metadata": {},
     "output_type": "execute_result"
    }
   ],
   "source": [
    "txt = '''상(上)이 삭전(朔奠)001) 을 지내고 상식(上食)002) 을 올렸다.'''\n",
    "pattern = re.compile(r\"\\d+\\)\\s\")\n",
    "pattern.sub('**숫자**', txt)"
   ]
  },
  {
   "cell_type": "code",
   "execution_count": 61,
   "id": "b2d7224d",
   "metadata": {},
   "outputs": [
    {
     "data": {
      "text/plain": [
       "'상(上)이 삭전(朔奠)**숫자**을 지내고 상식(上食)**숫자**을 올렸다.'"
      ]
     },
     "execution_count": 61,
     "metadata": {},
     "output_type": "execute_result"
    }
   ],
   "source": [
    "txt = '''상(上)이 삭전(朔奠)001) 을 지내고 상식(上食)002) 을 올렸다.'''\n",
    "pattern = re.compile(r\"\\d+\\) \") #그냥 띄어줘도 되긴함\n",
    "pattern.sub('**숫자**', txt)"
   ]
  },
  {
   "cell_type": "markdown",
   "id": "10408346",
   "metadata": {},
   "source": [
    "### \\w: 모든 문자와 동일함"
   ]
  },
  {
   "cell_type": "code",
   "execution_count": 62,
   "id": "f7833066",
   "metadata": {},
   "outputs": [
    {
     "data": {
      "text/plain": [
       "'상**한자**이 삭전**한자**001) 을 지내고 상식**한자**002) 을 올렸다.'"
      ]
     },
     "execution_count": 62,
     "metadata": {},
     "output_type": "execute_result"
    }
   ],
   "source": [
    "txt = '''상(上)이 삭전(朔奠)001) 을 지내고 상식(上食)002) 을 올렸다.'''\n",
    "pattern = re.compile(\"\\(\\w+\\)\")\n",
    "pattern.sub('**한자**', txt)"
   ]
  },
  {
   "cell_type": "code",
   "execution_count": 63,
   "id": "2ab311b6",
   "metadata": {},
   "outputs": [
    {
     "data": {
      "text/plain": [
       "['hyeshinoh@gmail.com', 'panda706@naver.com']"
      ]
     },
     "execution_count": 63,
     "metadata": {},
     "output_type": "execute_result"
    }
   ],
   "source": [
    "s = \"저의 이메일 주소는 hyeshinoh@gmail.com입니다. 또한 panda706@naver.com도 가지고 있습니다.\"\n",
    "p = \"[0-9a-zA-Z]+@[0-9a-z]+\\.[0-9a-z]+\"          # \\. : 패턴이 아니고 \".\"을 문자 자체로 사용\n",
    "# result = True if re.search(p, s) else False\n",
    "# print(result, re.findall(p, s))\n",
    "re.findall(p, s)"
   ]
  },
  {
   "cell_type": "code",
   "execution_count": 64,
   "id": "4b3102ef",
   "metadata": {},
   "outputs": [
    {
     "name": "stdout",
     "output_type": "stream",
     "text": [
      "['870101-1234567']\n",
      "[('870101', '1234567')]\n"
     ]
    },
    {
     "data": {
      "text/plain": [
       "'저의 전화번호는 010-1111-2222이고 주민등록번호는 870101-******** 입니다'"
      ]
     },
     "execution_count": 64,
     "metadata": {},
     "output_type": "execute_result"
    }
   ],
   "source": [
    "s = \"저의 전화번호는 010-1111-2222이고 주민등록번호는 870101-1234567 입니다\"\n",
    "p = \"[0-9]{6}\\-[0-9]{7}\"          # \\(escaping)을 안해줘도 문제는 없음\n",
    "print(re.findall(p, s))\n",
    "p = \"([0-9]{6})\\-([0-9]{7})\"      # 그룹핑\n",
    "print(re.findall(p, s))\n",
    "re.sub(p, \"\\g<1>-********\", s)    # \\g<1> : 그룹핑 첫번째(0부터 세지 않음. 앞의 그룹) 데이터 사용\n",
    "#그룹핑은 몰라도 괜찮음 수업에서 안배웠어"
   ]
  },
  {
   "cell_type": "markdown",
   "id": "5fc08272",
   "metadata": {},
   "source": [
    "### 실습과 참고자료"
   ]
  },
  {
   "cell_type": "markdown",
   "id": "360d7037",
   "metadata": {},
   "source": [
    "#### [정규표현식 연습하기](https://regexone.com/)\n",
    "#### [정규표현식 온라인 테스트](https://regex101.com/)\n",
    "#### [정규표현식 온라인 분석기](https://regexr.com/)"
   ]
  },
  {
   "cell_type": "code",
   "execution_count": null,
   "id": "edb14553",
   "metadata": {},
   "outputs": [],
   "source": []
  }
 ],
 "metadata": {
  "kernelspec": {
   "display_name": "Python 3",
   "language": "python",
   "name": "python3"
  },
  "language_info": {
   "codemirror_mode": {
    "name": "ipython",
    "version": 3
   },
   "file_extension": ".py",
   "mimetype": "text/x-python",
   "name": "python",
   "nbconvert_exporter": "python",
   "pygments_lexer": "ipython3",
   "version": "3.8.8"
  }
 },
 "nbformat": 4,
 "nbformat_minor": 5
}
