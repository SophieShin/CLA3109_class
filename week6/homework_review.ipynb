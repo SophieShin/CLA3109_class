{
 "cells": [
  {
   "cell_type": "code",
   "execution_count": 1,
   "id": "cd2274fe",
   "metadata": {},
   "outputs": [],
   "source": [
    "import pandas as pd\n",
    "import numpy as np\n",
    "president_data  = {'name': ['이승만', '윤보선', '박정희', '최규하', '전두환', '노태우',\n",
    "                       '김영삼', '김대중', '노무현', '이명박', '박근혜', '문재인'],\n",
    "        'turnout': [91.8, 79.1, 46.6, 96.3, 99.4, 36.6,\n",
    "                    42, 40.3, 48.9, 48.7, 51.6,41.1],\n",
    "        'jail': ['no', 'no', 'no', 'no', 'yes', 'yes',\n",
    "                'no', 'no', 'no','yes','yes',np.nan],\n",
    "        'period':[4273, 588, 5793, 255, 2733, 1827, 1826, 1825, 1826, 1827, 1474, 1780]}\n",
    "labels = ['가', '나', '다', '라', '마', '바', '사', '아', '자', '차','카','타']\n",
    "presidents = pd.DataFrame(president_data, index=labels )"
   ]
  },
  {
   "cell_type": "markdown",
   "id": "7e1d9e24",
   "metadata": {},
   "source": [
    "### Q1. 위 presidents DataFrame에서 대통령을 period(재임기간) 5년 미만, 5년 이상 ~ 10년 미만, 10년 이상을 기준으로 Grouping 하고 그룹별로 turnout(득표율)의 평균을 Series로 보여주는 코드를 작성하세요."
   ]
  },
  {
   "cell_type": "code",
   "execution_count": 4,
   "id": "dcda5603",
   "metadata": {},
   "outputs": [],
   "source": [
    "df = pd.Series(presidents.groupby(\n",
    "    pd.cut(presidents['period'], [0, 1825, 3650, presidents['period'].max()], right = False #미만 표시,\n",
    "           labels = ['5년 미만', '5년 이상 ~ 10년 미만', '10년 이상']))['turnout'].mean()\n",
    "         )"
   ]
  },
  {
   "cell_type": "code",
   "execution_count": 5,
   "id": "79982dbc",
   "metadata": {},
   "outputs": [
    {
     "data": {
      "text/html": [
       "<div>\n",
       "<style scoped>\n",
       "    .dataframe tbody tr th:only-of-type {\n",
       "        vertical-align: middle;\n",
       "    }\n",
       "\n",
       "    .dataframe tbody tr th {\n",
       "        vertical-align: top;\n",
       "    }\n",
       "\n",
       "    .dataframe thead th {\n",
       "        text-align: right;\n",
       "    }\n",
       "</style>\n",
       "<table border=\"1\" class=\"dataframe\">\n",
       "  <thead>\n",
       "    <tr style=\"text-align: right;\">\n",
       "      <th></th>\n",
       "      <th>period</th>\n",
       "      <th>turnout</th>\n",
       "    </tr>\n",
       "  </thead>\n",
       "  <tbody>\n",
       "    <tr>\n",
       "      <th>0</th>\n",
       "      <td>5년 미만</td>\n",
       "      <td>61.68</td>\n",
       "    </tr>\n",
       "    <tr>\n",
       "      <th>1</th>\n",
       "      <td>5년 이상 ~ 10년 미만</td>\n",
       "      <td>55.12</td>\n",
       "    </tr>\n",
       "    <tr>\n",
       "      <th>2</th>\n",
       "      <td>10년 이상</td>\n",
       "      <td>69.20</td>\n",
       "    </tr>\n",
       "  </tbody>\n",
       "</table>\n",
       "</div>"
      ],
      "text/plain": [
       "           period  turnout\n",
       "0           5년 미만    61.68\n",
       "1  5년 이상 ~ 10년 미만    55.12\n",
       "2          10년 이상    69.20"
      ]
     },
     "execution_count": 5,
     "metadata": {},
     "output_type": "execute_result"
    }
   ],
   "source": [
    "pd.DataFrame(df).reset_index()"
   ]
  },
  {
   "cell_type": "code",
   "execution_count": null,
   "id": "c18eb331",
   "metadata": {},
   "outputs": [],
   "source": []
  },
  {
   "cell_type": "markdown",
   "id": "1cc77bbb",
   "metadata": {},
   "source": [
    "### Q2. 위 presidents DataFrame에서 1. turnout(득표율) 50% 미만/이상, 2. jail(대통령 역임 후 수감) 여부   2가지로 Grouping하고 그룹별로 period(재임기간)의 평균을 Series로 보여주는 코드를 작성하세요."
   ]
  },
  {
   "cell_type": "code",
   "execution_count": 8,
   "id": "b49619b9",
   "metadata": {},
   "outputs": [
    {
     "data": {
      "text/plain": [
       "turnout  jail\n",
       "50% 미만   no      2817.500000\n",
       "         yes     1827.000000\n",
       "50% 이상   no      1705.333333\n",
       "         yes     2103.500000\n",
       "Name: period, dtype: float64"
      ]
     },
     "execution_count": 8,
     "metadata": {},
     "output_type": "execute_result"
    }
   ],
   "source": [
    "pd.Series(presidents.groupby(\n",
    "    [pd.cut(presidents['turnout'], [0, 50, 100],\n",
    "        labels = ['50% 미만', '50% 이상'], right = False), 'jail'])['period'].mean()\n",
    "         )"
   ]
  },
  {
   "cell_type": "markdown",
   "id": "b9d820d1",
   "metadata": {},
   "source": [
    "### Q3. 다음 인종실록 데이터에서 category(기사주제)의 숫자를 기준으로 Grouping하고, 그룹별로 content_length(기사 길이)의 평균을 Series로 보여주는 코드를 작성하세요."
   ]
  },
  {
   "cell_type": "code",
   "execution_count": 9,
   "id": "429e32d5",
   "metadata": {},
   "outputs": [
    {
     "data": {
      "text/plain": [
       "category_len\n",
       "1     129.885827\n",
       "2     526.405556\n",
       "3     492.888889\n",
       "4     742.000000\n",
       "5    1260.607143\n",
       "6    1572.666667\n",
       "7    2747.000000\n",
       "8    5764.400000\n",
       "Name: content_length, dtype: float64"
      ]
     },
     "execution_count": 9,
     "metadata": {},
     "output_type": "execute_result"
    }
   ],
   "source": [
    "injong_sillok = pd.read_csv('injong_sillok.csv')\n",
    "injong_sillok['category_len'] = injong_sillok['category'].apply(eval).apply(len)\n",
    "injong_sillok['content_length'] = injong_sillok['content'].apply(len)\n",
    "pd.Series(injong_sillok.groupby(injong_sillok['category_len'])['content_length'].mean())"
   ]
  },
  {
   "cell_type": "code",
   "execution_count": null,
   "id": "60f58084",
   "metadata": {},
   "outputs": [],
   "source": []
  }
 ],
 "metadata": {
  "kernelspec": {
   "display_name": "Python 3",
   "language": "python",
   "name": "python3"
  },
  "language_info": {
   "codemirror_mode": {
    "name": "ipython",
    "version": 3
   },
   "file_extension": ".py",
   "mimetype": "text/x-python",
   "name": "python",
   "nbconvert_exporter": "python",
   "pygments_lexer": "ipython3",
   "version": "3.8.8"
  }
 },
 "nbformat": 4,
 "nbformat_minor": 5
}
