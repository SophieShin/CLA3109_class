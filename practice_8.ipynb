{
  "cells": [
    {
      "cell_type": "markdown",
      "metadata": {
        "id": "view-in-github",
        "colab_type": "text"
      },
      "source": [
        "<a href=\"https://colab.research.google.com/github/SophieShin/CLA3109_class/blob/main/practice_8.ipynb\" target=\"_parent\"><img src=\"https://colab.research.google.com/assets/colab-badge.svg\" alt=\"Open In Colab\"/></a>"
      ]
    },
    {
      "cell_type": "code",
      "execution_count": null,
      "id": "4e2ce026",
      "metadata": {
        "id": "4e2ce026"
      },
      "outputs": [],
      "source": [
        "!pip install tensorflow"
      ]
    },
    {
      "cell_type": "code",
      "execution_count": 1,
      "id": "933d53e1",
      "metadata": {
        "colab": {
          "base_uri": "https://localhost:8080/"
        },
        "id": "933d53e1",
        "outputId": "d9a763bc-0f9d-4069-e327-88264493ed3c"
      },
      "outputs": [
        {
          "output_type": "stream",
          "name": "stdout",
          "text": [
            "Tensorflow:  2.8.0\n"
          ]
        }
      ],
      "source": [
        "import tensorflow as tf\n",
        "print('Tensorflow: ', tf.__version__)\n",
        "import numpy as np\n",
        "import matplotlib.pyplot as plt"
      ]
    },
    {
      "cell_type": "code",
      "execution_count": 2,
      "id": "f3209c28",
      "metadata": {
        "colab": {
          "base_uri": "https://localhost:8080/"
        },
        "id": "f3209c28",
        "outputId": "c2143f10-f057-4956-e001-396b34daffbb"
      },
      "outputs": [
        {
          "output_type": "stream",
          "name": "stdout",
          "text": [
            "tf.Tensor(\n",
            "[[0 0 0 0]\n",
            " [0 0 0 0]\n",
            " [0 0 0 0]], shape=(3, 4), dtype=int32) \n",
            "\n",
            "tf.Tensor(\n",
            "[[1 1 1 1]\n",
            " [1 1 1 1]\n",
            " [1 1 1 1]], shape=(3, 4), dtype=int32) \n",
            "\n",
            "tf.Tensor([1.   2.5  4.6  5.75 9.7 ], shape=(5,), dtype=float32) \n",
            "\n",
            "tf.Tensor(\n",
            "[[ 0  1  2  3]\n",
            " [ 4  5  6  7]\n",
            " [ 8  9 10 11]\n",
            " [12 13 14 15]], shape=(4, 4), dtype=int64) \n",
            "\n",
            "tf.Tensor([1 2 3], shape=(3,), dtype=int64) \n",
            "\n",
            "[1 2 3]\n"
          ]
        }
      ],
      "source": [
        "# 0으로 채워진 3x4 tensor 만들기\n",
        "x = tf.zeros([3, 4], tf.int32)\n",
        "print(x, '\\n')\n",
        "\n",
        "# 1로 채워진 3x4 tensor 만들기\n",
        "x = tf.ones([3, 4], tf.int32)\n",
        "print(x, '\\n')\n",
        "\n",
        "# 상수값으로 채워진 1차원 tensor 만들기\n",
        "x = tf.constant([1, 2.5, 4.6, 5.75, 9.7])\n",
        "print(x, '\\n')\n",
        "\n",
        "# 상수값으로 채워진 2x2 tensor 만들기\n",
        "x = tf.constant((np.arange(16).reshape(4, 4)))\n",
        "print(x, '\\n')\n",
        "\n",
        "# numpy array를 tensor로 변환하기\n",
        "x = tf.convert_to_tensor(np.array([1,2,3]))\n",
        "print(x, '\\n')\n",
        "\n",
        "# tensor를 numpy로 변환하기\n",
        "x = x.numpy()\n",
        "print(x)"
      ]
    },
    {
      "cell_type": "markdown",
      "id": "ccd18207",
      "metadata": {
        "id": "ccd18207"
      },
      "source": [
        "### 연산하기"
      ]
    },
    {
      "cell_type": "code",
      "execution_count": 4,
      "id": "8afd6d86",
      "metadata": {
        "id": "8afd6d86"
      },
      "outputs": [],
      "source": [
        "A = tf.constant([\n",
        "    [4, 3],\n",
        "    [1, 1],\n",
        "], dtype=tf.float32, name='A')\n",
        "\n",
        "B = tf.constant([\n",
        "    [3, 5],\n",
        "    [1, 2],\n",
        "], dtype=tf.float32, name='B')"
      ]
    },
    {
      "cell_type": "code",
      "execution_count": 5,
      "id": "2e3d168b",
      "metadata": {
        "colab": {
          "base_uri": "https://localhost:8080/"
        },
        "id": "2e3d168b",
        "outputId": "391e18d4-cdfb-4516-844e-d6e96a74048d"
      },
      "outputs": [
        {
          "output_type": "stream",
          "name": "stdout",
          "text": [
            "A + B = tf.Tensor(\n",
            "[[7. 8.]\n",
            " [2. 3.]], shape=(2, 2), dtype=float32)\n"
          ]
        }
      ],
      "source": [
        "print('A + B =', tf.add(A, B))"
      ]
    },
    {
      "cell_type": "code",
      "execution_count": 6,
      "id": "2dc7ccd3",
      "metadata": {
        "colab": {
          "base_uri": "https://localhost:8080/"
        },
        "id": "2dc7ccd3",
        "outputId": "3ada3b64-9909-4c9b-aaf0-11fc1a3577ff"
      },
      "outputs": [
        {
          "output_type": "stream",
          "name": "stdout",
          "text": [
            "A - B = tf.Tensor(\n",
            "[[ 1. -2.]\n",
            " [ 0. -1.]], shape=(2, 2), dtype=float32)\n"
          ]
        }
      ],
      "source": [
        "print('A - B =', tf.subtract(A, B))"
      ]
    },
    {
      "cell_type": "code",
      "execution_count": 7,
      "id": "acaae261",
      "metadata": {
        "colab": {
          "base_uri": "https://localhost:8080/"
        },
        "id": "acaae261",
        "outputId": "a91ec35c-e310-4955-db36-21ae97da70c5"
      },
      "outputs": [
        {
          "output_type": "stream",
          "name": "stdout",
          "text": [
            "A ⨉ B = tf.Tensor(\n",
            "[[15. 26.]\n",
            " [ 4.  7.]], shape=(2, 2), dtype=float32)\n"
          ]
        }
      ],
      "source": [
        "print('A ⨉ B =', tf.matmul(A, B))"
      ]
    },
    {
      "cell_type": "code",
      "execution_count": 8,
      "id": "fe15a742",
      "metadata": {
        "colab": {
          "base_uri": "https://localhost:8080/"
        },
        "id": "fe15a742",
        "outputId": "010375ad-44e4-4f2b-c601-6e22cda46c17"
      },
      "outputs": [
        {
          "output_type": "stream",
          "name": "stdout",
          "text": [
            "A * B = tf.Tensor(\n",
            "[[12. 15.]\n",
            " [ 1.  2.]], shape=(2, 2), dtype=float32)\n"
          ]
        }
      ],
      "source": [
        "print('A * B =', tf.multiply(A, B))"
      ]
    },
    {
      "cell_type": "code",
      "execution_count": 9,
      "id": "990ec83e",
      "metadata": {
        "colab": {
          "base_uri": "https://localhost:8080/"
        },
        "id": "990ec83e",
        "outputId": "bcb98d01-e6a0-4a6e-9121-2ab824ab8da4"
      },
      "outputs": [
        {
          "output_type": "stream",
          "name": "stdout",
          "text": [
            "A² = tf.Tensor(\n",
            "[[16.  9.]\n",
            " [ 1.  1.]], shape=(2, 2), dtype=float32)\n"
          ]
        }
      ],
      "source": [
        "print('A² =', tf.square(A))"
      ]
    },
    {
      "cell_type": "code",
      "execution_count": 10,
      "id": "4df9dc93",
      "metadata": {
        "colab": {
          "base_uri": "https://localhost:8080/"
        },
        "id": "4df9dc93",
        "outputId": "55c358fd-df35-49b7-90c4-c1afb2a4b3e2"
      },
      "outputs": [
        {
          "output_type": "stream",
          "name": "stdout",
          "text": [
            "sum(A) = tf.Tensor(9.0, shape=(), dtype=float32)\n"
          ]
        }
      ],
      "source": [
        "print('sum(A) =', tf.reduce_sum(A))"
      ]
    },
    {
      "cell_type": "code",
      "execution_count": 11,
      "id": "6c1ac0de",
      "metadata": {
        "colab": {
          "base_uri": "https://localhost:8080/"
        },
        "id": "6c1ac0de",
        "outputId": "4621a74b-855e-4c66-8e48-c06ccbd8433f"
      },
      "outputs": [
        {
          "output_type": "stream",
          "name": "stdout",
          "text": [
            "det(A) = tf.Tensor(1.0, shape=(), dtype=float32)\n"
          ]
        }
      ],
      "source": [
        "print('det(A) =', tf.linalg.det(A))"
      ]
    },
    {
      "cell_type": "code",
      "execution_count": 12,
      "id": "2a8c992a",
      "metadata": {
        "colab": {
          "base_uri": "https://localhost:8080/"
        },
        "id": "2a8c992a",
        "outputId": "90889d8f-4f8d-460f-f1bb-557518f3b7e8"
      },
      "outputs": [
        {
          "output_type": "stream",
          "name": "stdout",
          "text": [
            "inv(A) = tf.Tensor(\n",
            "[[ 1. -3.]\n",
            " [-1.  4.]], shape=(2, 2), dtype=float32)\n"
          ]
        }
      ],
      "source": [
        "print('inv(A) =', tf.linalg.inv(A))"
      ]
    },
    {
      "cell_type": "code",
      "execution_count": 13,
      "id": "541b20e7",
      "metadata": {
        "colab": {
          "base_uri": "https://localhost:8080/"
        },
        "id": "541b20e7",
        "outputId": "00ccdf49-059c-4d51-e528-51fc5a128e0f"
      },
      "outputs": [
        {
          "output_type": "stream",
          "name": "stdout",
          "text": [
            "A ⨉ inv(A) = tf.Tensor(\n",
            "[[1. 0.]\n",
            " [0. 1.]], shape=(2, 2), dtype=float32)\n"
          ]
        }
      ],
      "source": [
        "print('A ⨉ inv(A) =', tf.matmul(A, tf.linalg.inv(A)))"
      ]
    },
    {
      "cell_type": "markdown",
      "id": "e938d0ba",
      "metadata": {
        "id": "e938d0ba"
      },
      "source": [
        "### Broadcasting"
      ]
    },
    {
      "cell_type": "markdown",
      "id": "fe0e9d43",
      "metadata": {
        "id": "fe0e9d43"
      },
      "source": [
        "Broadcasting은 NumPy에서 차용한 개념. 특정 조건에서 더 작은 텐서는 결합된 작업을 실행할 때 더 큰 텐서에 맞게 자동으로 \"늘어남\".\n",
        "\n",
        "가장 간단하고 일반적인 경우는 Scalar에 Tensor를 곱하거나 추가하려고 할 때로, Scalar는 다른 인수와 동일한 모양으로 Broadcasting됨."
      ]
    },
    {
      "cell_type": "code",
      "execution_count": 14,
      "id": "599cec59",
      "metadata": {
        "colab": {
          "base_uri": "https://localhost:8080/"
        },
        "id": "599cec59",
        "outputId": "5c9ff792-1d4a-4048-8219-858e7b5c18fa"
      },
      "outputs": [
        {
          "output_type": "stream",
          "name": "stdout",
          "text": [
            "A + 1 =  tf.Tensor(\n",
            "[[5. 4.]\n",
            " [2. 2.]], shape=(2, 2), dtype=float32)\n"
          ]
        }
      ],
      "source": [
        "print('A + 1 = ', tf.add(A, 1))"
      ]
    },
    {
      "cell_type": "markdown",
      "id": "81dbe2c4",
      "metadata": {
        "id": "81dbe2c4"
      },
      "source": [
        "### Tensor Shape"
      ]
    },
    {
      "cell_type": "markdown",
      "id": "988ac03c",
      "metadata": {
        "id": "988ac03c"
      },
      "source": [
        "- **Shape**: The length (number of elements) of each of the axes of a tensor.\n",
        "- **Rank**: Number of tensor axes. A scalar has rank 0, a vector has rank 1, a matrix is rank 2.\n",
        "- **Axis** or **Dimension**: A particular dimension of a tensor.\n",
        "- **Size**: The total number of items in the tensor, the product shape vector."
      ]
    },
    {
      "cell_type": "markdown",
      "id": "f802ba29",
      "metadata": {
        "id": "f802ba29"
      },
      "source": [
        "<img src=\"https://www.tensorflow.org/guide/images/tensor/shape2.png\" align=\"center\" width=\"400\"/>"
      ]
    },
    {
      "cell_type": "code",
      "execution_count": 15,
      "id": "106883e6",
      "metadata": {
        "colab": {
          "base_uri": "https://localhost:8080/"
        },
        "id": "106883e6",
        "outputId": "2c775ed6-6517-4889-8956-16fff903b9b7"
      },
      "outputs": [
        {
          "output_type": "execute_result",
          "data": {
            "text/plain": [
              "<tf.Tensor: shape=(3, 2, 4, 5), dtype=float32, numpy=\n",
              "array([[[[0., 0., 0., 0., 0.],\n",
              "         [0., 0., 0., 0., 0.],\n",
              "         [0., 0., 0., 0., 0.],\n",
              "         [0., 0., 0., 0., 0.]],\n",
              "\n",
              "        [[0., 0., 0., 0., 0.],\n",
              "         [0., 0., 0., 0., 0.],\n",
              "         [0., 0., 0., 0., 0.],\n",
              "         [0., 0., 0., 0., 0.]]],\n",
              "\n",
              "\n",
              "       [[[0., 0., 0., 0., 0.],\n",
              "         [0., 0., 0., 0., 0.],\n",
              "         [0., 0., 0., 0., 0.],\n",
              "         [0., 0., 0., 0., 0.]],\n",
              "\n",
              "        [[0., 0., 0., 0., 0.],\n",
              "         [0., 0., 0., 0., 0.],\n",
              "         [0., 0., 0., 0., 0.],\n",
              "         [0., 0., 0., 0., 0.]]],\n",
              "\n",
              "\n",
              "       [[[0., 0., 0., 0., 0.],\n",
              "         [0., 0., 0., 0., 0.],\n",
              "         [0., 0., 0., 0., 0.],\n",
              "         [0., 0., 0., 0., 0.]],\n",
              "\n",
              "        [[0., 0., 0., 0., 0.],\n",
              "         [0., 0., 0., 0., 0.],\n",
              "         [0., 0., 0., 0., 0.],\n",
              "         [0., 0., 0., 0., 0.]]]], dtype=float32)>"
            ]
          },
          "metadata": {},
          "execution_count": 15
        }
      ],
      "source": [
        "rank_4_tensor = tf.zeros([3, 2, 4, 5])\n",
        "rank_4_tensor"
      ]
    },
    {
      "cell_type": "code",
      "execution_count": 16,
      "id": "95b5b26d",
      "metadata": {
        "colab": {
          "base_uri": "https://localhost:8080/"
        },
        "id": "95b5b26d",
        "outputId": "61e2e24a-d2bc-4ed1-ce1a-a4e44db844d9"
      },
      "outputs": [
        {
          "output_type": "stream",
          "name": "stdout",
          "text": [
            "Type of every element: <dtype: 'float32'>\n"
          ]
        }
      ],
      "source": [
        "print(\"Type of every element:\", rank_4_tensor.dtype)"
      ]
    },
    {
      "cell_type": "code",
      "execution_count": 17,
      "id": "89ccbae7",
      "metadata": {
        "colab": {
          "base_uri": "https://localhost:8080/"
        },
        "id": "89ccbae7",
        "outputId": "a72543d4-1498-4af2-e7cf-ccadab2f0582"
      },
      "outputs": [
        {
          "output_type": "stream",
          "name": "stdout",
          "text": [
            "Number of axes: 4\n"
          ]
        }
      ],
      "source": [
        "print(\"Number of axes:\", rank_4_tensor.ndim)"
      ]
    },
    {
      "cell_type": "code",
      "execution_count": 19,
      "id": "75a4c809",
      "metadata": {
        "colab": {
          "base_uri": "https://localhost:8080/"
        },
        "id": "75a4c809",
        "outputId": "70b695da-7660-4a00-8280-58e337697100"
      },
      "outputs": [
        {
          "output_type": "stream",
          "name": "stdout",
          "text": [
            "Shape of tensor: (3, 2, 4, 5)\n"
          ]
        }
      ],
      "source": [
        "print(\"Shape of tensor:\", rank_4_tensor.shape)"
      ]
    },
    {
      "cell_type": "code",
      "execution_count": 20,
      "id": "e50ebe7e",
      "metadata": {
        "colab": {
          "base_uri": "https://localhost:8080/"
        },
        "id": "e50ebe7e",
        "outputId": "021c90eb-f0a6-4e8c-d555-e4317b5ec344"
      },
      "outputs": [
        {
          "output_type": "stream",
          "name": "stdout",
          "text": [
            "Elements along axis 0 of tensor: 3\n"
          ]
        }
      ],
      "source": [
        "print(\"Elements along axis 0 of tensor:\", rank_4_tensor.shape[0])"
      ]
    },
    {
      "cell_type": "code",
      "execution_count": 21,
      "id": "1469b95f",
      "metadata": {
        "colab": {
          "base_uri": "https://localhost:8080/"
        },
        "id": "1469b95f",
        "outputId": "6db29e45-b0a6-4754-9507-d6da0bc98480"
      },
      "outputs": [
        {
          "output_type": "stream",
          "name": "stdout",
          "text": [
            "Elements along the last axis of tensor: 5\n"
          ]
        }
      ],
      "source": [
        "print(\"Elements along the last axis of tensor:\", rank_4_tensor.shape[-1])"
      ]
    },
    {
      "cell_type": "code",
      "execution_count": 22,
      "id": "78917aa6",
      "metadata": {
        "colab": {
          "base_uri": "https://localhost:8080/"
        },
        "id": "78917aa6",
        "outputId": "20f0b487-9de1-4d86-e0f3-a97f73e08186"
      },
      "outputs": [
        {
          "output_type": "stream",
          "name": "stdout",
          "text": [
            "Total number of elements (3*2*4*5):  120\n"
          ]
        }
      ],
      "source": [
        "print(\"Total number of elements (3*2*4*5): \", tf.size(rank_4_tensor).numpy())"
      ]
    },
    {
      "cell_type": "markdown",
      "id": "850edcab",
      "metadata": {
        "id": "850edcab"
      },
      "source": [
        "### Indexing"
      ]
    },
    {
      "cell_type": "code",
      "execution_count": 23,
      "id": "49807e28",
      "metadata": {
        "colab": {
          "base_uri": "https://localhost:8080/"
        },
        "id": "49807e28",
        "outputId": "e1c693f2-fef9-4864-f960-02fe4e3e7754"
      },
      "outputs": [
        {
          "output_type": "stream",
          "name": "stdout",
          "text": [
            "[ 0  1  1  2  3  5  8 13 21 34]\n"
          ]
        }
      ],
      "source": [
        "rank_1_tensor = tf.constant([0, 1, 1, 2, 3, 5, 8, 13, 21, 34])\n",
        "print(rank_1_tensor.numpy())"
      ]
    },
    {
      "cell_type": "code",
      "execution_count": 24,
      "id": "cffb514d",
      "metadata": {
        "colab": {
          "base_uri": "https://localhost:8080/"
        },
        "id": "cffb514d",
        "outputId": "ef557e43-b992-4813-ea81-435f7944897e"
      },
      "outputs": [
        {
          "output_type": "stream",
          "name": "stdout",
          "text": [
            "First: 0\n"
          ]
        }
      ],
      "source": [
        "print(\"First:\", rank_1_tensor[0].numpy())"
      ]
    },
    {
      "cell_type": "code",
      "execution_count": 25,
      "id": "0f8f4b95",
      "metadata": {
        "colab": {
          "base_uri": "https://localhost:8080/"
        },
        "id": "0f8f4b95",
        "outputId": "320c01ee-0612-4651-c54f-7e7141dc5401"
      },
      "outputs": [
        {
          "output_type": "stream",
          "name": "stdout",
          "text": [
            "Second: 1\n"
          ]
        }
      ],
      "source": [
        "print(\"Second:\", rank_1_tensor[1].numpy())"
      ]
    },
    {
      "cell_type": "code",
      "execution_count": 26,
      "id": "26d6b79f",
      "metadata": {
        "colab": {
          "base_uri": "https://localhost:8080/"
        },
        "id": "26d6b79f",
        "outputId": "33d4087a-74b3-4a2c-b413-742fea0aa742"
      },
      "outputs": [
        {
          "output_type": "stream",
          "name": "stdout",
          "text": [
            "Last: 34\n"
          ]
        }
      ],
      "source": [
        "print(\"Last:\", rank_1_tensor[-1].numpy())"
      ]
    },
    {
      "cell_type": "code",
      "execution_count": 27,
      "id": "47bcdee2",
      "metadata": {
        "colab": {
          "base_uri": "https://localhost:8080/"
        },
        "id": "47bcdee2",
        "outputId": "be3bd0bb-dabf-4326-dbce-6600f9d095f8"
      },
      "outputs": [
        {
          "output_type": "stream",
          "name": "stdout",
          "text": [
            "Everything: [ 0  1  1  2  3  5  8 13 21 34]\n"
          ]
        }
      ],
      "source": [
        "print(\"Everything:\", rank_1_tensor[:].numpy())"
      ]
    },
    {
      "cell_type": "code",
      "execution_count": 28,
      "id": "c936c407",
      "metadata": {
        "colab": {
          "base_uri": "https://localhost:8080/"
        },
        "id": "c936c407",
        "outputId": "f352e0fe-d8a8-4b56-9624-700c65a7d1e0"
      },
      "outputs": [
        {
          "output_type": "stream",
          "name": "stdout",
          "text": [
            "Before 4: [0 1 1 2]\n"
          ]
        }
      ],
      "source": [
        "print(\"Before 4:\", rank_1_tensor[:4].numpy())"
      ]
    },
    {
      "cell_type": "code",
      "execution_count": 29,
      "id": "4e6ef9e0",
      "metadata": {
        "colab": {
          "base_uri": "https://localhost:8080/"
        },
        "id": "4e6ef9e0",
        "outputId": "11b81b82-320f-4975-97c2-0b8e980f2367"
      },
      "outputs": [
        {
          "output_type": "stream",
          "name": "stdout",
          "text": [
            "From 4 to the end: [ 3  5  8 13 21 34]\n"
          ]
        }
      ],
      "source": [
        "print(\"From 4 to the end:\", rank_1_tensor[4:].numpy())"
      ]
    },
    {
      "cell_type": "code",
      "execution_count": 30,
      "id": "e6105a9d",
      "metadata": {
        "colab": {
          "base_uri": "https://localhost:8080/"
        },
        "id": "e6105a9d",
        "outputId": "5fdcf726-f447-43d7-84f0-2c4bd2ad5eb4"
      },
      "outputs": [
        {
          "output_type": "stream",
          "name": "stdout",
          "text": [
            "From 2, before 7: [1 2 3 5 8]\n"
          ]
        }
      ],
      "source": [
        "print(\"From 2, before 7:\", rank_1_tensor[2:7].numpy())"
      ]
    },
    {
      "cell_type": "code",
      "execution_count": 31,
      "id": "37087c34",
      "metadata": {
        "colab": {
          "base_uri": "https://localhost:8080/"
        },
        "id": "37087c34",
        "outputId": "f8766f17-ec8e-4b9a-cec9-576a63c9b44d"
      },
      "outputs": [
        {
          "output_type": "stream",
          "name": "stdout",
          "text": [
            "Every other item: [ 0  1  3  8 21]\n"
          ]
        }
      ],
      "source": [
        "print(\"Every other item:\", rank_1_tensor[::2].numpy())"
      ]
    },
    {
      "cell_type": "code",
      "execution_count": 32,
      "id": "c55d1466",
      "metadata": {
        "colab": {
          "base_uri": "https://localhost:8080/"
        },
        "id": "c55d1466",
        "outputId": "332ef4f2-e9ed-4482-9baf-bb681682914f"
      },
      "outputs": [
        {
          "output_type": "stream",
          "name": "stdout",
          "text": [
            "Reversed: [34 21 13  8  5  3  2  1  1  0]\n"
          ]
        }
      ],
      "source": [
        "print(\"Reversed:\", rank_1_tensor[::-1].numpy())"
      ]
    },
    {
      "cell_type": "markdown",
      "id": "407c334c",
      "metadata": {
        "id": "407c334c"
      },
      "source": [
        "### Multi-axis indexing"
      ]
    },
    {
      "cell_type": "code",
      "execution_count": 33,
      "id": "14ac58a1",
      "metadata": {
        "colab": {
          "base_uri": "https://localhost:8080/"
        },
        "id": "14ac58a1",
        "outputId": "e6d077b2-f6c4-4ad2-db2e-482e24081704"
      },
      "outputs": [
        {
          "output_type": "stream",
          "name": "stdout",
          "text": [
            "[[1. 2.]\n",
            " [3. 4.]\n",
            " [5. 6.]]\n"
          ]
        }
      ],
      "source": [
        "rank_2_tensor = tf.constant([[1, 2],\n",
        "                             [3, 4],\n",
        "                             [5, 6]], dtype=tf.float16)\n",
        "\n",
        "print(rank_2_tensor.numpy())"
      ]
    },
    {
      "cell_type": "code",
      "execution_count": 34,
      "id": "ad9462f4",
      "metadata": {
        "colab": {
          "base_uri": "https://localhost:8080/"
        },
        "id": "ad9462f4",
        "outputId": "4b800522-cdc0-4510-f3b1-158688962290"
      },
      "outputs": [
        {
          "output_type": "stream",
          "name": "stdout",
          "text": [
            "4.0\n"
          ]
        }
      ],
      "source": [
        "print(rank_2_tensor[1, 1].numpy())"
      ]
    },
    {
      "cell_type": "code",
      "execution_count": 35,
      "id": "2a5aae20",
      "metadata": {
        "colab": {
          "base_uri": "https://localhost:8080/"
        },
        "id": "2a5aae20",
        "outputId": "25135949-ad94-405c-a9ed-9b0a87f197eb"
      },
      "outputs": [
        {
          "output_type": "stream",
          "name": "stdout",
          "text": [
            "Second row: [3. 4.]\n",
            "Second column: [2. 4. 6.]\n",
            "Last row: [5. 6.]\n",
            "First item in last column: 2.0\n",
            "Skip the first row:\n",
            "[[3. 4.]\n",
            " [5. 6.]] \n",
            "\n"
          ]
        }
      ],
      "source": [
        "print(\"Second row:\", rank_2_tensor[1, :].numpy())\n",
        "print(\"Second column:\", rank_2_tensor[:, 1].numpy())\n",
        "print(\"Last row:\", rank_2_tensor[-1, :].numpy())\n",
        "print(\"First item in last column:\", rank_2_tensor[0, -1].numpy())\n",
        "print(\"Skip the first row:\")\n",
        "print(rank_2_tensor[1:, :].numpy(), \"\\n\")"
      ]
    },
    {
      "cell_type": "code",
      "execution_count": 36,
      "id": "b949f080",
      "metadata": {
        "colab": {
          "base_uri": "https://localhost:8080/"
        },
        "id": "b949f080",
        "outputId": "10c72ed7-ec21-4fbb-ec0a-726acde2b193"
      },
      "outputs": [
        {
          "output_type": "stream",
          "name": "stdout",
          "text": [
            "tf.Tensor(\n",
            "[[[ 0  1  2  3  4]\n",
            "  [ 5  6  7  8  9]]\n",
            "\n",
            " [[10 11 12 13 14]\n",
            "  [15 16 17 18 19]]\n",
            "\n",
            " [[20 21 22 23 24]\n",
            "  [25 26 27 28 29]]], shape=(3, 2, 5), dtype=int32)\n"
          ]
        }
      ],
      "source": [
        "rank_3_tensor = tf.constant([\n",
        "  [[0, 1, 2, 3, 4],\n",
        "   [5, 6, 7, 8, 9]],\n",
        "  [[10, 11, 12, 13, 14],\n",
        "   [15, 16, 17, 18, 19]],\n",
        "  [[20, 21, 22, 23, 24],\n",
        "   [25, 26, 27, 28, 29]],])\n",
        "\n",
        "print(rank_3_tensor)"
      ]
    },
    {
      "cell_type": "code",
      "execution_count": 37,
      "id": "11cc2acb",
      "metadata": {
        "colab": {
          "base_uri": "https://localhost:8080/"
        },
        "id": "11cc2acb",
        "outputId": "9df7a1d1-b520-4199-ad4b-4c4e833b6b07"
      },
      "outputs": [
        {
          "output_type": "stream",
          "name": "stdout",
          "text": [
            "tf.Tensor(\n",
            "[[ 4  9]\n",
            " [14 19]\n",
            " [24 29]], shape=(3, 2), dtype=int32)\n"
          ]
        }
      ],
      "source": [
        "print(rank_3_tensor[:, :, 4])"
      ]
    },
    {
      "cell_type": "markdown",
      "id": "1bf3b879",
      "metadata": {
        "id": "1bf3b879"
      },
      "source": [
        "### Manipulating Shapes"
      ]
    },
    {
      "cell_type": "code",
      "execution_count": 38,
      "id": "32c0085a",
      "metadata": {
        "colab": {
          "base_uri": "https://localhost:8080/"
        },
        "id": "32c0085a",
        "outputId": "70b96be7-8b60-44e8-ea7b-84d28409b8f5"
      },
      "outputs": [
        {
          "output_type": "stream",
          "name": "stdout",
          "text": [
            "(3, 1)\n"
          ]
        }
      ],
      "source": [
        "x = tf.constant([[1], [2], [3]])\n",
        "print(x.shape)"
      ]
    },
    {
      "cell_type": "code",
      "execution_count": 39,
      "id": "53dfdd33",
      "metadata": {
        "colab": {
          "base_uri": "https://localhost:8080/"
        },
        "id": "53dfdd33",
        "outputId": "4d794ed6-7a9d-487f-9ef1-33c3a61ef9f4"
      },
      "outputs": [
        {
          "output_type": "stream",
          "name": "stdout",
          "text": [
            "[3, 1]\n"
          ]
        }
      ],
      "source": [
        "print(x.shape.as_list())"
      ]
    },
    {
      "cell_type": "code",
      "execution_count": 40,
      "id": "1718ad74",
      "metadata": {
        "colab": {
          "base_uri": "https://localhost:8080/"
        },
        "id": "1718ad74",
        "outputId": "c73e09be-ed79-4b27-a867-21f075fa4694"
      },
      "outputs": [
        {
          "output_type": "stream",
          "name": "stdout",
          "text": [
            "(3, 1)\n",
            "(1, 3)\n"
          ]
        }
      ],
      "source": [
        "reshaped = tf.reshape(x, [1, 3])\n",
        "\n",
        "print(x.shape)\n",
        "print(reshaped.shape)"
      ]
    },
    {
      "cell_type": "markdown",
      "id": "448ea5ca",
      "metadata": {
        "id": "448ea5ca"
      },
      "source": [
        "### More on Tensorflow\n",
        "\n",
        "[Official API Documentation](https://www.tensorflow.org/tutorials)"
      ]
    },
    {
      "cell_type": "code",
      "execution_count": 40,
      "id": "452340e8",
      "metadata": {
        "id": "452340e8"
      },
      "outputs": [],
      "source": [
        ""
      ]
    }
  ],
  "metadata": {
    "kernelspec": {
      "display_name": "Python 3 (ipykernel)",
      "language": "python",
      "name": "python3"
    },
    "language_info": {
      "codemirror_mode": {
        "name": "ipython",
        "version": 3
      },
      "file_extension": ".py",
      "mimetype": "text/x-python",
      "name": "python",
      "nbconvert_exporter": "python",
      "pygments_lexer": "ipython3",
      "version": "3.7.11"
    },
    "colab": {
      "name": "practice#8.ipynb",
      "provenance": [],
      "include_colab_link": true
    }
  },
  "nbformat": 4,
  "nbformat_minor": 5
}