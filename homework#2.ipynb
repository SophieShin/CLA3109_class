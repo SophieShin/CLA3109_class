{
 "cells": [
  {
   "cell_type": "markdown",
   "id": "1e72f84a",
   "metadata": {},
   "source": [
    "# 이름: 신소희\n",
    "# 학번: 2021710232"
   ]
  },
  {
   "cell_type": "markdown",
   "id": "4f059e30",
   "metadata": {},
   "source": [
    "### Q1. 다음 조선왕조실록 사이트에서 재위기간이 가장 짧은 인종의 기사를 크롤링하여 1) URL 주소, 2) 기사 제목, 3) 한글 내용을 포함하는 코드를 작성 하세요. [조선왕조실록 바로가기](http://sillok.history.go.kr/main/main.do) <br><br> 예상되는 output은 다음과 같습니다.\n",
    "```[{\"url\": \"http://sillok.history.go.kr/id/kla_10101001_001\", \"title\":\"삭전을 지내고 상식을 올리다\", \"content\": \"상(上)이 삭전(朔奠)을 지내고...\" }, {\"url\":\"...\", \"title\":\"...\", \"content\":\"...\"}, ...]```"
   ]
  },
  {
   "cell_type": "code",
   "execution_count": 1,
   "id": "69ffb4bf",
   "metadata": {},
   "outputs": [
    {
     "data": {
      "text/plain": [
       "<Response [200]>"
      ]
     },
     "execution_count": 1,
     "metadata": {},
     "output_type": "execute_result"
    }
   ],
   "source": [
    "import requests\n",
    "urls = 'http://sillok.history.go.kr/main/main.do' \n",
    "response = requests.get(urls)\n",
    "response "
   ]
  },
  {
   "cell_type": "code",
   "execution_count": 2,
   "id": "6c9c3c46",
   "metadata": {},
   "outputs": [
    {
     "data": {
      "text/plain": [
       "[]"
      ]
     },
     "execution_count": 2,
     "metadata": {},
     "output_type": "execute_result"
    }
   ],
   "source": [
    "from lxml import html \n",
    "\n",
    "kisa_urls = ['http://sillok.history.go.kr/' + i for i in html.fromstring(response.text).xpath('//*[@id=\"cont_area\"]/div[1]/div[1]/div/span[2]/ul/li//a/@href')]\n",
    "kisa_urls\n"
   ]
  },
  {
   "cell_type": "code",
   "execution_count": 3,
   "id": "09e8ef2c",
   "metadata": {},
   "outputs": [
    {
     "name": "stderr",
     "output_type": "stream",
     "text": [
      "<ipython-input-3-ce6238237f99>:7: DeprecationWarning: use options instead of chrome_options\n",
      "  driver = webdriver.Chrome(chrome_options=chrome_options)\n"
     ]
    }
   ],
   "source": [
    "from selenium import webdriver\n",
    "from selenium.webdriver.common.by import By\n",
    "import os\n",
    "chrome_options = webdriver.ChromeOptions()\n",
    "# 브라우저에 임의로 User-agent 옵션을 넣어 Python 코드로 접속함을 숨김\n",
    "chrome_options.add_argument('--user-agent=\"Mozilla/5.0 (Macintosh; Intel Mac OS X 10_13_4) AppleWebKit/537.36 (KHTML, like Gecko) Chrome/66.0.3359.139 Safari/537.36\"')\n",
    "driver = webdriver.Chrome(chrome_options=chrome_options)\n",
    "URL = \"http://sillok.history.go.kr/main/main.do\""
   ]
  },
  {
   "cell_type": "code",
   "execution_count": 4,
   "id": "26842282",
   "metadata": {},
   "outputs": [],
   "source": [
    "driver.get(URL)"
   ]
  },
  {
   "cell_type": "code",
   "execution_count": 10,
   "id": "b0b52158",
   "metadata": {},
   "outputs": [
    {
     "data": {
      "text/plain": [
       "[<selenium.webdriver.remote.webelement.WebElement (session=\"1a46a02f534471cff0617bedddc54822\", element=\"1ee21c5e-8865-439e-9c08-317c2e2754ec\")>]"
      ]
     },
     "execution_count": 10,
     "metadata": {},
     "output_type": "execute_result"
    }
   ],
   "source": [
    "item = driver.find_elements(By.XPATH, '//*[@id=\"m_cont_list\"]/div[1]/ul[2]/li[4]/a')\n",
    "item"
   ]
  },
  {
   "cell_type": "code",
   "execution_count": 5,
   "id": "03061a79",
   "metadata": {},
   "outputs": [
    {
     "ename": "NoSuchElementException",
     "evalue": "Message: no such element: Unable to locate element: {\"method\":\"css selector\",\"selector\":\".L3NKy\"}\n  (Session info: chrome=99.0.4844.82)\nStacktrace:\nBacktrace:\n\tOrdinal0 [0x00D89943+2595139]\n\tOrdinal0 [0x00D1C9F1+2148849]\n\tOrdinal0 [0x00C14528+1066280]\n\tOrdinal0 [0x00C40FD4+1249236]\n\tOrdinal0 [0x00C411CB+1249739]\n\tOrdinal0 [0x00C6D812+1431570]\n\tOrdinal0 [0x00C5BA34+1358388]\n\tOrdinal0 [0x00C6BAF2+1424114]\n\tOrdinal0 [0x00C5B806+1357830]\n\tOrdinal0 [0x00C36086+1204358]\n\tOrdinal0 [0x00C36F96+1208214]\n\tGetHandleVerifier [0x00F2B232+1658114]\n\tGetHandleVerifier [0x00FE312C+2411516]\n\tGetHandleVerifier [0x00E1F261+560433]\n\tGetHandleVerifier [0x00E1E366+556598]\n\tOrdinal0 [0x00D2286B+2173035]\n\tOrdinal0 [0x00D275F8+2192888]\n\tOrdinal0 [0x00D276E5+2193125]\n\tOrdinal0 [0x00D311FC+2232828]\n\tBaseThreadInitThunk [0x75EBFA29+25]\n\tRtlGetAppContainerNamedObjectPath [0x77567A7E+286]\n\tRtlGetAppContainerNamedObjectPath [0x77567A4E+238]\n",
     "output_type": "error",
     "traceback": [
      "\u001b[1;31m---------------------------------------------------------------------------\u001b[0m",
      "\u001b[1;31mNoSuchElementException\u001b[0m                    Traceback (most recent call last)",
      "\u001b[1;32m<ipython-input-5-a64d19bd8208>\u001b[0m in \u001b[0;36m<module>\u001b[1;34m\u001b[0m\n\u001b[1;32m----> 1\u001b[1;33m \u001b[0mdriver\u001b[0m\u001b[1;33m.\u001b[0m\u001b[0mfind_element\u001b[0m\u001b[1;33m(\u001b[0m\u001b[0mBy\u001b[0m\u001b[1;33m.\u001b[0m\u001b[0mCLASS_NAME\u001b[0m\u001b[1;33m,\u001b[0m \u001b[1;34m\"L3NKy\"\u001b[0m\u001b[1;33m)\u001b[0m\u001b[1;33m.\u001b[0m\u001b[0mclick\u001b[0m\u001b[1;33m(\u001b[0m\u001b[1;33m)\u001b[0m\u001b[1;33m\u001b[0m\u001b[1;33m\u001b[0m\u001b[0m\n\u001b[0m",
      "\u001b[1;32m~\\anaconda3\\lib\\site-packages\\selenium\\webdriver\\remote\\webdriver.py\u001b[0m in \u001b[0;36mfind_element\u001b[1;34m(self, by, value)\u001b[0m\n\u001b[0;32m   1246\u001b[0m             \u001b[0mvalue\u001b[0m \u001b[1;33m=\u001b[0m \u001b[1;34m'[name=\"%s\"]'\u001b[0m \u001b[1;33m%\u001b[0m \u001b[0mvalue\u001b[0m\u001b[1;33m\u001b[0m\u001b[1;33m\u001b[0m\u001b[0m\n\u001b[0;32m   1247\u001b[0m \u001b[1;33m\u001b[0m\u001b[0m\n\u001b[1;32m-> 1248\u001b[1;33m         return self.execute(Command.FIND_ELEMENT, {\n\u001b[0m\u001b[0;32m   1249\u001b[0m             \u001b[1;34m'using'\u001b[0m\u001b[1;33m:\u001b[0m \u001b[0mby\u001b[0m\u001b[1;33m,\u001b[0m\u001b[1;33m\u001b[0m\u001b[1;33m\u001b[0m\u001b[0m\n\u001b[0;32m   1250\u001b[0m             'value': value})['value']\n",
      "\u001b[1;32m~\\anaconda3\\lib\\site-packages\\selenium\\webdriver\\remote\\webdriver.py\u001b[0m in \u001b[0;36mexecute\u001b[1;34m(self, driver_command, params)\u001b[0m\n\u001b[0;32m    423\u001b[0m         \u001b[0mresponse\u001b[0m \u001b[1;33m=\u001b[0m \u001b[0mself\u001b[0m\u001b[1;33m.\u001b[0m\u001b[0mcommand_executor\u001b[0m\u001b[1;33m.\u001b[0m\u001b[0mexecute\u001b[0m\u001b[1;33m(\u001b[0m\u001b[0mdriver_command\u001b[0m\u001b[1;33m,\u001b[0m \u001b[0mparams\u001b[0m\u001b[1;33m)\u001b[0m\u001b[1;33m\u001b[0m\u001b[1;33m\u001b[0m\u001b[0m\n\u001b[0;32m    424\u001b[0m         \u001b[1;32mif\u001b[0m \u001b[0mresponse\u001b[0m\u001b[1;33m:\u001b[0m\u001b[1;33m\u001b[0m\u001b[1;33m\u001b[0m\u001b[0m\n\u001b[1;32m--> 425\u001b[1;33m             \u001b[0mself\u001b[0m\u001b[1;33m.\u001b[0m\u001b[0merror_handler\u001b[0m\u001b[1;33m.\u001b[0m\u001b[0mcheck_response\u001b[0m\u001b[1;33m(\u001b[0m\u001b[0mresponse\u001b[0m\u001b[1;33m)\u001b[0m\u001b[1;33m\u001b[0m\u001b[1;33m\u001b[0m\u001b[0m\n\u001b[0m\u001b[0;32m    426\u001b[0m             response['value'] = self._unwrap_value(\n\u001b[0;32m    427\u001b[0m                 response.get('value', None))\n",
      "\u001b[1;32m~\\anaconda3\\lib\\site-packages\\selenium\\webdriver\\remote\\errorhandler.py\u001b[0m in \u001b[0;36mcheck_response\u001b[1;34m(self, response)\u001b[0m\n\u001b[0;32m    245\u001b[0m                 \u001b[0malert_text\u001b[0m \u001b[1;33m=\u001b[0m \u001b[0mvalue\u001b[0m\u001b[1;33m[\u001b[0m\u001b[1;34m'alert'\u001b[0m\u001b[1;33m]\u001b[0m\u001b[1;33m.\u001b[0m\u001b[0mget\u001b[0m\u001b[1;33m(\u001b[0m\u001b[1;34m'text'\u001b[0m\u001b[1;33m)\u001b[0m\u001b[1;33m\u001b[0m\u001b[1;33m\u001b[0m\u001b[0m\n\u001b[0;32m    246\u001b[0m             \u001b[1;32mraise\u001b[0m \u001b[0mexception_class\u001b[0m\u001b[1;33m(\u001b[0m\u001b[0mmessage\u001b[0m\u001b[1;33m,\u001b[0m \u001b[0mscreen\u001b[0m\u001b[1;33m,\u001b[0m \u001b[0mstacktrace\u001b[0m\u001b[1;33m,\u001b[0m \u001b[0malert_text\u001b[0m\u001b[1;33m)\u001b[0m  \u001b[1;31m# type: ignore[call-arg]  # mypy is not smart enough here\u001b[0m\u001b[1;33m\u001b[0m\u001b[1;33m\u001b[0m\u001b[0m\n\u001b[1;32m--> 247\u001b[1;33m         \u001b[1;32mraise\u001b[0m \u001b[0mexception_class\u001b[0m\u001b[1;33m(\u001b[0m\u001b[0mmessage\u001b[0m\u001b[1;33m,\u001b[0m \u001b[0mscreen\u001b[0m\u001b[1;33m,\u001b[0m \u001b[0mstacktrace\u001b[0m\u001b[1;33m)\u001b[0m\u001b[1;33m\u001b[0m\u001b[1;33m\u001b[0m\u001b[0m\n\u001b[0m\u001b[0;32m    248\u001b[0m \u001b[1;33m\u001b[0m\u001b[0m\n\u001b[0;32m    249\u001b[0m     \u001b[1;32mdef\u001b[0m \u001b[0m_value_or_default\u001b[0m\u001b[1;33m(\u001b[0m\u001b[0mself\u001b[0m\u001b[1;33m,\u001b[0m \u001b[0mobj\u001b[0m\u001b[1;33m:\u001b[0m \u001b[0mMapping\u001b[0m\u001b[1;33m[\u001b[0m\u001b[0m_KT\u001b[0m\u001b[1;33m,\u001b[0m \u001b[0m_VT\u001b[0m\u001b[1;33m]\u001b[0m\u001b[1;33m,\u001b[0m \u001b[0mkey\u001b[0m\u001b[1;33m:\u001b[0m \u001b[0m_KT\u001b[0m\u001b[1;33m,\u001b[0m \u001b[0mdefault\u001b[0m\u001b[1;33m:\u001b[0m \u001b[0m_VT\u001b[0m\u001b[1;33m)\u001b[0m \u001b[1;33m->\u001b[0m \u001b[0m_VT\u001b[0m\u001b[1;33m:\u001b[0m\u001b[1;33m\u001b[0m\u001b[1;33m\u001b[0m\u001b[0m\n",
      "\u001b[1;31mNoSuchElementException\u001b[0m: Message: no such element: Unable to locate element: {\"method\":\"css selector\",\"selector\":\".L3NKy\"}\n  (Session info: chrome=99.0.4844.82)\nStacktrace:\nBacktrace:\n\tOrdinal0 [0x00D89943+2595139]\n\tOrdinal0 [0x00D1C9F1+2148849]\n\tOrdinal0 [0x00C14528+1066280]\n\tOrdinal0 [0x00C40FD4+1249236]\n\tOrdinal0 [0x00C411CB+1249739]\n\tOrdinal0 [0x00C6D812+1431570]\n\tOrdinal0 [0x00C5BA34+1358388]\n\tOrdinal0 [0x00C6BAF2+1424114]\n\tOrdinal0 [0x00C5B806+1357830]\n\tOrdinal0 [0x00C36086+1204358]\n\tOrdinal0 [0x00C36F96+1208214]\n\tGetHandleVerifier [0x00F2B232+1658114]\n\tGetHandleVerifier [0x00FE312C+2411516]\n\tGetHandleVerifier [0x00E1F261+560433]\n\tGetHandleVerifier [0x00E1E366+556598]\n\tOrdinal0 [0x00D2286B+2173035]\n\tOrdinal0 [0x00D275F8+2192888]\n\tOrdinal0 [0x00D276E5+2193125]\n\tOrdinal0 [0x00D311FC+2232828]\n\tBaseThreadInitThunk [0x75EBFA29+25]\n\tRtlGetAppContainerNamedObjectPath [0x77567A7E+286]\n\tRtlGetAppContainerNamedObjectPath [0x77567A4E+238]\n"
     ]
    }
   ],
   "source": [
    "driver.find_element(By.CLASS_NAME, \"L3NKy\").click()"
   ]
  },
  {
   "cell_type": "code",
   "execution_count": null,
   "id": "cae27a92",
   "metadata": {},
   "outputs": [],
   "source": []
  },
  {
   "cell_type": "code",
   "execution_count": null,
   "id": "7c0d27c9",
   "metadata": {},
   "outputs": [],
   "source": []
  },
  {
   "cell_type": "code",
   "execution_count": null,
   "id": "849b35d0",
   "metadata": {},
   "outputs": [],
   "source": []
  },
  {
   "cell_type": "code",
   "execution_count": null,
   "id": "00765551",
   "metadata": {},
   "outputs": [],
   "source": []
  },
  {
   "cell_type": "code",
   "execution_count": null,
   "id": "90a4046d",
   "metadata": {},
   "outputs": [],
   "source": []
  },
  {
   "cell_type": "code",
   "execution_count": 16,
   "id": "657ef0b3",
   "metadata": {},
   "outputs": [
    {
     "data": {
      "text/plain": [
       "[]"
      ]
     },
     "execution_count": 16,
     "metadata": {},
     "output_type": "execute_result"
    }
   ],
   "source": [
    "html.fromstring(response.text).xpath('//*[@id=\"cont_area\"]/div[1]/div[3]/div/dl/dd/ul/li[1]/a/@href')"
   ]
  },
  {
   "cell_type": "code",
   "execution_count": 17,
   "id": "647800c7",
   "metadata": {},
   "outputs": [
    {
     "data": {
      "text/plain": [
       "<Element html at 0x17414e35a40>"
      ]
     },
     "execution_count": 17,
     "metadata": {},
     "output_type": "execute_result"
    }
   ],
   "source": [
    "html.fromstring(response.text)"
   ]
  },
  {
   "cell_type": "code",
   "execution_count": null,
   "id": "9d84fedb",
   "metadata": {},
   "outputs": [],
   "source": [
    "//*[@id=\"cont_area\"]/div[1]/div[3]/div/dl/dd/ul/li[1]/a\n",
    "//*[@id=\"cont_area\"]/div[1]/div[3]/div/dl/dd/ul/li[2]/a\n",
    "//*[@id=\"cont_area\"]/div[1]/div[3]/div/dl/dd/ul/li[3]/a"
   ]
  },
  {
   "cell_type": "code",
   "execution_count": null,
   "id": "ae5d3016",
   "metadata": {},
   "outputs": [],
   "source": [
    "\n",
    "//*[@id=\"cont_area\"]/div[1]/div[3]/div/dl/dd/ul/li[1]/a"
   ]
  },
  {
   "cell_type": "code",
   "execution_count": null,
   "id": "9c7df4a6",
   "metadata": {},
   "outputs": [],
   "source": [
    "injong_list = []\n",
    "for bo_url in bo_urls:\n",
    "    movie_page = requests.get(bo_url)\n",
    "    movie_title = [i.text for i in html.fromstring(movie_page.text).xpath('//*[@id=\"root\"]/div/div[1]/section/div/div[2]/div/section/div[2]/div/div/div/div/h1')][0]\n",
    "    movie_detail = [i for i in html.fromstring(movie_page.text).xpath('//*[@id=\"root\"]/div/div[1]/section/div/div[2]/div/section/div[2]/div/div/div/div/div[1]/text()')][0]\n",
    "    movie_desc  = [i for i in html.fromstring(movie_page.text).xpath('//*[@id=\"root\"]/div/div[1]/section/div/div[2]/div/div/div/div[1]/div[1]/div/div/section[2]/div[2]/div/article/div[2]/div/text()')][0]\n",
    "    movie_rate  = [i for i in html.fromstring(movie_page.text).xpath('//*[@id=\"root\"]/div/div[1]/section/div/div[2]/div/section/div[2]/div/div/div/div/div[2]/text()')][0]\n",
    "    movie_poster = [i.get('src') for i in html.fromstring(movie_page.text).xpath('//*[@id=\"root\"]/div/div[1]/section/div/div[2]/div/section/div[1]/div[2]/div/div/div/div[1]/img')][0]\n",
    "    movie_dict = {\"movie_title\":movie_title, \"movie_detail\":movie_detail,\n",
    "                  \"movie_desc\":movie_desc, \"movie_rate\":movie_rate, \"movie_poster\":movie_poster}\n",
    "    bo_list.append(movie_dict)\n"
   ]
  },
  {
   "cell_type": "code",
   "execution_count": null,
   "id": "59f7797b",
   "metadata": {},
   "outputs": [],
   "source": [
    "injong_list = []\n",
    "for url in "
   ]
  },
  {
   "cell_type": "code",
   "execution_count": 6,
   "id": "90aefd38",
   "metadata": {},
   "outputs": [
    {
     "ename": "SyntaxError",
     "evalue": "invalid syntax (<ipython-input-6-0c741122c47b>, line 1)",
     "output_type": "error",
     "traceback": [
      "\u001b[1;36m  File \u001b[1;32m\"<ipython-input-6-0c741122c47b>\"\u001b[1;36m, line \u001b[1;32m1\u001b[0m\n\u001b[1;33m    //*[@id=\"cont_area\"]/div[1]/div[1]/div/span[2]/ul/li//a/href\u001b[0m\n\u001b[1;37m    ^\u001b[0m\n\u001b[1;31mSyntaxError\u001b[0m\u001b[1;31m:\u001b[0m invalid syntax\n"
     ]
    }
   ],
   "source": [
    "//*[@id=\"cont_area\"]/div[1]/div[1]/div/span[2]/ul/li//a/href\n",
    "//*[@id=\"cont_area\"]/div[1]/div[3]/div/dl/dd/ul/li[1]/a\n",
    "//*[@id=\"cont_area\"]/div[1]/div[3]/div/dl/dd/ul/li[1]/a\n",
    "//*[@id=\"cont_area\"]/div[1]/div[3]/div/dl/dd/ul/li[1]/a\n",
    "//*[@id=\"cont_area\"]/div[1]/div[3]/div/dl/dd/ul/li[1]/a\n",
    "//*[@id=\"cont_area\"]/div[1]/div[3]/div/dl/dd/ul/li[4]/a\n",
    "//*[@id=\"cont_area\"]/div[1]/div[3]/div/dl/dd/ul/li[3]/a"
   ]
  },
  {
   "cell_type": "code",
   "execution_count": null,
   "id": "bc756ae1",
   "metadata": {},
   "outputs": [],
   "source": [
    "//*[@id=\"cont_area\"]/div[1]/div[1]/div/span[2]/ul/li[6]/a"
   ]
  },
  {
   "cell_type": "code",
   "execution_count": null,
   "id": "c43d7d68",
   "metadata": {},
   "outputs": [],
   "source": [
    "//*[@id=\"cont_area\"]/div[1]/div[1]/div/span[2]/ul/li[30]/a\n",
    "\n",
    "//*[@id=\"cont_area\"]/div[1]/div[1]/div/span[2]/ul/li[4]/a"
   ]
  },
  {
   "cell_type": "markdown",
   "id": "cd2d8de7",
   "metadata": {},
   "source": [
    "### Q2. Q1에서 만든 csv파일을 불러와서 DataFrame을 생성하고, content 칼럼에서 괄호와 한문을 모두 제거하여 content 칼럼에 다시 저장하세요.\n",
    "hint: 괄호와 괄호 안 문자를 제거하는 정규표현식 ```\"\\(.* \\)\" ```"
   ]
  },
  {
   "cell_type": "code",
   "execution_count": 15,
   "id": "ab8d680a",
   "metadata": {},
   "outputs": [],
   "source": [
    "injong_df = pd.DataFrame(injong_list)\n",
    "injoing['content'] = injong['content'].str.findall(\"\\(.* \\)\")"
   ]
  },
  {
   "cell_type": "markdown",
   "id": "19556415",
   "metadata": {},
   "source": [
    "### Q3. Q2에서 만든 list of dictionaries을 pandas DataFrame으로 바꾸어 csv 파일로 저장하는 코드를 작성하세요."
   ]
  },
  {
   "cell_type": "code",
   "execution_count": null,
   "id": "1ce50191",
   "metadata": {},
   "outputs": [],
   "source": [
    "injong_df.to_csv(\"injong.csv\", index=False)"
   ]
  },
  {
   "cell_type": "code",
   "execution_count": null,
   "id": "7410d903",
   "metadata": {},
   "outputs": [],
   "source": [
    "df = pd.read_csv('injong.csv')\n",
    "df"
   ]
  }
 ],
 "metadata": {
  "kernelspec": {
   "display_name": "Python 3",
   "language": "python",
   "name": "python3"
  },
  "language_info": {
   "codemirror_mode": {
    "name": "ipython",
    "version": 3
   },
   "file_extension": ".py",
   "mimetype": "text/x-python",
   "name": "python",
   "nbconvert_exporter": "python",
   "pygments_lexer": "ipython3",
   "version": "3.8.8"
  }
 },
 "nbformat": 4,
 "nbformat_minor": 5
}
