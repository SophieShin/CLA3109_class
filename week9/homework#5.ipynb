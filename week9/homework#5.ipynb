{
 "cells": [
  {
   "cell_type": "markdown",
   "id": "18bf9fcd",
   "metadata": {},
   "source": [
    "# 이름: 신소희\n",
    "# 학번: 2021710232\n",
    "# 학과: 인공지능융합학과"
   ]
  },
  {
   "cell_type": "markdown",
   "id": "0f9fe1c2",
   "metadata": {},
   "source": [
    "## Q1. 파이썬 내장 함수만 이용하여 평균을 구하는 함수를 작성하세요."
   ]
  },
  {
   "cell_type": "code",
   "execution_count": 20,
   "id": "7bf3430a",
   "metadata": {},
   "outputs": [],
   "source": [
    "def mean(data):\n",
    "    if isinstance(data, list):\n",
    "        return sum(data)/len(data)\n",
    "    else:\n",
    "        raise TypeError(\"list만 입력 가능합니다.\")\n",
    "  "
   ]
  },
  {
   "cell_type": "code",
   "execution_count": 21,
   "id": "4c58502b",
   "metadata": {},
   "outputs": [
    {
     "data": {
      "text/plain": [
       "3.0"
      ]
     },
     "execution_count": 21,
     "metadata": {},
     "output_type": "execute_result"
    }
   ],
   "source": [
    "mean([1,2,3,4,5]) \n"
   ]
  },
  {
   "cell_type": "code",
   "execution_count": 6,
   "id": "9a9988bd",
   "metadata": {},
   "outputs": [
    {
     "ename": "TypeError",
     "evalue": "list만 입력 가능합니다.",
     "output_type": "error",
     "traceback": [
      "\u001b[1;31m---------------------------------------------------------------------------\u001b[0m",
      "\u001b[1;31mTypeError\u001b[0m                                 Traceback (most recent call last)",
      "\u001b[1;32m<ipython-input-6-8b6937566e04>\u001b[0m in \u001b[0;36m<module>\u001b[1;34m\u001b[0m\n\u001b[1;32m----> 1\u001b[1;33m \u001b[0mexample2\u001b[0m \u001b[1;33m=\u001b[0m \u001b[0mmean\u001b[0m\u001b[1;33m(\u001b[0m\u001b[1;36m5\u001b[0m\u001b[1;33m)\u001b[0m\u001b[1;33m\u001b[0m\u001b[1;33m\u001b[0m\u001b[0m\n\u001b[0m",
      "\u001b[1;32m<ipython-input-4-9727f557d403>\u001b[0m in \u001b[0;36mmean\u001b[1;34m(data)\u001b[0m\n\u001b[0;32m      3\u001b[0m         \u001b[1;32mreturn\u001b[0m \u001b[0msum\u001b[0m\u001b[1;33m(\u001b[0m\u001b[0mdata\u001b[0m\u001b[1;33m)\u001b[0m\u001b[1;33m/\u001b[0m\u001b[0mlen\u001b[0m\u001b[1;33m(\u001b[0m\u001b[0mdata\u001b[0m\u001b[1;33m)\u001b[0m\u001b[1;33m\u001b[0m\u001b[1;33m\u001b[0m\u001b[0m\n\u001b[0;32m      4\u001b[0m     \u001b[1;32melse\u001b[0m\u001b[1;33m:\u001b[0m\u001b[1;33m\u001b[0m\u001b[1;33m\u001b[0m\u001b[0m\n\u001b[1;32m----> 5\u001b[1;33m         \u001b[1;32mraise\u001b[0m \u001b[0mTypeError\u001b[0m\u001b[1;33m(\u001b[0m\u001b[1;34m\"list만 입력 가능합니다.\"\u001b[0m\u001b[1;33m)\u001b[0m\u001b[1;33m\u001b[0m\u001b[1;33m\u001b[0m\u001b[0m\n\u001b[0m\u001b[0;32m      6\u001b[0m \u001b[1;33m\u001b[0m\u001b[0m\n",
      "\u001b[1;31mTypeError\u001b[0m: list만 입력 가능합니다."
     ]
    }
   ],
   "source": [
    "example2 = mean(5)"
   ]
  },
  {
   "cell_type": "markdown",
   "id": "2a0cfc39",
   "metadata": {},
   "source": [
    "## Q2. 파이썬 내장 함수만 이용하여 모집단의 분산을 구하는 함수를 작성하세요. (단, Q1에서 작성한 함수 사용 가능함.)"
   ]
  },
  {
   "cell_type": "code",
   "execution_count": 28,
   "id": "521d8709",
   "metadata": {},
   "outputs": [],
   "source": [
    "import numpy as np"
   ]
  },
  {
   "cell_type": "code",
   "execution_count": 29,
   "id": "4b46dc49",
   "metadata": {},
   "outputs": [
    {
     "data": {
      "text/plain": [
       "2.0"
      ]
     },
     "execution_count": 29,
     "metadata": {},
     "output_type": "execute_result"
    }
   ],
   "source": [
    "def variance(data):\n",
    "    if isinstance(data, list):\n",
    "        return np.power((np.array(data) - mean(data)),2).sum()/len(data)    \n",
    "    else:    \n",
    "        raise TypeError(\"list만 입력 가능합니다.\")\n",
    "variance([1,2,3,4,5]) "
   ]
  },
  {
   "cell_type": "markdown",
   "id": "c2779a6a",
   "metadata": {},
   "source": [
    "## Q3. 파이썬 내장 함수만 이용하여 <u>모집단의 표준편차</u>를 구하는 함수를 작성하세요. (단, Q1, Q2에서 작성한 함수 사용 가능함.)"
   ]
  },
  {
   "cell_type": "code",
   "execution_count": 31,
   "id": "a176023a",
   "metadata": {},
   "outputs": [
    {
     "data": {
      "text/plain": [
       "1.4142135623730951"
      ]
     },
     "execution_count": 31,
     "metadata": {},
     "output_type": "execute_result"
    }
   ],
   "source": [
    "def std(data):\n",
    "    if isinstance(data, list):\n",
    "        return np.sqrt(variance(data))\n",
    "    else:    \n",
    "        raise TypeError(\"list만 입력 가능합니다.\")\n",
    "std([1,2,3,4,5]) "
   ]
  },
  {
   "cell_type": "markdown",
   "id": "94f54c28",
   "metadata": {},
   "source": [
    "## Q3. 파이썬 내장 함수만 이용하여 <u>표본의 표준편차</u>를 구하는 함수를 작성하세요. (단, Q1, Q2, Q3에서 작성한 함수 사용 가능함.) 표본의 표준편차를 구하는 방법은 아래 공식을 이용하세요."
   ]
  },
  {
   "cell_type": "markdown",
   "id": "020564e3",
   "metadata": {},
   "source": [
    "## $s_x = \\sqrt{\\sum{(x_i - \\bar{x})^2} \\over n-1}$"
   ]
  },
  {
   "cell_type": "code",
   "execution_count": 32,
   "id": "4b7687e7",
   "metadata": {},
   "outputs": [
    {
     "data": {
      "text/plain": [
       "1.5811388300841898"
      ]
     },
     "execution_count": 32,
     "metadata": {},
     "output_type": "execute_result"
    }
   ],
   "source": [
    "def sample_std(data):\n",
    "    if isinstance(data, list):\n",
    "        return  np.sqrt(np.power((np.array(data) - mean(data)),2).sum()/(len(data)-1))        \n",
    "    else:    \n",
    "        raise TypeError(\"list만 입력 가능합니다.\")\n",
    "sample_std([1,2,3,4,5]) "
   ]
  },
  {
   "cell_type": "markdown",
   "id": "3b529d36",
   "metadata": {},
   "source": [
    "## Q5. 파이썬 내장 함수만 이용하여 입력한 리스트의 각 요소들의 Z-Score를 구하는 함수를 작성하세요. (단, Q1, Q2, Q3, Q4에서 작성한 함수 사용 가능함. 단, 표준편차는 표본 표준편차를 사용함.)"
   ]
  },
  {
   "cell_type": "code",
   "execution_count": 37,
   "id": "7d4de3d0",
   "metadata": {},
   "outputs": [
    {
     "data": {
      "text/plain": [
       "array([-1.26491106, -0.63245553,  0.        ,  0.63245553,  1.26491106])"
      ]
     },
     "execution_count": 37,
     "metadata": {},
     "output_type": "execute_result"
    }
   ],
   "source": [
    "def z_score(data):\n",
    "    if isinstance(data, list):\n",
    "        return (np.array(data)-mean(data))/sample_std(data)\n",
    "    else:    \n",
    "        raise TypeError(\"list만 입력 가능합니다.\")\n",
    "z_score([1,2,3,4,5]) # return [-1.2649110640673518, -0.6324555320336759, 0.0, 0.6324555320336759, 1.2649110640673518]"
   ]
  },
  {
   "cell_type": "markdown",
   "id": "0141930d",
   "metadata": {},
   "source": [
    "## Q5. 파이썬 내장 함수만 이용하여 입력한 리스트의 신뢰도 95%의 신뢰구간을 구하는 함수를 작성하세요. (단, Q1, Q2, Q3, Q4, Q5에서 작성한 함수 사용 가능함. 단, 표준정규분포에서 신뢰도 95%의 z-score는 1.96임. 단, 표준편차는 표본 표준편차를 사용함.)"
   ]
  },
  {
   "cell_type": "code",
   "execution_count": 42,
   "id": "d48c9137",
   "metadata": {},
   "outputs": [
    {
     "data": {
      "text/plain": [
       "[1.6140707088743669, 4.385929291125633]"
      ]
     },
     "execution_count": 42,
     "metadata": {},
     "output_type": "execute_result"
    }
   ],
   "source": [
    "def ci(data):\n",
    "    if isinstance(data, list):\n",
    "        left = mean(data) - 1.96* sample_std(data)/np.sqrt(len(data))\n",
    "        right = mean(data) + 1.96* sample_std(data)/np.sqrt(len(data))\n",
    "        return list([left, right])\n",
    "    else:\n",
    "        raise TypeError(\"list만 입력 가능합니다.\")\n",
    "ci([1,2,3,4,5]) # return [1.6140707088743669, 4.385929291125633]"
   ]
  },
  {
   "cell_type": "markdown",
   "id": "2bb80b79",
   "metadata": {},
   "source": [
    "## Q6 ~ Q10. 가상의 나라인 \"율도국\"은 인구가 10,000명이다. 이 나라 국민들은 17개 지역(location)에 흩어져 살고 있으며 성비(gender)는 잦은 전쟁으로 남자보다 여자가 더 많다. 전쟁으로 인한 사회 불안정 탓인지 월 소득(salary) 불균형도 매우 커서 사회적 불만이 큰 상황이다. 율도국에서는 지난 4월 총선이 있었고 Red당과 Blue당이 총선에서 격돌하였다. df는 총선 결과를 나타내는 데이터 프레임이다. 다음 코드를 실행하고 다음 문제를 계속 진행하세요."
   ]
  },
  {
   "cell_type": "code",
   "execution_count": 43,
   "id": "9b3a0981",
   "metadata": {},
   "outputs": [
    {
     "data": {
      "text/html": [
       "<div>\n",
       "<style scoped>\n",
       "    .dataframe tbody tr th:only-of-type {\n",
       "        vertical-align: middle;\n",
       "    }\n",
       "\n",
       "    .dataframe tbody tr th {\n",
       "        vertical-align: top;\n",
       "    }\n",
       "\n",
       "    .dataframe thead th {\n",
       "        text-align: right;\n",
       "    }\n",
       "</style>\n",
       "<table border=\"1\" class=\"dataframe\">\n",
       "  <thead>\n",
       "    <tr style=\"text-align: right;\">\n",
       "      <th></th>\n",
       "      <th>location</th>\n",
       "      <th>age</th>\n",
       "      <th>gender</th>\n",
       "      <th>salary</th>\n",
       "      <th>party</th>\n",
       "    </tr>\n",
       "  </thead>\n",
       "  <tbody>\n",
       "    <tr>\n",
       "      <th>0</th>\n",
       "      <td>제주</td>\n",
       "      <td>31</td>\n",
       "      <td>M</td>\n",
       "      <td>400</td>\n",
       "      <td>Red</td>\n",
       "    </tr>\n",
       "    <tr>\n",
       "      <th>1</th>\n",
       "      <td>경기</td>\n",
       "      <td>32</td>\n",
       "      <td>M</td>\n",
       "      <td>0</td>\n",
       "      <td>Red</td>\n",
       "    </tr>\n",
       "    <tr>\n",
       "      <th>2</th>\n",
       "      <td>대구</td>\n",
       "      <td>29</td>\n",
       "      <td>F</td>\n",
       "      <td>200</td>\n",
       "      <td>Red</td>\n",
       "    </tr>\n",
       "    <tr>\n",
       "      <th>3</th>\n",
       "      <td>인천</td>\n",
       "      <td>45</td>\n",
       "      <td>F</td>\n",
       "      <td>50</td>\n",
       "      <td>Red</td>\n",
       "    </tr>\n",
       "    <tr>\n",
       "      <th>4</th>\n",
       "      <td>세종</td>\n",
       "      <td>43</td>\n",
       "      <td>F</td>\n",
       "      <td>250</td>\n",
       "      <td>Blue</td>\n",
       "    </tr>\n",
       "    <tr>\n",
       "      <th>...</th>\n",
       "      <td>...</td>\n",
       "      <td>...</td>\n",
       "      <td>...</td>\n",
       "      <td>...</td>\n",
       "      <td>...</td>\n",
       "    </tr>\n",
       "    <tr>\n",
       "      <th>9995</th>\n",
       "      <td>충북</td>\n",
       "      <td>44</td>\n",
       "      <td>M</td>\n",
       "      <td>200</td>\n",
       "      <td>Red</td>\n",
       "    </tr>\n",
       "    <tr>\n",
       "      <th>9996</th>\n",
       "      <td>경남</td>\n",
       "      <td>35</td>\n",
       "      <td>M</td>\n",
       "      <td>0</td>\n",
       "      <td>Red</td>\n",
       "    </tr>\n",
       "    <tr>\n",
       "      <th>9997</th>\n",
       "      <td>인천</td>\n",
       "      <td>44</td>\n",
       "      <td>F</td>\n",
       "      <td>0</td>\n",
       "      <td>Blue</td>\n",
       "    </tr>\n",
       "    <tr>\n",
       "      <th>9998</th>\n",
       "      <td>인천</td>\n",
       "      <td>38</td>\n",
       "      <td>M</td>\n",
       "      <td>0</td>\n",
       "      <td>Red</td>\n",
       "    </tr>\n",
       "    <tr>\n",
       "      <th>9999</th>\n",
       "      <td>대전</td>\n",
       "      <td>35</td>\n",
       "      <td>F</td>\n",
       "      <td>300</td>\n",
       "      <td>Blue</td>\n",
       "    </tr>\n",
       "  </tbody>\n",
       "</table>\n",
       "<p>10000 rows × 5 columns</p>\n",
       "</div>"
      ],
      "text/plain": [
       "     location  age gender  salary party\n",
       "0          제주   31      M     400   Red\n",
       "1          경기   32      M       0   Red\n",
       "2          대구   29      F     200   Red\n",
       "3          인천   45      F      50   Red\n",
       "4          세종   43      F     250  Blue\n",
       "...       ...  ...    ...     ...   ...\n",
       "9995       충북   44      M     200   Red\n",
       "9996       경남   35      M       0   Red\n",
       "9997       인천   44      F       0  Blue\n",
       "9998       인천   38      M       0   Red\n",
       "9999       대전   35      F     300  Blue\n",
       "\n",
       "[10000 rows x 5 columns]"
      ]
     },
     "execution_count": 43,
     "metadata": {},
     "output_type": "execute_result"
    }
   ],
   "source": [
    "import numpy as np\n",
    "import pandas as pd\n",
    "location = ['서울','경기','인천','강원','충남','충북','대전','전북','전남','광주','경북','대구','부산','울산','경남','제주','세종']\n",
    "gender = ['M','F','E']\n",
    "party = ['Red', 'Blue']\n",
    "df = pd.DataFrame()                                                                                                                                                                     \n",
    "N = 10000                                                                                                                                                                                \n",
    "df[\"location\"] = np.random.choice(location, size=N, p=[0.1,0.1,0.1]+[0.05]*14)                                                                                                                                     \n",
    "df[\"age\"] = [int(i) if i>=0 else int(-i) for i in np.random.normal(35, 10, N)]                                                                                                                                               \n",
    "df[\"gender\"] = np.random.choice(gender, p = [0.4, 0.59, 0.01], size=N)\n",
    "df['salary'] = np.random.permutation([(int(i)-1)*50 for i in np.exp(1.5*np.linspace(0, 2, N))])\n",
    "df['party'] = df.apply(lambda x: np.random.choice(party, p=[0.1, 0.9]) if x['location']=='대전' else np.random.choice(party), axis=1)\n",
    "df"
   ]
  },
  {
   "cell_type": "markdown",
   "id": "a2c6faf9",
   "metadata": {},
   "source": [
    "## Q6-1. (중심 극한 정리) 율도국 국민(df) 중에서 표본 크기가 50인 표본을 추출하는 것을 1,000번 반복한 후 각 표본의 'salary'의 표본평균을 측정한 결과의 리스트를 출력하는 함수를 작성하세요. "
   ]
  },
  {
   "cell_type": "code",
   "execution_count": 219,
   "id": "8c67ccec",
   "metadata": {},
   "outputs": [
    {
     "name": "stdout",
     "output_type": "stream",
     "text": [
      "[298.0, 224.0, 231.0, 249.0, 226.0, 265.0, 214.0, 282.0, 269.0, 187.0, 269.0, 310.0, 262.0, 293.0, 253.0, 229.0, 204.0, 202.0, 237.0, 235.0, 280.0, 238.0, 277.0, 231.0, 250.0, 141.0, 171.0, 257.0, 174.0, 259.0, 218.0, 335.0, 283.0, 308.0, 195.0, 240.0, 236.0, 231.0, 271.0, 311.0, 247.0, 283.0, 271.0, 248.0, 185.0, 236.0, 266.0, 241.0, 196.0, 189.0]\n"
     ]
    }
   ],
   "source": [
    "def sampling50(df):\n",
    "    list_50 = []\n",
    "    for i in range(50):\n",
    "        i = np.random.randint(0, 9999, size = 50)\n",
    "        mean = pd.DataFrame( data = df, columns=[\"salary\"], index = i)['salary'].mean()\n",
    "        list_50.append(mean)\n",
    "    return list_50\n",
    "\n",
    "sampled50 = sampling50(df)\n",
    "print(sampled50)"
   ]
  },
  {
   "cell_type": "markdown",
   "id": "ee5f2518",
   "metadata": {},
   "source": [
    "## Q6-2. (중심 극한 정리) 율도국 국민(df) 중에서 표본 크기가 500인 표본을 추출하는 것을 1,000번 반복한 후 각 표본의 'salary'의 표본평균을 측정한 결과의 리스트를 출력하는 함수를 작성하세요. "
   ]
  },
  {
   "cell_type": "code",
   "execution_count": 119,
   "id": "21957003",
   "metadata": {},
   "outputs": [
    {
     "name": "stdout",
     "output_type": "stream",
     "text": [
      "[250.8, 255.9, 242.7, 244.4, 227.5, 235.3, 258.6, 260.5, 254.3, 233.1, 230.6, 258.5, 232.7, 247.4, 248.6, 239.2, 229.3, 230.6, 242.4, 244.3, 242.9, 232.0, 262.8, 234.0, 242.7, 245.4, 240.1, 237.3, 256.3, 268.8, 264.0, 248.5, 268.0, 241.2, 252.7, 250.1, 232.0, 241.6, 240.2, 253.4, 246.6, 237.4, 248.4, 223.4, 248.9, 219.5, 234.8, 241.9, 238.9, 248.4, 253.3, 237.7, 229.2, 239.4, 240.9, 265.8, 244.2, 260.1, 246.8, 231.3, 244.7, 247.4, 224.1, 236.5, 249.5, 237.5, 233.8, 252.6, 248.4, 244.0, 255.0, 256.0, 253.8, 246.4, 233.8, 223.1, 249.1, 264.9, 256.0, 242.3, 244.1, 241.9, 236.8, 226.2, 242.0, 258.9, 257.4, 250.3, 231.8, 268.1, 240.7, 239.5, 252.9, 242.0, 270.1, 264.2, 250.1, 239.7, 250.7, 246.0, 240.6, 252.6, 234.4, 251.5, 263.0, 253.0, 237.3, 258.3, 229.7, 243.6, 238.3, 231.6, 238.2, 239.9, 234.9, 224.0, 250.5, 250.0, 248.7, 246.3, 234.1, 247.1, 253.1, 249.1, 245.1, 228.7, 236.8, 246.3, 262.3, 246.6, 239.7, 247.9, 244.5, 271.3, 246.6, 238.9, 262.2, 247.7, 239.8, 234.2, 262.9, 245.9, 240.4, 254.8, 244.0, 235.0, 241.7, 233.6, 234.7, 248.7, 260.4, 248.0, 241.2, 242.0, 239.7, 258.1, 241.4, 241.8, 238.0, 242.5, 247.3, 229.4, 216.6, 228.3, 235.8, 241.7, 246.2, 241.4, 248.3, 231.0, 239.3, 243.4, 244.2, 252.9, 245.3, 237.0, 233.4, 254.2, 224.1, 249.0, 228.0, 240.7, 238.5, 222.9, 244.7, 244.4, 247.8, 239.9, 245.0, 240.5, 253.4, 261.8, 239.0, 236.6, 245.1, 241.0, 245.2, 236.0, 247.0, 230.1, 234.0, 233.2, 246.3, 245.0, 261.4, 254.2, 242.1, 236.6, 242.7, 247.1, 235.5, 253.5, 238.5, 260.0, 242.7, 270.3, 255.0, 237.2, 267.0, 265.3, 234.3, 245.3, 247.3, 250.6, 256.2, 242.6, 246.5, 239.9, 247.0, 248.8, 257.4, 258.8, 237.5, 239.2, 226.5, 262.6, 241.0, 233.2, 239.7, 253.1, 248.3, 250.2, 250.8, 235.2, 247.0, 224.8, 224.0, 255.5, 235.2, 234.6, 246.0, 238.6, 244.6, 240.1, 247.1, 240.8, 240.2, 253.3, 250.0, 245.4, 250.9, 260.6, 266.8, 241.3, 243.5, 272.2, 239.8, 248.6, 241.8, 244.2, 222.9, 224.2, 256.5, 240.3, 240.6, 243.7, 248.4, 263.8, 238.7, 259.3, 247.3, 236.6, 258.0, 251.6, 247.4, 228.7, 239.2, 261.7, 247.9, 235.4, 238.0, 241.3, 226.1, 237.5, 244.6, 248.1, 243.7, 220.8, 249.7, 229.6, 228.3, 249.8, 235.3, 246.5, 240.7, 224.3, 267.1, 241.7, 241.9, 241.4, 231.7, 239.4, 242.9, 243.7, 234.5, 260.7, 235.4, 247.4, 227.4, 255.5, 256.7, 239.2, 260.4, 229.7, 235.6, 246.4, 244.0, 251.3, 237.3, 247.3, 248.7, 261.3, 241.1, 239.9, 240.9, 213.1, 248.3, 236.0, 237.7, 242.0, 246.4, 231.6, 254.7, 247.3, 243.2, 255.5, 245.7, 254.6, 262.3, 239.9, 231.5, 259.9, 247.6, 263.3, 245.5, 240.5, 230.6, 241.7, 262.9, 247.3, 240.9, 260.3, 242.0, 260.3, 225.3, 251.6, 244.0, 221.3, 231.8, 239.8, 233.7, 261.3, 257.1, 245.8, 247.1, 221.1, 235.9, 230.8, 241.6, 255.9, 245.5, 245.9, 241.8, 223.5, 260.1, 251.3, 235.0, 257.8, 248.1, 236.5, 225.4, 241.2, 239.2, 237.8, 230.1, 252.6, 255.8, 242.8, 242.1, 232.8, 243.6, 233.0, 251.5, 237.4, 227.6, 236.8, 235.8, 237.5, 234.0, 236.7, 235.5, 239.7, 245.8, 243.1, 259.3, 236.9, 252.8, 246.3, 230.4, 255.3, 247.9, 237.0, 247.5, 249.9, 230.8, 259.3, 238.1, 266.6, 233.4, 230.1, 230.2, 261.9, 243.3, 243.1, 252.7, 238.6, 238.0, 236.3, 234.4, 223.7, 271.8, 230.8, 254.0, 228.7, 235.0, 242.2, 239.4, 263.2, 245.3, 263.1, 231.8, 237.3, 234.9, 222.1, 240.3, 240.1, 228.2, 241.6, 241.0, 240.4, 254.1, 258.7, 252.2, 251.4, 247.9, 258.5, 244.9, 226.4, 265.7, 225.5, 238.2, 264.4, 255.4, 272.8, 253.3, 250.0, 253.0, 244.4, 240.2, 251.4, 262.2, 246.1, 258.6, 251.8, 233.6, 253.8, 245.8, 221.2, 243.1, 258.8, 239.1, 234.9, 232.1, 252.6, 272.8, 236.6, 233.5, 252.6, 239.7, 223.9]\n"
     ]
    }
   ],
   "source": [
    "def sampling500(df):\n",
    "    list_500 = []\n",
    "    for i in range(500):\n",
    "        i = np.random.randint(0, 9999, size = 500)\n",
    "        mean = pd.DataFrame( data = df, columns=[\"salary\"], index = i)['salary'].mean()\n",
    "        list_500.append(mean)\n",
    "    return list_500\n",
    "\n",
    "sampled500 = sampling500(df)\n",
    "print(sampled500)"
   ]
  },
  {
   "cell_type": "markdown",
   "id": "cbb9a558",
   "metadata": {},
   "source": [
    "### Q6에서 작성한 함수의 출력 결과를 인자로 넣어 아래 코드에서 실행하세요."
   ]
  },
  {
   "cell_type": "code",
   "execution_count": 102,
   "id": "aeb421fe",
   "metadata": {},
   "outputs": [
    {
     "data": {
      "text/plain": [
       "<matplotlib.lines.Line2D at 0x22b3d02d100>"
      ]
     },
     "execution_count": 102,
     "metadata": {},
     "output_type": "execute_result"
    },
    {
     "data": {
      "image/png": "[encoded data removed]",
      "text/plain": [
       "<Figure size 432x288 with 1 Axes>"
      ]
     },
     "metadata": {
      "needs_background": "light"
     },
     "output_type": "display_data"
    }
   ],
   "source": [
    "import seaborn as sns\n",
    "import matplotlib.pyplot as plt\n",
    "\n",
    "sns.histplot(sampled50, kde=True)\n",
    "plt.axvline(np.mean(sampled50))\n",
    "sns.histplot(sampled500, kde=True, color='r')\n",
    "plt.axvline(np.mean(sampled50), color = 'r')"
   ]
  },
  {
   "cell_type": "markdown",
   "id": "d0c24496",
   "metadata": {},
   "source": [
    "## Q7. (통계적 가설 검정) 사회과학에 관심이 많은 재민이는 율도국의 성별에 따라 월 평균 소득에 차이가 있을 것이라고 생각하고 있다. 아래 코드에 재민이가 이 연구를 수행하기 위해 세운 귀무가설과 대립가설을 입력하세요."
   ]
  },
  {
   "cell_type": "code",
   "execution_count": 112,
   "id": "12649b60",
   "metadata": {},
   "outputs": [
    {
     "name": "stdout",
     "output_type": "stream",
     "text": [
      "귀무가설(H0): df['salary'][df.gender == 'M'].mean() == df['sal!ary'][df.gender == 'F'].mean()\n",
      "대립가설(Ha): df['salary'][df.gender == 'M'].mean() = df['salary'][df.gender == 'F'].mean()\n"
     ]
    }
   ],
   "source": [
    "print(\"귀무가설(H0): df['salary'][df.gender == 'M'].mean() == df['sal!ary'][df.gender == 'F'].mean()\")\n",
    "print(\"대립가설(Ha): df['salary'][df.gender == 'M'].mean() = df['salary'][df.gender == 'F'].mean()\")"
   ]
  },
  {
   "cell_type": "markdown",
   "id": "7e4d8c43",
   "metadata": {},
   "source": [
    "## Q8. 재민이는 율도국의 평균 나이가 35세 라는 귀무가설이 맞다는 전제 하에 크기가 100인 표본을 추출하였는데, 이 때 표본평균이 50세로 나타났다. 이러한 통계치가 관측될 확률(p-value)을 구하는 코드를 작성하세요."
   ]
  },
  {
   "cell_type": "code",
   "execution_count": 153,
   "id": "7c95d457",
   "metadata": {},
   "outputs": [
    {
     "name": "stdout",
     "output_type": "stream",
     "text": [
      "sample_std: 10.059298929323798\n"
     ]
    }
   ],
   "source": [
    "i = np.random.randint(0, 9999, size = 100)\n",
    "a = pd.DataFrame( data = df, columns=[\"age\"], index = i)['age'].to_numpy()\n",
    "sample_std = np.sqrt(np.power(a - np.mean(a), 2).sum()/(len(a)-1))\n",
    "print(f'sample_std: {sample_std}')"
   ]
  },
  {
   "cell_type": "code",
   "execution_count": 154,
   "id": "2ab28f1e",
   "metadata": {},
   "outputs": [
    {
     "data": {
      "text/plain": [
       "1.491157595115659"
      ]
     },
     "execution_count": 154,
     "metadata": {},
     "output_type": "execute_result"
    }
   ],
   "source": [
    "z_score = (50-35)/sample_std\n",
    "z_score"
   ]
  },
  {
   "cell_type": "code",
   "execution_count": 156,
   "id": "6c818844",
   "metadata": {},
   "outputs": [
    {
     "name": "stdout",
     "output_type": "stream",
     "text": [
      "p-value = 0.06796006196048475\n"
     ]
    }
   ],
   "source": [
    "import scipy.stats\n",
    "\n",
    "p_value = scipy.stats.norm.sf(abs(z_score))\n",
    "print(f'p-value = {p_value}')"
   ]
  },
  {
   "cell_type": "markdown",
   "id": "04478c39",
   "metadata": {},
   "source": [
    "## Q9. 재민이는 Q8에서 수행한 결과를 학회에서 발표하였다. 그러나 율도국 정부에서 인구주택총조사를 진행하여 율도국 국민들의 나이를 조사한 결과 재민이가 추출한 표본은 극단적인 값임이 확인되었다. 이 때, 재민이가 범한 오류는 \"1종 오류\"와 \"2종 오류\" 중 무엇인지 출력하세요."
   ]
  },
  {
   "cell_type": "code",
   "execution_count": 157,
   "id": "9f55f7bf",
   "metadata": {},
   "outputs": [
    {
     "name": "stdout",
     "output_type": "stream",
     "text": [
      "1종 오류\n"
     ]
    }
   ],
   "source": [
    "print(\"1종 오류\")"
   ]
  },
  {
   "cell_type": "markdown",
   "id": "b2613649",
   "metadata": {},
   "source": [
    "## Q10. 재민이는 율도국 국민들이 나이가 들수록 더 많은 소득을 얻을 것이라고 생각하고 있다. 재민이의 주장이 맞으려면 age와 salary를 단순 선형 회귀 분석하였을 때, slope가 양수여야 하며, p-value는 0.05보다 작아야 한다. 이러한 가설을 확인 할 수 있도록 선형 회귀 분석을 하고 이를 summary하는 테이블을 출력하는 코드를 작성하세요."
   ]
  },
  {
   "cell_type": "code",
   "execution_count": 158,
   "id": "e4d2b2dd",
   "metadata": {},
   "outputs": [
    {
     "data": {
      "text/html": [
       "<table class=\"simpletable\">\n",
       "<caption>OLS Regression Results</caption>\n",
       "<tr>\n",
       "  <th>Dep. Variable:</th>           <td>age</td>       <th>  R-squared:         </th> <td>   0.000</td> \n",
       "</tr>\n",
       "<tr>\n",
       "  <th>Model:</th>                   <td>OLS</td>       <th>  Adj. R-squared:    </th> <td>  -0.000</td> \n",
       "</tr>\n",
       "<tr>\n",
       "  <th>Method:</th>             <td>Least Squares</td>  <th>  F-statistic:       </th> <td>  0.3399</td> \n",
       "</tr>\n",
       "<tr>\n",
       "  <th>Date:</th>             <td>Wed, 04 May 2022</td> <th>  Prob (F-statistic):</th>  <td> 0.560</td>  \n",
       "</tr>\n",
       "<tr>\n",
       "  <th>Time:</th>                 <td>12:54:03</td>     <th>  Log-Likelihood:    </th> <td> -37255.</td> \n",
       "</tr>\n",
       "<tr>\n",
       "  <th>No. Observations:</th>      <td> 10000</td>      <th>  AIC:               </th> <td>7.451e+04</td>\n",
       "</tr>\n",
       "<tr>\n",
       "  <th>Df Residuals:</th>          <td>  9998</td>      <th>  BIC:               </th> <td>7.453e+04</td>\n",
       "</tr>\n",
       "<tr>\n",
       "  <th>Df Model:</th>              <td>     1</td>      <th>                     </th>     <td> </td>    \n",
       "</tr>\n",
       "<tr>\n",
       "  <th>Covariance Type:</th>      <td>nonrobust</td>    <th>                     </th>     <td> </td>    \n",
       "</tr>\n",
       "</table>\n",
       "<table class=\"simpletable\">\n",
       "<tr>\n",
       "      <td></td>         <th>coef</th>     <th>std err</th>      <th>t</th>      <th>P>|t|</th>  <th>[0.025</th>    <th>0.975]</th>  \n",
       "</tr>\n",
       "<tr>\n",
       "  <th>Intercept</th> <td>   34.5837</td> <td>    0.139</td> <td>  249.501</td> <td> 0.000</td> <td>   34.312</td> <td>   34.855</td>\n",
       "</tr>\n",
       "<tr>\n",
       "  <th>salary</th>    <td>    0.0002</td> <td>    0.000</td> <td>    0.583</td> <td> 0.560</td> <td>   -0.001</td> <td>    0.001</td>\n",
       "</tr>\n",
       "</table>\n",
       "<table class=\"simpletable\">\n",
       "<tr>\n",
       "  <th>Omnibus:</th>       <td> 8.481</td> <th>  Durbin-Watson:     </th> <td>   1.968</td>\n",
       "</tr>\n",
       "<tr>\n",
       "  <th>Prob(Omnibus):</th> <td> 0.014</td> <th>  Jarque-Bera (JB):  </th> <td>   7.539</td>\n",
       "</tr>\n",
       "<tr>\n",
       "  <th>Skew:</th>          <td>-0.000</td> <th>  Prob(JB):          </th> <td>  0.0231</td>\n",
       "</tr>\n",
       "<tr>\n",
       "  <th>Kurtosis:</th>      <td> 2.865</td> <th>  Cond. No.          </th> <td>    489.</td>\n",
       "</tr>\n",
       "</table><br/><br/>Notes:<br/>[1] Standard Errors assume that the covariance matrix of the errors is correctly specified."
      ],
      "text/plain": [
       "<class 'statsmodels.iolib.summary.Summary'>\n",
       "\"\"\"\n",
       "                            OLS Regression Results                            \n",
       "==============================================================================\n",
       "Dep. Variable:                    age   R-squared:                       0.000\n",
       "Model:                            OLS   Adj. R-squared:                 -0.000\n",
       "Method:                 Least Squares   F-statistic:                    0.3399\n",
       "Date:                Wed, 04 May 2022   Prob (F-statistic):              0.560\n",
       "Time:                        12:54:03   Log-Likelihood:                -37255.\n",
       "No. Observations:               10000   AIC:                         7.451e+04\n",
       "Df Residuals:                    9998   BIC:                         7.453e+04\n",
       "Df Model:                           1                                         \n",
       "Covariance Type:            nonrobust                                         \n",
       "==============================================================================\n",
       "                 coef    std err          t      P>|t|      [0.025      0.975]\n",
       "------------------------------------------------------------------------------\n",
       "Intercept     34.5837      0.139    249.501      0.000      34.312      34.855\n",
       "salary         0.0002      0.000      0.583      0.560      -0.001       0.001\n",
       "==============================================================================\n",
       "Omnibus:                        8.481   Durbin-Watson:                   1.968\n",
       "Prob(Omnibus):                  0.014   Jarque-Bera (JB):                7.539\n",
       "Skew:                          -0.000   Prob(JB):                       0.0231\n",
       "Kurtosis:                       2.865   Cond. No.                         489.\n",
       "==============================================================================\n",
       "\n",
       "Notes:\n",
       "[1] Standard Errors assume that the covariance matrix of the errors is correctly specified.\n",
       "\"\"\""
      ]
     },
     "execution_count": 158,
     "metadata": {},
     "output_type": "execute_result"
    }
   ],
   "source": [
    "import statsmodels.api as sm\n",
    "model = sm.OLS.from_formula('age ~ salary', data= df)\n",
    "result = model.fit()\n",
    "result.summary()"
   ]
  },
  {
   "cell_type": "markdown",
   "id": "7f2325b0",
   "metadata": {},
   "source": [
    "## Q11. 재민이는 대전, 서울, 대구, 광주 지역의 Red당의 지지율에 의미 있는 차이가 있다고 생각했다. 이를 확인하기 위해 재민이는 여론조사를 실시하여 크기 1,000개짜리 표본을 추출하였다. 재민이의 가설이 맞는지 ANOVA를 실시하여 확인하는 코드를 작성하세요."
   ]
  },
  {
   "cell_type": "code",
   "execution_count": 246,
   "id": "af4e4f23",
   "metadata": {},
   "outputs": [
    {
     "data": {
      "text/plain": [
       "(2507, 2)"
      ]
     },
     "execution_count": 246,
     "metadata": {},
     "output_type": "execute_result"
    }
   ],
   "source": [
    "df1= df[df.location.isin(['대전', '서울', '대구', '광주'])][['location', 'party']]\n",
    "df1.shape"
   ]
  },
  {
   "cell_type": "code",
   "execution_count": 247,
   "id": "7e78f8c5",
   "metadata": {},
   "outputs": [],
   "source": [
    "df1 = df1.reset_index()"
   ]
  },
  {
   "cell_type": "code",
   "execution_count": 248,
   "id": "8aced976",
   "metadata": {},
   "outputs": [],
   "source": [
    "df1.drop(['index'], axis = 1,inplace =True)"
   ]
  },
  {
   "cell_type": "code",
   "execution_count": 249,
   "id": "36c58af1",
   "metadata": {},
   "outputs": [],
   "source": [
    "i = np.random.randint(0, 1428, size = 1000)"
   ]
  },
  {
   "cell_type": "code",
   "execution_count": 250,
   "id": "357edc26",
   "metadata": {},
   "outputs": [
    {
     "data": {
      "text/html": [
       "<div>\n",
       "<style scoped>\n",
       "    .dataframe tbody tr th:only-of-type {\n",
       "        vertical-align: middle;\n",
       "    }\n",
       "\n",
       "    .dataframe tbody tr th {\n",
       "        vertical-align: top;\n",
       "    }\n",
       "\n",
       "    .dataframe thead th {\n",
       "        text-align: right;\n",
       "    }\n",
       "</style>\n",
       "<table border=\"1\" class=\"dataframe\">\n",
       "  <thead>\n",
       "    <tr style=\"text-align: right;\">\n",
       "      <th></th>\n",
       "      <th>location</th>\n",
       "      <th>party</th>\n",
       "    </tr>\n",
       "  </thead>\n",
       "  <tbody>\n",
       "    <tr>\n",
       "      <th>1082</th>\n",
       "      <td>서울</td>\n",
       "      <td>Blue</td>\n",
       "    </tr>\n",
       "    <tr>\n",
       "      <th>1167</th>\n",
       "      <td>서울</td>\n",
       "      <td>Red</td>\n",
       "    </tr>\n",
       "    <tr>\n",
       "      <th>1101</th>\n",
       "      <td>서울</td>\n",
       "      <td>Red</td>\n",
       "    </tr>\n",
       "    <tr>\n",
       "      <th>848</th>\n",
       "      <td>서울</td>\n",
       "      <td>Blue</td>\n",
       "    </tr>\n",
       "    <tr>\n",
       "      <th>557</th>\n",
       "      <td>대전</td>\n",
       "      <td>Blue</td>\n",
       "    </tr>\n",
       "    <tr>\n",
       "      <th>...</th>\n",
       "      <td>...</td>\n",
       "      <td>...</td>\n",
       "    </tr>\n",
       "    <tr>\n",
       "      <th>1397</th>\n",
       "      <td>광주</td>\n",
       "      <td>Red</td>\n",
       "    </tr>\n",
       "    <tr>\n",
       "      <th>1300</th>\n",
       "      <td>서울</td>\n",
       "      <td>Red</td>\n",
       "    </tr>\n",
       "    <tr>\n",
       "      <th>1161</th>\n",
       "      <td>광주</td>\n",
       "      <td>Red</td>\n",
       "    </tr>\n",
       "    <tr>\n",
       "      <th>1100</th>\n",
       "      <td>서울</td>\n",
       "      <td>Red</td>\n",
       "    </tr>\n",
       "    <tr>\n",
       "      <th>922</th>\n",
       "      <td>서울</td>\n",
       "      <td>Red</td>\n",
       "    </tr>\n",
       "  </tbody>\n",
       "</table>\n",
       "<p>1000 rows × 2 columns</p>\n",
       "</div>"
      ],
      "text/plain": [
       "     location party\n",
       "1082       서울  Blue\n",
       "1167       서울   Red\n",
       "1101       서울   Red\n",
       "848        서울  Blue\n",
       "557        대전  Blue\n",
       "...       ...   ...\n",
       "1397       광주   Red\n",
       "1300       서울   Red\n",
       "1161       광주   Red\n",
       "1100       서울   Red\n",
       "922        서울   Red\n",
       "\n",
       "[1000 rows x 2 columns]"
      ]
     },
     "execution_count": 250,
     "metadata": {},
     "output_type": "execute_result"
    }
   ],
   "source": [
    "df2 = pd.DataFrame(data= df1, index = i)\n",
    "df2"
   ]
  },
  {
   "cell_type": "code",
   "execution_count": 251,
   "id": "1e6d5bcf",
   "metadata": {},
   "outputs": [
    {
     "data": {
      "text/plain": [
       "1.1284916201117319"
      ]
     },
     "execution_count": 251,
     "metadata": {},
     "output_type": "execute_result"
    }
   ],
   "source": [
    "rate_seoul = df2[(df2['party'] == 'Red') & (df2['location'] == '서울')].shape[0]\\\n",
    "/df2[(df2['party'] == 'Blue') & (df2['location'] == '서울')].shape[0]\n",
    "rate_seoul"
   ]
  },
  {
   "cell_type": "code",
   "execution_count": 245,
   "id": "3febcdc3",
   "metadata": {},
   "outputs": [
    {
     "data": {
      "text/plain": [
       "0.10033444816053512"
      ]
     },
     "execution_count": 245,
     "metadata": {},
     "output_type": "execute_result"
    }
   ],
   "source": [
    "rate_daejeon = df2[(df2['party'] == 'Red') & (df2['location'] == '대전')].shape[0]\\\n",
    "/df2[(df2['party'] == 'Blue') & (df2['location'] == '대전')].shape[0]\n",
    "rate_daejeon"
   ]
  },
  {
   "cell_type": "raw",
   "id": "08da4f04",
   "metadata": {},
   "source": [
    "rate_daejeon = df2[(df2['party'] == 'Red') & (df2['location'] == '대전')].shape[0]\\\n",
    "/df2[(df2['party'] == 'Blue') & (df2['location'] == '대전')].shape[0]\n",
    "rate_daejeon"
   ]
  },
  {
   "cell_type": "code",
   "execution_count": 227,
   "id": "ae5a6c25",
   "metadata": {},
   "outputs": [
    {
     "ename": "ValueError",
     "evalue": "endog has evaluated to an array with multiple columns that has shape (1000, 2). This occurs when the variable converted to endog is non-numeric (e.g., bool or str).",
     "output_type": "error",
     "traceback": [
      "\u001b[1;31m---------------------------------------------------------------------------\u001b[0m",
      "\u001b[1;31mValueError\u001b[0m                                Traceback (most recent call last)",
      "\u001b[1;32m<ipython-input-227-e5a446bacb83>\u001b[0m in \u001b[0;36m<module>\u001b[1;34m\u001b[0m\n\u001b[0;32m      1\u001b[0m \u001b[1;32mfrom\u001b[0m \u001b[0mstatsmodels\u001b[0m\u001b[1;33m.\u001b[0m\u001b[0mformula\u001b[0m\u001b[1;33m.\u001b[0m\u001b[0mapi\u001b[0m \u001b[1;32mimport\u001b[0m \u001b[0mols\u001b[0m\u001b[1;33m\u001b[0m\u001b[1;33m\u001b[0m\u001b[0m\n\u001b[1;32m----> 2\u001b[1;33m \u001b[0mmodel\u001b[0m \u001b[1;33m=\u001b[0m \u001b[0mols\u001b[0m\u001b[1;33m(\u001b[0m\u001b[1;34m'C(location) ~ C(party)'\u001b[0m\u001b[1;33m,\u001b[0m \u001b[0mdata\u001b[0m \u001b[1;33m=\u001b[0m \u001b[0mdf2\u001b[0m\u001b[1;33m)\u001b[0m\u001b[1;33m.\u001b[0m\u001b[0mfit\u001b[0m\u001b[1;33m(\u001b[0m\u001b[1;33m)\u001b[0m\u001b[1;33m\u001b[0m\u001b[1;33m\u001b[0m\u001b[0m\n\u001b[0m\u001b[0;32m      3\u001b[0m \u001b[0manova_table\u001b[0m \u001b[1;33m=\u001b[0m \u001b[0msm\u001b[0m\u001b[1;33m.\u001b[0m\u001b[0mstats\u001b[0m\u001b[1;33m.\u001b[0m\u001b[0manova_lm\u001b[0m\u001b[1;33m(\u001b[0m\u001b[0mmodel\u001b[0m\u001b[1;33m,\u001b[0m \u001b[0mtpy\u001b[0m\u001b[1;33m=\u001b[0m\u001b[1;36m2\u001b[0m\u001b[1;33m)\u001b[0m\u001b[1;33m\u001b[0m\u001b[1;33m\u001b[0m\u001b[0m\n\u001b[0;32m      4\u001b[0m \u001b[0manova_table\u001b[0m\u001b[1;33m\u001b[0m\u001b[1;33m\u001b[0m\u001b[0m\n",
      "\u001b[1;32m~\\anaconda3\\lib\\site-packages\\statsmodels\\base\\model.py\u001b[0m in \u001b[0;36mfrom_formula\u001b[1;34m(cls, formula, data, subset, drop_cols, *args, **kwargs)\u001b[0m\n\u001b[0;32m    173\u001b[0m         if (max_endog is not None and\n\u001b[0;32m    174\u001b[0m                 endog.ndim > 1 and endog.shape[1] > max_endog):\n\u001b[1;32m--> 175\u001b[1;33m             raise ValueError('endog has evaluated to an array with multiple '\n\u001b[0m\u001b[0;32m    176\u001b[0m                              \u001b[1;34m'columns that has shape {0}. This occurs when '\u001b[0m\u001b[1;33m\u001b[0m\u001b[1;33m\u001b[0m\u001b[0m\n\u001b[0;32m    177\u001b[0m                              \u001b[1;34m'the variable converted to endog is non-numeric'\u001b[0m\u001b[1;33m\u001b[0m\u001b[1;33m\u001b[0m\u001b[0m\n",
      "\u001b[1;31mValueError\u001b[0m: endog has evaluated to an array with multiple columns that has shape (1000, 2). This occurs when the variable converted to endog is non-numeric (e.g., bool or str)."
     ]
    }
   ],
   "source": [
    "from statsmodels.formula.api import ols\n",
    "model = ols('C(location) ~ C(party)', data = df2).fit()\n",
    "anova_table = sm.stats.anova_lm(model, tpy=2)\n",
    "anova_table"
   ]
  },
  {
   "cell_type": "code",
   "execution_count": 253,
   "id": "4fe06ee0",
   "metadata": {},
   "outputs": [
    {
     "ename": "TypeError",
     "evalue": "Neither the `x` nor `y` variable appears to be numeric.",
     "output_type": "error",
     "traceback": [
      "\u001b[1;31m---------------------------------------------------------------------------\u001b[0m",
      "\u001b[1;31mTypeError\u001b[0m                                 Traceback (most recent call last)",
      "\u001b[1;32m<ipython-input-253-c147cc6c3751>\u001b[0m in \u001b[0;36m<module>\u001b[1;34m\u001b[0m\n\u001b[1;32m----> 1\u001b[1;33m \u001b[0max\u001b[0m \u001b[1;33m=\u001b[0m \u001b[0msns\u001b[0m\u001b[1;33m.\u001b[0m\u001b[0mboxplot\u001b[0m\u001b[1;33m(\u001b[0m\u001b[0mx\u001b[0m\u001b[1;33m=\u001b[0m\u001b[1;34m'location'\u001b[0m\u001b[1;33m,\u001b[0m \u001b[0my\u001b[0m\u001b[1;33m=\u001b[0m\u001b[1;34m'party'\u001b[0m\u001b[1;33m,\u001b[0m \u001b[0mdata\u001b[0m\u001b[1;33m=\u001b[0m\u001b[0mdf2\u001b[0m\u001b[1;33m,\u001b[0m \u001b[0mcolor\u001b[0m\u001b[1;33m=\u001b[0m\u001b[1;34m'#99c2a2'\u001b[0m\u001b[1;33m)\u001b[0m\u001b[1;33m\u001b[0m\u001b[1;33m\u001b[0m\u001b[0m\n\u001b[0m\u001b[0;32m      2\u001b[0m \u001b[0max\u001b[0m \u001b[1;33m=\u001b[0m \u001b[0msns\u001b[0m\u001b[1;33m.\u001b[0m\u001b[0mswarmplot\u001b[0m\u001b[1;33m(\u001b[0m\u001b[0mx\u001b[0m\u001b[1;33m=\u001b[0m\u001b[1;34m\"location\"\u001b[0m\u001b[1;33m,\u001b[0m \u001b[0my\u001b[0m\u001b[1;33m=\u001b[0m\u001b[1;34m\"party\"\u001b[0m\u001b[1;33m,\u001b[0m \u001b[0mdata\u001b[0m\u001b[1;33m=\u001b[0m\u001b[0mdf2\u001b[0m\u001b[1;33m,\u001b[0m \u001b[0mcolor\u001b[0m\u001b[1;33m=\u001b[0m\u001b[1;34m'#7d0013'\u001b[0m\u001b[1;33m)\u001b[0m\u001b[1;33m\u001b[0m\u001b[1;33m\u001b[0m\u001b[0m\n\u001b[0;32m      3\u001b[0m \u001b[0mplt\u001b[0m\u001b[1;33m.\u001b[0m\u001b[0mshow\u001b[0m\u001b[1;33m(\u001b[0m\u001b[1;33m)\u001b[0m\u001b[1;33m\u001b[0m\u001b[1;33m\u001b[0m\u001b[0m\n",
      "\u001b[1;32m~\\anaconda3\\lib\\site-packages\\seaborn\\_decorators.py\u001b[0m in \u001b[0;36minner_f\u001b[1;34m(*args, **kwargs)\u001b[0m\n\u001b[0;32m     44\u001b[0m             )\n\u001b[0;32m     45\u001b[0m         \u001b[0mkwargs\u001b[0m\u001b[1;33m.\u001b[0m\u001b[0mupdate\u001b[0m\u001b[1;33m(\u001b[0m\u001b[1;33m{\u001b[0m\u001b[0mk\u001b[0m\u001b[1;33m:\u001b[0m \u001b[0marg\u001b[0m \u001b[1;32mfor\u001b[0m \u001b[0mk\u001b[0m\u001b[1;33m,\u001b[0m \u001b[0marg\u001b[0m \u001b[1;32min\u001b[0m \u001b[0mzip\u001b[0m\u001b[1;33m(\u001b[0m\u001b[0msig\u001b[0m\u001b[1;33m.\u001b[0m\u001b[0mparameters\u001b[0m\u001b[1;33m,\u001b[0m \u001b[0margs\u001b[0m\u001b[1;33m)\u001b[0m\u001b[1;33m}\u001b[0m\u001b[1;33m)\u001b[0m\u001b[1;33m\u001b[0m\u001b[1;33m\u001b[0m\u001b[0m\n\u001b[1;32m---> 46\u001b[1;33m         \u001b[1;32mreturn\u001b[0m \u001b[0mf\u001b[0m\u001b[1;33m(\u001b[0m\u001b[1;33m**\u001b[0m\u001b[0mkwargs\u001b[0m\u001b[1;33m)\u001b[0m\u001b[1;33m\u001b[0m\u001b[1;33m\u001b[0m\u001b[0m\n\u001b[0m\u001b[0;32m     47\u001b[0m     \u001b[1;32mreturn\u001b[0m \u001b[0minner_f\u001b[0m\u001b[1;33m\u001b[0m\u001b[1;33m\u001b[0m\u001b[0m\n\u001b[0;32m     48\u001b[0m \u001b[1;33m\u001b[0m\u001b[0m\n",
      "\u001b[1;32m~\\anaconda3\\lib\\site-packages\\seaborn\\categorical.py\u001b[0m in \u001b[0;36mboxplot\u001b[1;34m(x, y, hue, data, order, hue_order, orient, color, palette, saturation, width, dodge, fliersize, linewidth, whis, ax, **kwargs)\u001b[0m\n\u001b[0;32m   2238\u001b[0m ):\n\u001b[0;32m   2239\u001b[0m \u001b[1;33m\u001b[0m\u001b[0m\n\u001b[1;32m-> 2240\u001b[1;33m     plotter = _BoxPlotter(x, y, hue, data, order, hue_order,\n\u001b[0m\u001b[0;32m   2241\u001b[0m                           \u001b[0morient\u001b[0m\u001b[1;33m,\u001b[0m \u001b[0mcolor\u001b[0m\u001b[1;33m,\u001b[0m \u001b[0mpalette\u001b[0m\u001b[1;33m,\u001b[0m \u001b[0msaturation\u001b[0m\u001b[1;33m,\u001b[0m\u001b[1;33m\u001b[0m\u001b[1;33m\u001b[0m\u001b[0m\n\u001b[0;32m   2242\u001b[0m                           width, dodge, fliersize, linewidth)\n",
      "\u001b[1;32m~\\anaconda3\\lib\\site-packages\\seaborn\\categorical.py\u001b[0m in \u001b[0;36m__init__\u001b[1;34m(self, x, y, hue, data, order, hue_order, orient, color, palette, saturation, width, dodge, fliersize, linewidth)\u001b[0m\n\u001b[0;32m    404\u001b[0m                  width, dodge, fliersize, linewidth):\n\u001b[0;32m    405\u001b[0m \u001b[1;33m\u001b[0m\u001b[0m\n\u001b[1;32m--> 406\u001b[1;33m         \u001b[0mself\u001b[0m\u001b[1;33m.\u001b[0m\u001b[0mestablish_variables\u001b[0m\u001b[1;33m(\u001b[0m\u001b[0mx\u001b[0m\u001b[1;33m,\u001b[0m \u001b[0my\u001b[0m\u001b[1;33m,\u001b[0m \u001b[0mhue\u001b[0m\u001b[1;33m,\u001b[0m \u001b[0mdata\u001b[0m\u001b[1;33m,\u001b[0m \u001b[0morient\u001b[0m\u001b[1;33m,\u001b[0m \u001b[0morder\u001b[0m\u001b[1;33m,\u001b[0m \u001b[0mhue_order\u001b[0m\u001b[1;33m)\u001b[0m\u001b[1;33m\u001b[0m\u001b[1;33m\u001b[0m\u001b[0m\n\u001b[0m\u001b[0;32m    407\u001b[0m         \u001b[0mself\u001b[0m\u001b[1;33m.\u001b[0m\u001b[0mestablish_colors\u001b[0m\u001b[1;33m(\u001b[0m\u001b[0mcolor\u001b[0m\u001b[1;33m,\u001b[0m \u001b[0mpalette\u001b[0m\u001b[1;33m,\u001b[0m \u001b[0msaturation\u001b[0m\u001b[1;33m)\u001b[0m\u001b[1;33m\u001b[0m\u001b[1;33m\u001b[0m\u001b[0m\n\u001b[0;32m    408\u001b[0m \u001b[1;33m\u001b[0m\u001b[0m\n",
      "\u001b[1;32m~\\anaconda3\\lib\\site-packages\\seaborn\\categorical.py\u001b[0m in \u001b[0;36mestablish_variables\u001b[1;34m(self, x, y, hue, data, orient, order, hue_order, units)\u001b[0m\n\u001b[0;32m    154\u001b[0m \u001b[1;33m\u001b[0m\u001b[0m\n\u001b[0;32m    155\u001b[0m             \u001b[1;31m# Figure out the plotting orientation\u001b[0m\u001b[1;33m\u001b[0m\u001b[1;33m\u001b[0m\u001b[1;33m\u001b[0m\u001b[0m\n\u001b[1;32m--> 156\u001b[1;33m             orient = infer_orient(\n\u001b[0m\u001b[0;32m    157\u001b[0m                 \u001b[0mx\u001b[0m\u001b[1;33m,\u001b[0m \u001b[0my\u001b[0m\u001b[1;33m,\u001b[0m \u001b[0morient\u001b[0m\u001b[1;33m,\u001b[0m \u001b[0mrequire_numeric\u001b[0m\u001b[1;33m=\u001b[0m\u001b[0mself\u001b[0m\u001b[1;33m.\u001b[0m\u001b[0mrequire_numeric\u001b[0m\u001b[1;33m\u001b[0m\u001b[1;33m\u001b[0m\u001b[0m\n\u001b[0;32m    158\u001b[0m             )\n",
      "\u001b[1;32m~\\anaconda3\\lib\\site-packages\\seaborn\\_core.py\u001b[0m in \u001b[0;36minfer_orient\u001b[1;34m(x, y, orient, require_numeric)\u001b[0m\n\u001b[0;32m   1343\u001b[0m     \u001b[1;32melif\u001b[0m \u001b[0mrequire_numeric\u001b[0m \u001b[1;32mand\u001b[0m \u001b[1;34m\"numeric\"\u001b[0m \u001b[1;32mnot\u001b[0m \u001b[1;32min\u001b[0m \u001b[1;33m(\u001b[0m\u001b[0mx_type\u001b[0m\u001b[1;33m,\u001b[0m \u001b[0my_type\u001b[0m\u001b[1;33m)\u001b[0m\u001b[1;33m:\u001b[0m\u001b[1;33m\u001b[0m\u001b[1;33m\u001b[0m\u001b[0m\n\u001b[0;32m   1344\u001b[0m         \u001b[0merr\u001b[0m \u001b[1;33m=\u001b[0m \u001b[1;34m\"Neither the `x` nor `y` variable appears to be numeric.\"\u001b[0m\u001b[1;33m\u001b[0m\u001b[1;33m\u001b[0m\u001b[0m\n\u001b[1;32m-> 1345\u001b[1;33m         \u001b[1;32mraise\u001b[0m \u001b[0mTypeError\u001b[0m\u001b[1;33m(\u001b[0m\u001b[0merr\u001b[0m\u001b[1;33m)\u001b[0m\u001b[1;33m\u001b[0m\u001b[1;33m\u001b[0m\u001b[0m\n\u001b[0m\u001b[0;32m   1346\u001b[0m \u001b[1;33m\u001b[0m\u001b[0m\n\u001b[0;32m   1347\u001b[0m     \u001b[1;32melse\u001b[0m\u001b[1;33m:\u001b[0m\u001b[1;33m\u001b[0m\u001b[1;33m\u001b[0m\u001b[0m\n",
      "\u001b[1;31mTypeError\u001b[0m: Neither the `x` nor `y` variable appears to be numeric."
     ]
    }
   ],
   "source": [
    "ax = sns.boxplot(x='location', y='party', data=df2, color='#99c2a2')\n",
    "ax = sns.swarmplot(x=\"location\", y=\"party\", data=df2, color='#7d0013')\n",
    "plt.show()"
   ]
  },
  {
   "cell_type": "code",
   "execution_count": 254,
   "id": "d029a616",
   "metadata": {},
   "outputs": [],
   "source": [
    "# 두 변수가 모두 categorical 일 때 ANOVA를 어떤 식으로 해야되는지 잘 모르겠습니다. ㅠ\n"
   ]
  },
  {
   "cell_type": "code",
   "execution_count": null,
   "id": "323986e5",
   "metadata": {},
   "outputs": [],
   "source": []
  }
 ],
 "metadata": {
  "kernelspec": {
   "display_name": "Python 3",
   "language": "python",
   "name": "python3"
  },
  "language_info": {
   "codemirror_mode": {
    "name": "ipython",
    "version": 3
   },
   "file_extension": ".py",
   "mimetype": "text/x-python",
   "name": "python",
   "nbconvert_exporter": "python",
   "pygments_lexer": "ipython3",
   "version": "3.8.8"
  }
 },
 "nbformat": 4,
 "nbformat_minor": 5
}
