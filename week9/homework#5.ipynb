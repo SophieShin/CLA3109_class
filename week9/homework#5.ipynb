{
 "cells": [
  {
   "cell_type": "markdown",
   "id": "18bf9fcd",
   "metadata": {},
   "source": [
    "# 이름: 신소희\n",
    "# 학번: 2021710232\n",
    "# 학과: 인공지능융합학과"
   ]
  },
  {
   "cell_type": "markdown",
   "id": "0f9fe1c2",
   "metadata": {},
   "source": [
    "## Q1. 파이썬 내장 함수만 이용하여 평균을 구하는 함수를 작성하세요."
   ]
  },
  {
   "cell_type": "code",
   "execution_count": 14,
   "id": "7bf3430a",
   "metadata": {},
   "outputs": [],
   "source": [
    "def mean(data):\n",
    "    if isinstance(data, list):\n",
    "        return sum(data)/len(data)\n",
    "    else:\n",
    "        raise TypeError(\"list만 입력 가능합니다.\")\n",
    "  "
   ]
  },
  {
   "cell_type": "code",
   "execution_count": 15,
   "id": "4c58502b",
   "metadata": {},
   "outputs": [
    {
     "data": {
      "text/plain": [
       "3.0"
      ]
     },
     "execution_count": 15,
     "metadata": {},
     "output_type": "execute_result"
    }
   ],
   "source": [
    "mean([1,2,3,4,5]) \n"
   ]
  },
  {
   "cell_type": "code",
   "execution_count": 16,
   "id": "9a9988bd",
   "metadata": {},
   "outputs": [
    {
     "ename": "TypeError",
     "evalue": "list만 입력 가능합니다.",
     "output_type": "error",
     "traceback": [
      "\u001b[1;31m---------------------------------------------------------------------------\u001b[0m",
      "\u001b[1;31mTypeError\u001b[0m                                 Traceback (most recent call last)",
      "\u001b[1;32m<ipython-input-16-8b6937566e04>\u001b[0m in \u001b[0;36m<module>\u001b[1;34m\u001b[0m\n\u001b[1;32m----> 1\u001b[1;33m \u001b[0mexample2\u001b[0m \u001b[1;33m=\u001b[0m \u001b[0mmean\u001b[0m\u001b[1;33m(\u001b[0m\u001b[1;36m5\u001b[0m\u001b[1;33m)\u001b[0m\u001b[1;33m\u001b[0m\u001b[1;33m\u001b[0m\u001b[0m\n\u001b[0m",
      "\u001b[1;32m<ipython-input-14-9727f557d403>\u001b[0m in \u001b[0;36mmean\u001b[1;34m(data)\u001b[0m\n\u001b[0;32m      3\u001b[0m         \u001b[1;32mreturn\u001b[0m \u001b[0msum\u001b[0m\u001b[1;33m(\u001b[0m\u001b[0mdata\u001b[0m\u001b[1;33m)\u001b[0m\u001b[1;33m/\u001b[0m\u001b[0mlen\u001b[0m\u001b[1;33m(\u001b[0m\u001b[0mdata\u001b[0m\u001b[1;33m)\u001b[0m\u001b[1;33m\u001b[0m\u001b[1;33m\u001b[0m\u001b[0m\n\u001b[0;32m      4\u001b[0m     \u001b[1;32melse\u001b[0m\u001b[1;33m:\u001b[0m\u001b[1;33m\u001b[0m\u001b[1;33m\u001b[0m\u001b[0m\n\u001b[1;32m----> 5\u001b[1;33m         \u001b[1;32mraise\u001b[0m \u001b[0mTypeError\u001b[0m\u001b[1;33m(\u001b[0m\u001b[1;34m\"list만 입력 가능합니다.\"\u001b[0m\u001b[1;33m)\u001b[0m\u001b[1;33m\u001b[0m\u001b[1;33m\u001b[0m\u001b[0m\n\u001b[0m\u001b[0;32m      6\u001b[0m \u001b[1;33m\u001b[0m\u001b[0m\n",
      "\u001b[1;31mTypeError\u001b[0m: list만 입력 가능합니다."
     ]
    }
   ],
   "source": [
    "example2 = mean(5)"
   ]
  },
  {
   "cell_type": "markdown",
   "id": "2a0cfc39",
   "metadata": {},
   "source": [
    "## Q2. 파이썬 내장 함수만 이용하여 모집단의 분산을 구하는 함수를 작성하세요. (단, Q1에서 작성한 함수 사용 가능함.)"
   ]
  },
  {
   "cell_type": "code",
   "execution_count": 17,
   "id": "521d8709",
   "metadata": {},
   "outputs": [],
   "source": [
    "import numpy as np"
   ]
  },
  {
   "cell_type": "code",
   "execution_count": 18,
   "id": "4b46dc49",
   "metadata": {},
   "outputs": [
    {
     "data": {
      "text/plain": [
       "2.0"
      ]
     },
     "execution_count": 18,
     "metadata": {},
     "output_type": "execute_result"
    }
   ],
   "source": [
    "def variance(data):\n",
    "    if isinstance(data, list):\n",
    "        return np.power((np.array(data) - mean(data)),2).sum()/len(data)    \n",
    "    else:    \n",
    "        raise TypeError(\"list만 입력 가능합니다.\")\n",
    "variance([1,2,3,4,5]) "
   ]
  },
  {
   "cell_type": "markdown",
   "id": "c2779a6a",
   "metadata": {},
   "source": [
    "## Q3. 파이썬 내장 함수만 이용하여 <u>모집단의 표준편차</u>를 구하는 함수를 작성하세요. (단, Q1, Q2에서 작성한 함수 사용 가능함.)"
   ]
  },
  {
   "cell_type": "code",
   "execution_count": 19,
   "id": "a176023a",
   "metadata": {},
   "outputs": [
    {
     "data": {
      "text/plain": [
       "1.4142135623730951"
      ]
     },
     "execution_count": 19,
     "metadata": {},
     "output_type": "execute_result"
    }
   ],
   "source": [
    "def std(data):\n",
    "    if isinstance(data, list):\n",
    "        return np.sqrt(variance(data))\n",
    "    else:    \n",
    "        raise TypeError(\"list만 입력 가능합니다.\")\n",
    "std([1,2,3,4,5]) "
   ]
  },
  {
   "cell_type": "markdown",
   "id": "94f54c28",
   "metadata": {},
   "source": [
    "## Q3. 파이썬 내장 함수만 이용하여 <u>표본의 표준편차</u>를 구하는 함수를 작성하세요. (단, Q1, Q2, Q3에서 작성한 함수 사용 가능함.) 표본의 표준편차를 구하는 방법은 아래 공식을 이용하세요."
   ]
  },
  {
   "cell_type": "markdown",
   "id": "020564e3",
   "metadata": {},
   "source": [
    "## $s_x = \\sqrt{\\sum{(x_i - \\bar{x})^2} \\over n-1}$"
   ]
  },
  {
   "cell_type": "code",
   "execution_count": 20,
   "id": "4b7687e7",
   "metadata": {},
   "outputs": [
    {
     "data": {
      "text/plain": [
       "1.5811388300841898"
      ]
     },
     "execution_count": 20,
     "metadata": {},
     "output_type": "execute_result"
    }
   ],
   "source": [
    "def sample_std(data):\n",
    "    if isinstance(data, list):\n",
    "        return  np.sqrt(np.power((np.array(data) - mean(data)),2).sum()/(len(data)-1))        \n",
    "    else:    \n",
    "        raise TypeError(\"list만 입력 가능합니다.\")\n",
    "sample_std([1,2,3,4,5]) "
   ]
  },
  {
   "cell_type": "markdown",
   "id": "3b529d36",
   "metadata": {},
   "source": [
    "## Q5. 파이썬 내장 함수만 이용하여 입력한 리스트의 각 요소들의 Z-Score를 구하는 함수를 작성하세요. (단, Q1, Q2, Q3, Q4에서 작성한 함수 사용 가능함. 단, 표준편차는 표본 표준편차를 사용함.)"
   ]
  },
  {
   "cell_type": "code",
   "execution_count": 21,
   "id": "7d4de3d0",
   "metadata": {},
   "outputs": [
    {
     "data": {
      "text/plain": [
       "array([-1.26491106, -0.63245553,  0.        ,  0.63245553,  1.26491106])"
      ]
     },
     "execution_count": 21,
     "metadata": {},
     "output_type": "execute_result"
    }
   ],
   "source": [
    "def z_score(data):\n",
    "    if isinstance(data, list):\n",
    "        return (np.array(data)-mean(data))/sample_std(data)\n",
    "    else:    \n",
    "        raise TypeError(\"list만 입력 가능합니다.\")\n",
    "z_score([1,2,3,4,5]) # return [-1.2649110640673518, -0.6324555320336759, 0.0, 0.6324555320336759, 1.2649110640673518]"
   ]
  },
  {
   "cell_type": "markdown",
   "id": "0141930d",
   "metadata": {},
   "source": [
    "## Q5. 파이썬 내장 함수만 이용하여 입력한 리스트의 신뢰도 95%의 신뢰구간을 구하는 함수를 작성하세요. (단, Q1, Q2, Q3, Q4, Q5에서 작성한 함수 사용 가능함. 단, 표준정규분포에서 신뢰도 95%의 z-score는 1.96임. 단, 표준편차는 표본 표준편차를 사용함.)"
   ]
  },
  {
   "cell_type": "code",
   "execution_count": 22,
   "id": "d48c9137",
   "metadata": {},
   "outputs": [
    {
     "data": {
      "text/plain": [
       "[1.6140707088743669, 4.385929291125633]"
      ]
     },
     "execution_count": 22,
     "metadata": {},
     "output_type": "execute_result"
    }
   ],
   "source": [
    "def ci(data):\n",
    "    if isinstance(data, list):\n",
    "        left = mean(data) - 1.96* sample_std(data)/np.sqrt(len(data))\n",
    "        right = mean(data) + 1.96* sample_std(data)/np.sqrt(len(data))\n",
    "        return list([left, right])\n",
    "    else:\n",
    "        raise TypeError(\"list만 입력 가능합니다.\")\n",
    "ci([1,2,3,4,5]) # return [1.6140707088743669, 4.385929291125633]"
   ]
  },
  {
   "cell_type": "markdown",
   "id": "2bb80b79",
   "metadata": {},
   "source": [
    "## Q6 ~ Q10. 가상의 나라인 \"율도국\"은 인구가 10,000명이다. 이 나라 국민들은 17개 지역(location)에 흩어져 살고 있으며 성비(gender)는 잦은 전쟁으로 남자보다 여자가 더 많다. 전쟁으로 인한 사회 불안정 탓인지 월 소득(salary) 불균형도 매우 커서 사회적 불만이 큰 상황이다. 율도국에서는 지난 4월 총선이 있었고 Red당과 Blue당이 총선에서 격돌하였다. df는 총선 결과를 나타내는 데이터 프레임이다. 다음 코드를 실행하고 다음 문제를 계속 진행하세요."
   ]
  },
  {
   "cell_type": "code",
   "execution_count": 23,
   "id": "9b3a0981",
   "metadata": {},
   "outputs": [
    {
     "data": {
      "text/html": [
       "<div>\n",
       "<style scoped>\n",
       "    .dataframe tbody tr th:only-of-type {\n",
       "        vertical-align: middle;\n",
       "    }\n",
       "\n",
       "    .dataframe tbody tr th {\n",
       "        vertical-align: top;\n",
       "    }\n",
       "\n",
       "    .dataframe thead th {\n",
       "        text-align: right;\n",
       "    }\n",
       "</style>\n",
       "<table border=\"1\" class=\"dataframe\">\n",
       "  <thead>\n",
       "    <tr style=\"text-align: right;\">\n",
       "      <th></th>\n",
       "      <th>location</th>\n",
       "      <th>age</th>\n",
       "      <th>gender</th>\n",
       "      <th>salary</th>\n",
       "      <th>party</th>\n",
       "    </tr>\n",
       "  </thead>\n",
       "  <tbody>\n",
       "    <tr>\n",
       "      <th>0</th>\n",
       "      <td>경기</td>\n",
       "      <td>37</td>\n",
       "      <td>F</td>\n",
       "      <td>0</td>\n",
       "      <td>Blue</td>\n",
       "    </tr>\n",
       "    <tr>\n",
       "      <th>1</th>\n",
       "      <td>경기</td>\n",
       "      <td>46</td>\n",
       "      <td>M</td>\n",
       "      <td>0</td>\n",
       "      <td>Red</td>\n",
       "    </tr>\n",
       "    <tr>\n",
       "      <th>2</th>\n",
       "      <td>서울</td>\n",
       "      <td>30</td>\n",
       "      <td>F</td>\n",
       "      <td>200</td>\n",
       "      <td>Red</td>\n",
       "    </tr>\n",
       "    <tr>\n",
       "      <th>3</th>\n",
       "      <td>광주</td>\n",
       "      <td>41</td>\n",
       "      <td>M</td>\n",
       "      <td>300</td>\n",
       "      <td>Red</td>\n",
       "    </tr>\n",
       "    <tr>\n",
       "      <th>4</th>\n",
       "      <td>충남</td>\n",
       "      <td>31</td>\n",
       "      <td>F</td>\n",
       "      <td>0</td>\n",
       "      <td>Red</td>\n",
       "    </tr>\n",
       "    <tr>\n",
       "      <th>...</th>\n",
       "      <td>...</td>\n",
       "      <td>...</td>\n",
       "      <td>...</td>\n",
       "      <td>...</td>\n",
       "      <td>...</td>\n",
       "    </tr>\n",
       "    <tr>\n",
       "      <th>9995</th>\n",
       "      <td>울산</td>\n",
       "      <td>32</td>\n",
       "      <td>M</td>\n",
       "      <td>250</td>\n",
       "      <td>Blue</td>\n",
       "    </tr>\n",
       "    <tr>\n",
       "      <th>9996</th>\n",
       "      <td>충남</td>\n",
       "      <td>26</td>\n",
       "      <td>F</td>\n",
       "      <td>0</td>\n",
       "      <td>Blue</td>\n",
       "    </tr>\n",
       "    <tr>\n",
       "      <th>9997</th>\n",
       "      <td>서울</td>\n",
       "      <td>25</td>\n",
       "      <td>M</td>\n",
       "      <td>250</td>\n",
       "      <td>Blue</td>\n",
       "    </tr>\n",
       "    <tr>\n",
       "      <th>9998</th>\n",
       "      <td>경기</td>\n",
       "      <td>44</td>\n",
       "      <td>F</td>\n",
       "      <td>600</td>\n",
       "      <td>Blue</td>\n",
       "    </tr>\n",
       "    <tr>\n",
       "      <th>9999</th>\n",
       "      <td>경기</td>\n",
       "      <td>47</td>\n",
       "      <td>F</td>\n",
       "      <td>100</td>\n",
       "      <td>Blue</td>\n",
       "    </tr>\n",
       "  </tbody>\n",
       "</table>\n",
       "<p>10000 rows × 5 columns</p>\n",
       "</div>"
      ],
      "text/plain": [
       "     location  age gender  salary party\n",
       "0          경기   37      F       0  Blue\n",
       "1          경기   46      M       0   Red\n",
       "2          서울   30      F     200   Red\n",
       "3          광주   41      M     300   Red\n",
       "4          충남   31      F       0   Red\n",
       "...       ...  ...    ...     ...   ...\n",
       "9995       울산   32      M     250  Blue\n",
       "9996       충남   26      F       0  Blue\n",
       "9997       서울   25      M     250  Blue\n",
       "9998       경기   44      F     600  Blue\n",
       "9999       경기   47      F     100  Blue\n",
       "\n",
       "[10000 rows x 5 columns]"
      ]
     },
     "execution_count": 23,
     "metadata": {},
     "output_type": "execute_result"
    }
   ],
   "source": [
    "import numpy as np\n",
    "import pandas as pd\n",
    "location = ['서울','경기','인천','강원','충남','충북','대전','전북','전남','광주','경북','대구','부산','울산','경남','제주','세종']\n",
    "gender = ['M','F','E']\n",
    "party = ['Red', 'Blue']\n",
    "df = pd.DataFrame()                                                                                                                                                                     \n",
    "N = 10000                                                                                                                                                                                \n",
    "df[\"location\"] = np.random.choice(location, size=N, p=[0.1,0.1,0.1]+[0.05]*14)                                                                                                                                     \n",
    "df[\"age\"] = [int(i) if i>=0 else int(-i) for i in np.random.normal(35, 10, N)]                                                                                                                                               \n",
    "df[\"gender\"] = np.random.choice(gender, p = [0.4, 0.59, 0.01], size=N)\n",
    "df['salary'] = np.random.permutation([(int(i)-1)*50 for i in np.exp(1.5*np.linspace(0, 2, N))])\n",
    "df['party'] = df.apply(lambda x: np.random.choice(party, p=[0.1, 0.9]) if x['location']=='대전' else np.random.choice(party), axis=1)\n",
    "df"
   ]
  },
  {
   "cell_type": "markdown",
   "id": "a2c6faf9",
   "metadata": {},
   "source": [
    "## Q6-1. (중심 극한 정리) 율도국 국민(df) 중에서 표본 크기가 50인 표본을 추출하는 것을 1,000번 반복한 후 각 표본의 'salary'의 표본평균을 측정한 결과의 리스트를 출력하는 함수를 작성하세요. "
   ]
  },
  {
   "cell_type": "code",
   "execution_count": 24,
   "id": "8c67ccec",
   "metadata": {},
   "outputs": [
    {
     "name": "stdout",
     "output_type": "stream",
     "text": [
      "[239.0, 213.0, 246.0, 271.0, 167.0, 258.0, 315.0, 285.0, 217.0, 228.0, 262.0, 265.0, 281.0, 307.0, 240.0, 202.0, 216.0, 233.0, 237.0, 211.0, 205.0, 284.0, 222.0, 246.0, 233.0, 238.0, 234.0, 272.0, 213.0, 316.0, 263.0, 242.0, 226.0, 280.0, 221.0, 273.0, 243.0, 220.0, 248.0, 193.0, 238.0, 267.0, 201.0, 232.0, 306.0, 278.0, 209.0, 216.0, 272.0, 277.0, 216.0, 204.0, 180.0, 210.0, 249.0, 268.0, 255.0, 232.0, 269.0, 307.0, 238.0, 207.0, 246.0, 249.0, 250.0, 234.0, 209.0, 224.0, 255.0, 250.0, 236.0, 278.0, 239.0, 233.0, 226.0, 200.0, 215.0, 246.0, 242.0, 178.0, 282.0, 261.0, 229.0, 233.0, 186.0, 241.0, 247.0, 204.0, 240.0, 259.0, 220.0, 293.0, 293.0, 340.0, 212.0, 237.0, 224.0, 266.0, 293.0, 222.0, 254.0, 301.0, 238.0, 220.0, 241.0, 260.0, 254.0, 195.0, 187.0, 255.0, 259.0, 246.0, 214.0, 237.0, 306.0, 296.0, 276.0, 245.0, 273.0, 247.0, 205.0, 267.0, 324.0, 266.0, 314.0, 259.0, 236.0, 278.0, 214.0, 262.0, 211.0, 295.0, 255.0, 284.0, 191.0, 223.0, 299.0, 207.0, 248.0, 240.0, 194.0, 216.0, 190.0, 279.0, 243.0, 208.0, 230.0, 246.0, 229.0, 322.0, 288.0, 229.0, 243.0, 197.0, 236.0, 237.0, 175.0, 323.0, 260.0, 227.0, 276.0, 233.0, 242.0, 303.0, 229.0, 293.0, 258.0, 226.0, 331.0, 294.0, 238.0, 240.0, 236.0, 258.0, 223.0, 212.0, 190.0, 236.0, 208.0, 211.0, 289.0, 276.0, 242.0, 310.0, 225.0, 220.0, 198.0, 199.0, 286.0, 271.0, 269.0, 183.0, 219.0, 236.0, 217.0, 235.0, 267.0, 250.0, 244.0, 276.0, 272.0, 217.0, 241.0, 222.0, 245.0, 248.0, 262.0, 253.0, 241.0, 236.0, 222.0, 224.0, 260.0, 266.0, 220.0, 254.0, 259.0, 267.0, 269.0, 265.0, 282.0, 122.0, 240.0, 187.0, 198.0, 238.0, 260.0, 223.0, 224.0, 274.0, 230.0, 292.0, 208.0, 229.0, 268.0, 243.0, 227.0, 293.0, 212.0, 281.0, 243.0, 255.0, 224.0, 224.0, 209.0, 191.0, 287.0, 272.0, 203.0, 238.0, 340.0, 194.0, 263.0, 290.0, 192.0, 258.0, 247.0, 265.0, 283.0, 267.0, 240.0, 167.0, 235.0, 252.0, 281.0, 274.0, 252.0, 255.0, 256.0, 212.0, 224.0, 269.0, 320.0, 188.0, 212.0, 240.0, 221.0, 236.0, 181.0, 288.0, 277.0, 222.0, 282.0, 206.0, 250.0, 285.0, 266.0, 203.0, 245.0, 242.0, 209.0, 262.0, 210.0, 298.0, 231.0, 259.0, 266.0, 256.0, 253.0, 249.0, 225.0, 236.0, 302.0, 194.0, 235.0, 167.0, 248.0, 212.0, 251.0, 256.0, 303.0, 204.0, 285.0, 235.0, 264.0, 203.0, 246.0, 258.0, 257.0, 190.0, 184.0, 274.0, 255.0, 286.0, 266.0, 235.0, 284.0, 214.0, 238.0, 314.0, 181.0, 267.0, 267.0, 225.0, 189.0, 270.0, 218.0, 166.0, 292.0, 268.0, 214.0, 237.0, 231.0, 283.0, 256.0, 288.0, 244.0, 244.0, 227.0, 321.0, 251.0, 248.0, 287.0, 237.0, 243.0, 213.0, 244.0, 231.0, 261.0, 195.0, 217.0, 216.0, 248.0, 175.0, 234.0, 305.0, 183.0, 281.0, 193.0, 182.0, 275.0, 309.0, 230.0, 228.0, 295.0, 249.0, 246.0, 201.0, 291.0, 224.0, 282.0, 286.0, 235.0, 245.0, 238.0, 240.0, 197.0, 294.0, 235.0, 228.0, 203.0, 300.0, 223.0, 249.0, 175.0, 281.0, 204.0, 258.0, 288.0, 255.0, 213.0, 284.0, 252.0, 248.0, 205.0, 226.0, 303.0, 227.0, 246.0, 194.0, 216.0, 264.0, 210.0, 236.0, 247.0, 225.0, 291.0, 265.0, 225.0, 294.0, 262.0, 258.0, 293.0, 294.0, 262.0, 209.0, 348.0, 194.0, 177.0, 261.0, 231.0, 246.0, 205.0, 269.0, 239.0, 254.0, 242.0, 209.0, 190.0, 204.0, 215.0, 270.0, 279.0, 249.0, 306.0, 197.0, 294.0, 291.0, 255.0, 201.0, 243.0, 259.0, 262.0, 255.0, 255.0, 198.0, 185.0, 303.0, 240.0, 247.0, 262.0, 214.0, 239.0, 242.0, 277.0, 274.0, 205.0, 261.0, 299.0, 246.0, 255.0, 199.0, 195.0, 251.0, 251.0, 212.0, 183.0, 163.0, 256.0, 236.0, 227.0, 286.0, 269.0, 232.0, 240.0, 207.0, 256.0, 180.0, 245.0, 179.0, 235.0, 220.0, 245.0, 205.0, 229.0, 300.0, 226.0, 256.0, 221.0, 241.0, 291.0, 240.0, 245.0, 270.0, 231.0, 274.0, 241.0, 184.0, 283.0, 283.0, 254.0, 209.0, 255.0, 253.0, 171.0, 224.0, 261.0, 209.0, 292.0, 200.0, 242.0, 241.0, 261.0, 178.0, 248.0, 174.0, 236.0, 300.0, 269.0, 261.0, 268.0, 238.0, 279.0, 290.0, 232.0, 311.0, 336.0, 272.0, 247.0, 275.0, 188.0, 213.0, 310.0, 304.0, 268.0, 192.0, 232.0, 256.0, 244.0, 221.0, 248.0, 200.0, 241.0, 215.0, 199.0, 267.0, 221.0, 301.0, 215.0, 262.0, 249.0, 229.0, 245.0, 245.0, 197.0, 308.0, 251.0, 215.0, 156.0, 274.0, 253.0, 244.0, 221.0, 218.0, 225.0, 295.0, 198.0, 197.0, 245.0, 256.0, 222.0, 250.0, 181.0, 229.0, 227.0, 262.0, 256.0, 232.0, 221.0, 251.0, 284.0, 297.0, 277.0, 189.0, 219.0, 259.0, 297.0, 304.0, 265.0, 204.0, 239.0, 257.0, 273.0, 200.0, 217.0, 274.0, 221.0, 254.0, 233.0, 193.0, 222.0, 244.0, 205.0, 297.0, 223.0, 325.0, 217.0, 239.0, 316.0, 315.0, 271.0, 256.0, 215.0, 218.0, 194.0, 257.0, 231.0, 198.0, 248.0, 259.0, 197.0, 239.0, 274.0, 255.0, 267.0, 172.0, 222.0, 238.0, 256.0, 225.0, 286.0, 310.0, 255.0, 200.0, 253.0, 270.0, 251.0, 226.0, 297.0, 288.0, 255.0, 276.0, 259.0, 284.0, 280.0, 278.0, 280.0, 235.0, 222.0, 303.0, 245.0, 224.0, 274.0, 249.0, 251.0, 218.0, 235.0, 216.0, 273.0, 239.0, 286.0, 284.0, 241.0, 263.0, 227.0, 202.0, 188.0, 285.0, 227.0, 262.0, 226.0, 239.0, 233.0, 334.0, 262.0, 240.0, 290.0, 174.0, 237.0, 141.0, 271.0, 255.0, 228.0, 199.0, 302.0, 281.0, 217.0, 228.0, 271.0, 254.0, 224.0, 232.0, 222.0, 212.0, 261.0, 315.0, 244.0, 191.0, 165.0, 223.0, 222.0, 242.0, 265.0, 257.0, 262.0, 263.0, 267.0, 222.0, 291.0, 271.0, 224.0, 302.0, 287.0, 257.0, 257.0, 214.0, 314.0, 262.0, 237.0, 196.0, 225.0, 223.0, 291.0, 334.0, 217.0, 250.0, 243.0, 297.0, 275.0, 274.0, 175.0, 240.0, 198.0, 301.0, 256.0, 247.0, 223.0, 244.0, 206.0, 287.0, 282.0, 232.0, 248.0, 202.0, 304.0, 194.0, 216.0, 251.0, 209.0, 229.0, 236.0, 206.0, 292.0, 242.0, 251.0, 389.0, 169.0, 247.0, 236.0, 194.0, 254.0, 328.0, 297.0, 213.0, 315.0, 216.0, 262.0, 255.0, 222.0, 288.0, 235.0, 265.0, 346.0, 238.0, 222.0, 235.0, 240.0, 269.0, 240.0, 263.0, 230.0, 241.0, 252.0, 251.0, 238.0, 276.0, 266.0, 342.0, 249.0, 189.0, 207.0, 238.0, 228.0, 248.0, 226.0, 318.0, 263.0, 202.0, 230.0, 265.0, 246.0, 274.0, 261.0, 284.0, 266.0, 213.0, 277.0, 259.0, 208.0, 239.0, 279.0, 307.0, 218.0, 223.0, 247.0, 305.0, 281.0, 312.0, 282.0, 201.0, 324.0, 234.0, 249.0, 147.0, 291.0, 246.0, 202.0, 255.0, 271.0, 279.0, 256.0, 181.0, 150.0, 190.0, 216.0, 224.0, 191.0, 249.0, 265.0, 269.0, 234.0, 247.0, 219.0, 232.0, 237.0, 225.0, 287.0, 154.0, 203.0, 252.0, 198.0, 198.0, 286.0, 311.0, 279.0, 220.0, 283.0, 244.0, 277.0, 242.0, 263.0, 242.0, 178.0, 211.0, 250.0, 206.0, 271.0, 248.0, 299.0, 229.0, 311.0, 193.0, 294.0, 234.0, 255.0, 287.0, 225.0, 255.0, 214.0, 280.0, 227.0, 288.0, 210.0, 241.0, 224.0, 339.0, 278.0, 205.0, 244.0, 268.0, 222.0, 270.0, 236.0, 232.0, 212.0, 258.0, 218.0, 267.0, 199.0, 215.0, 315.0, 280.0, 250.0, 266.0, 234.0, 198.0, 294.0, 274.0, 313.0, 159.0, 263.0, 238.0, 245.0, 239.0, 213.0, 198.0, 302.0, 194.0, 212.0, 198.0, 252.0, 224.0, 180.0, 278.0, 200.0, 229.0, 247.0, 244.0, 194.0, 228.0, 264.0, 214.0, 243.0, 245.0, 215.0, 255.0, 205.0, 219.0, 241.0, 311.0, 249.0, 191.0, 294.0, 278.0, 291.0, 226.0, 212.0, 205.0, 227.0, 267.0, 246.0, 241.0, 207.0, 265.0, 243.0, 181.0, 266.0, 265.0, 250.0, 297.0, 256.0, 278.0, 279.0, 212.0, 258.0, 188.0, 216.0, 290.0, 322.0, 255.0, 266.0, 268.0, 270.0, 233.0, 263.0, 265.0, 231.0, 249.0, 253.0, 243.0, 267.0, 288.0, 256.0, 245.0, 196.0, 251.0, 221.0, 262.0, 242.0, 257.0]\n"
     ]
    }
   ],
   "source": [
    "def sampling50(df):\n",
    "    list_50 = []\n",
    "    for i in range(1000):\n",
    "        i = np.random.randint(0, 9999, size = 50)\n",
    "        mean = pd.DataFrame( data = df, columns=[\"salary\"], index = i)['salary'].mean()\n",
    "        list_50.append(mean)\n",
    "    return list_50\n",
    "\n",
    "sampled50 = sampling50(df)\n",
    "print(sampled50)"
   ]
  },
  {
   "cell_type": "markdown",
   "id": "ee5f2518",
   "metadata": {},
   "source": [
    "## Q6-2. (중심 극한 정리) 율도국 국민(df) 중에서 표본 크기가 500인 표본을 추출하는 것을 1,000번 반복한 후 각 표본의 'salary'의 표본평균을 측정한 결과의 리스트를 출력하는 함수를 작성하세요. "
   ]
  },
  {
   "cell_type": "code",
   "execution_count": 25,
   "id": "21957003",
   "metadata": {},
   "outputs": [
    {
     "name": "stdout",
     "output_type": "stream",
     "text": [
      "[239.4, 232.5, 263.3, 262.5, 256.0, 227.0, 242.4, 236.9, 261.7, 250.4, 224.1, 228.4, 223.5, 249.3, 242.1, 224.2, 230.1, 254.3, 257.2, 248.5, 248.6, 262.5, 230.2, 232.2, 260.3, 232.0, 240.1, 256.1, 253.6, 227.0, 240.6, 238.3, 259.6, 249.5, 262.1, 244.5, 235.6, 246.2, 239.7, 247.2, 242.9, 264.2, 243.4, 245.0, 243.5, 245.0, 236.8, 246.5, 241.7, 243.5, 264.0, 255.3, 234.3, 229.8, 240.7, 236.4, 227.5, 261.9, 267.8, 242.7, 233.8, 246.4, 253.3, 228.9, 240.3, 277.3, 273.3, 254.9, 241.4, 232.6, 249.8, 257.9, 234.6, 239.3, 250.5, 226.2, 242.9, 238.1, 222.1, 236.2, 238.2, 235.3, 223.8, 242.5, 252.9, 250.4, 251.8, 253.3, 219.6, 251.8, 232.0, 257.0, 254.2, 253.8, 249.3, 236.2, 245.7, 225.0, 240.0, 247.5, 249.7, 243.0, 259.7, 246.0, 251.2, 252.7, 250.9, 253.8, 249.5, 238.6, 243.9, 252.8, 252.4, 238.2, 231.4, 268.7, 248.1, 237.6, 263.2, 275.4, 250.7, 225.2, 244.0, 219.3, 244.4, 254.2, 260.5, 237.3, 234.0, 250.8, 231.4, 241.5, 249.8, 247.7, 238.8, 255.6, 246.8, 257.1, 253.0, 224.6, 259.7, 246.6, 246.4, 237.8, 238.7, 229.0, 230.4, 243.3, 231.6, 234.5, 245.5, 263.3, 224.6, 226.9, 246.8, 239.4, 258.7, 269.5, 225.5, 232.6, 257.2, 253.7, 253.9, 259.2, 237.0, 263.7, 254.2, 249.6, 250.5, 242.4, 256.5, 234.3, 242.5, 265.7, 251.1, 253.0, 264.4, 252.2, 250.6, 244.7, 229.5, 247.5, 212.6, 250.9, 244.5, 221.7, 246.9, 235.5, 243.4, 248.3, 256.7, 218.3, 220.9, 244.8, 258.6, 250.9, 240.3, 243.4, 245.2, 210.5, 242.1, 233.3, 214.8, 257.0, 270.2, 246.7, 251.4, 248.3, 255.3, 245.3, 247.6, 252.4, 235.2, 240.3, 235.4, 232.2, 247.8, 242.9, 246.2, 236.7, 231.7, 257.1, 232.8, 233.6, 229.7, 253.1, 240.4, 248.7, 232.9, 242.0, 241.9, 253.6, 249.2, 237.3, 226.8, 235.7, 262.3, 235.9, 252.5, 243.7, 245.3, 224.9, 231.1, 264.3, 239.5, 243.2, 257.8, 253.6, 243.2, 253.9, 235.4, 257.1, 238.7, 242.0, 251.1, 236.2, 254.3, 238.8, 238.8, 247.7, 225.0, 243.6, 262.9, 264.3, 253.0, 233.4, 231.9, 253.2, 254.0, 237.8, 236.4, 252.0, 226.3, 260.6, 220.8, 248.3, 237.7, 254.5, 237.6, 250.1, 248.0, 250.0, 273.9, 235.1, 246.7, 223.5, 221.7, 240.6, 250.0, 250.3, 246.6, 221.6, 261.5, 236.9, 238.2, 248.0, 245.5, 264.1, 269.1, 237.2, 241.1, 244.4, 243.2, 233.8, 242.7, 240.1, 235.0, 232.0, 243.1, 248.2, 271.1, 250.7, 246.5, 243.9, 233.7, 241.1, 252.1, 232.7, 243.8, 258.7, 233.0, 244.7, 230.5, 224.7, 243.7, 255.0, 260.2, 243.7, 240.8, 254.7, 250.8, 231.9, 246.0, 259.6, 257.6, 259.9, 252.6, 228.5, 235.1, 249.6, 254.2, 255.5, 252.8, 268.8, 248.6, 247.0, 278.0, 221.4, 243.2, 241.0, 245.0, 225.9, 239.9, 244.7, 254.8, 247.1, 243.3, 238.7, 256.3, 264.0, 243.4, 255.3, 227.1, 258.3, 243.5, 240.4, 230.3, 244.7, 226.3, 241.0, 252.6, 223.1, 234.0, 242.2, 229.5, 243.1, 244.5, 253.9, 234.5, 260.2, 242.4, 230.6, 256.5, 239.3, 253.0, 234.9, 223.6, 238.5, 228.8, 231.7, 249.4, 249.0, 242.6, 249.5, 243.6, 252.5, 254.1, 243.6, 240.4, 248.7, 262.6, 259.8, 260.5, 242.5, 241.6, 254.2, 235.4, 225.0, 225.6, 255.2, 242.1, 228.5, 249.4, 239.1, 235.1, 269.8, 228.3, 242.7, 254.4, 250.2, 219.2, 251.5, 233.1, 250.7, 256.1, 249.5, 241.1, 246.2, 244.9, 248.6, 249.2, 233.8, 225.9, 248.2, 240.0, 237.9, 243.7, 241.7, 244.6, 233.3, 250.2, 253.3, 240.9, 245.1, 241.6, 237.4, 243.2, 245.1, 243.7, 243.9, 229.6, 235.1, 241.2, 249.8, 232.5, 239.8, 243.6, 231.8, 233.6, 245.9, 236.9, 258.3, 243.4, 232.3, 238.8, 251.3, 234.4, 241.7, 247.9, 229.1, 247.6, 251.3, 236.5, 246.5, 234.0, 247.4, 241.6, 239.9, 252.5, 233.1, 233.4, 244.2, 250.7, 232.2, 266.4, 250.9, 249.6, 244.1, 244.0, 228.1, 252.8, 252.4, 250.1, 237.3, 259.0, 234.0, 242.9, 245.6, 246.9, 249.5, 253.6, 251.7, 244.6, 247.1, 243.1, 268.5, 247.4, 251.1, 248.1, 270.1, 233.2, 243.7, 238.6, 249.7, 234.3, 229.0, 242.5, 228.9, 232.9, 255.4, 257.2, 243.4, 237.0, 241.9, 253.7, 238.4, 253.4, 256.7, 259.5, 256.7, 257.1, 246.5, 228.1, 249.5, 252.8, 248.0, 223.1, 274.8, 260.9, 247.2, 239.7, 250.2, 248.9, 230.9, 240.9, 262.7, 253.4, 237.6, 243.3, 242.9, 252.9, 253.8, 267.1, 242.7, 250.2, 238.3, 227.2, 243.1, 238.4, 251.7, 254.9, 243.3, 248.8, 250.5, 237.0, 253.6, 225.9, 237.8, 225.8, 231.3, 225.0, 241.1, 233.5, 253.1, 251.6, 235.2, 222.9, 240.2, 246.0, 252.4, 256.1, 236.9, 232.5, 251.1, 243.0, 241.7, 241.8, 234.4, 263.7, 241.5, 239.4, 258.7, 238.9, 236.5, 233.3, 253.4, 236.6, 236.9, 252.8, 250.7, 251.6, 244.6, 238.9, 248.3, 250.7, 250.6, 241.8, 240.1, 243.0, 236.3, 247.3, 230.3, 262.4, 212.0, 241.0, 255.9, 247.3, 251.1, 230.6, 227.2, 231.1, 227.7, 235.8, 256.5, 247.0, 260.5, 256.4, 245.3, 232.0, 246.9, 235.0, 240.9, 251.3, 228.7, 239.3, 250.3, 263.6, 253.8, 244.4, 226.9, 247.7, 265.4, 230.8, 254.8, 257.9, 246.8, 253.3, 245.5, 231.7, 247.8, 262.2, 231.5, 256.5, 235.2, 248.8, 228.7, 243.1, 275.4, 232.8, 246.6, 233.8, 240.2, 250.5, 231.3, 245.8, 247.3, 251.6, 247.7, 240.1, 256.9, 254.3, 260.0, 236.1, 232.8, 253.1, 249.8, 261.1, 246.8, 240.9, 250.6, 250.8, 244.1, 265.5, 220.7, 248.6, 237.2, 237.3, 244.1, 246.3, 262.6, 235.1, 242.9, 250.8, 277.9, 242.6, 236.2, 250.6, 242.6, 251.9, 223.7, 237.7, 253.1, 263.1, 233.4, 251.7, 243.0, 256.4, 265.7, 236.7, 243.1, 256.7, 232.1, 221.7, 273.5, 253.8, 229.0, 236.3, 236.9, 242.2, 245.4, 257.6, 243.0, 258.3, 243.1, 234.0, 232.1, 256.1, 244.9, 234.1, 234.9, 242.5, 241.9, 245.1, 244.6, 240.1, 262.5, 233.9, 259.7, 218.7, 258.8, 243.2, 260.6, 231.2, 248.7, 253.7, 248.4, 244.4, 231.6, 254.7, 266.9, 231.9, 250.2, 250.5, 232.6, 253.6, 239.0, 245.9, 240.2, 254.1, 248.4, 230.9, 236.8, 266.8, 244.8, 255.9, 253.9, 263.6, 267.7, 242.0, 250.1, 253.8, 238.9, 246.0, 234.2, 232.9, 262.5, 256.5, 243.3, 251.0, 232.8, 238.1, 240.1, 242.7, 235.0, 232.4, 231.6, 238.2, 249.4, 241.7, 240.6, 244.9, 227.6, 249.1, 247.2, 274.5, 235.1, 256.3, 244.7, 227.1, 251.8, 243.2, 244.8, 229.3, 251.4, 235.7, 244.1, 231.4, 253.0, 242.4, 254.0, 241.1, 261.0, 259.6, 263.3, 221.8, 251.1, 229.4, 244.8, 254.3, 232.2, 262.8, 224.6, 260.5, 226.7, 250.6, 235.9, 240.7, 239.5, 245.8, 246.6, 246.5, 224.6, 239.8, 247.4, 244.3, 243.2, 233.5, 236.2, 231.0, 237.1, 256.5, 241.5, 262.7, 234.1, 227.9, 242.8, 236.1, 245.5, 267.3, 243.0, 235.5, 251.8, 230.0, 240.7, 223.0, 255.2, 244.6, 231.4, 237.1, 243.1, 238.1, 265.8, 247.8, 260.1, 235.7, 225.4, 238.3, 251.3, 230.9, 247.3, 241.3, 244.7, 252.4, 242.7, 251.7, 239.7, 253.4, 252.1, 238.9, 238.3, 227.0, 279.5, 247.5, 246.2, 242.3, 225.6, 223.1, 234.9, 242.5, 246.9, 234.0, 222.3, 259.5, 223.8, 241.9, 237.8, 249.8, 245.4, 224.3, 249.2, 241.8, 254.2, 244.5, 221.2, 225.5, 241.1, 240.6, 244.0, 267.4, 244.1, 242.0, 236.1, 253.9, 253.0, 242.8, 236.7, 259.0, 235.0, 253.4, 238.0, 238.3, 233.4, 243.7, 236.5, 277.0, 254.8, 237.1, 242.2, 253.7, 246.7, 244.0, 247.9, 246.6, 245.0, 232.7, 263.4, 246.0, 244.7, 256.0, 236.6, 261.5, 262.5, 261.0, 232.5, 261.8, 236.6, 243.0, 246.5, 251.0, 234.5, 235.3, 231.9, 257.9, 232.3, 270.6, 252.5, 239.1, 246.6, 252.4, 243.3, 219.4, 237.3, 256.5, 249.6, 249.5, 251.6, 244.7, 236.1, 239.4, 240.5, 239.0, 276.1, 240.4, 240.8, 239.4, 230.3, 250.6, 277.8, 240.4, 238.7, 245.5, 250.5, 248.1, 238.3, 246.6, 236.3, 232.0, 249.4, 255.9, 223.1, 230.2, 264.0, 246.0, 247.0, 248.4, 236.8, 266.5, 250.6, 247.3, 253.7]\n"
     ]
    }
   ],
   "source": [
    "def sampling500(df):\n",
    "    list_500 = []\n",
    "    for i in range(1000):\n",
    "        i = np.random.randint(0, 9999, size = 500)\n",
    "        mean = pd.DataFrame( data = df, columns=[\"salary\"], index = i)['salary'].mean()\n",
    "        list_500.append(mean)\n",
    "    return list_500\n",
    "\n",
    "sampled500 = sampling500(df)\n",
    "print(sampled500)"
   ]
  },
  {
   "cell_type": "markdown",
   "id": "cbb9a558",
   "metadata": {},
   "source": [
    "### Q6에서 작성한 함수의 출력 결과를 인자로 넣어 아래 코드에서 실행하세요."
   ]
  },
  {
   "cell_type": "code",
   "execution_count": 26,
   "id": "aeb421fe",
   "metadata": {},
   "outputs": [
    {
     "data": {
      "text/plain": [
       "<matplotlib.lines.Line2D at 0x22b26e7c0a0>"
      ]
     },
     "execution_count": 26,
     "metadata": {},
     "output_type": "execute_result"
    },
    {
     "data": {
      "image/png": "[encoded data removed]",
      "text/plain": [
       "<Figure size 432x288 with 1 Axes>"
      ]
     },
     "metadata": {
      "needs_background": "light"
     },
     "output_type": "display_data"
    }
   ],
   "source": [
    "import seaborn as sns\n",
    "import matplotlib.pyplot as plt\n",
    "\n",
    "sns.histplot(sampled50, kde=True)\n",
    "plt.axvline(np.mean(sampled50))\n",
    "sns.histplot(sampled500, kde=True, color='r')\n",
    "plt.axvline(np.mean(sampled50), color = 'r')"
   ]
  },
  {
   "cell_type": "markdown",
   "id": "d0c24496",
   "metadata": {},
   "source": [
    "## Q7. (통계적 가설 검정) 사회과학에 관심이 많은 재민이는 율도국의 성별에 따라 월 평균 소득에 차이가 있을 것이라고 생각하고 있다. 아래 코드에 재민이가 이 연구를 수행하기 위해 세운 귀무가설과 대립가설을 입력하세요."
   ]
  },
  {
   "cell_type": "code",
   "execution_count": 27,
   "id": "12649b60",
   "metadata": {},
   "outputs": [
    {
     "name": "stdout",
     "output_type": "stream",
     "text": [
      "귀무가설(H0): df['salary'][df.gender == 'M'].mean() == df['sal!ary'][df.gender == 'F'].mean()\n",
      "대립가설(Ha): df['salary'][df.gender == 'M'].mean() = df['salary'][df.gender == 'F'].mean()\n"
     ]
    }
   ],
   "source": [
    "print(\"귀무가설(H0): df['salary'][df.gender == 'M'].mean() == df['sal!ary'][df.gender == 'F'].mean()\")\n",
    "print(\"대립가설(Ha): df['salary'][df.gender == 'M'].mean() = df['salary'][df.gender == 'F'].mean()\")"
   ]
  },
  {
   "cell_type": "markdown",
   "id": "7e4d8c43",
   "metadata": {},
   "source": [
    "## Q8. 재민이는 율도국의 평균 나이가 35세 라는 귀무가설이 맞다는 전제 하에 크기가 100인 표본을 추출하였는데, 이 때 표본평균이 50세로 나타났다. 이러한 통계치가 관측될 확률(p-value)을 구하는 코드를 작성하세요."
   ]
  },
  {
   "cell_type": "code",
   "execution_count": 28,
   "id": "7c95d457",
   "metadata": {},
   "outputs": [
    {
     "name": "stdout",
     "output_type": "stream",
     "text": [
      "sample_std: 9.899142907496099\n"
     ]
    }
   ],
   "source": [
    "i = np.random.randint(0, 9999, size = 100)\n",
    "a = pd.DataFrame( data = df, columns=[\"age\"], index = i)['age'].to_numpy()\n",
    "sample_std = np.sqrt(np.power(a - np.mean(a), 2).sum()/(len(a)-1))\n",
    "print(f'sample_std: {sample_std}')"
   ]
  },
  {
   "cell_type": "code",
   "execution_count": 29,
   "id": "2ab28f1e",
   "metadata": {},
   "outputs": [
    {
     "data": {
      "text/plain": [
       "1.5152827007519298"
      ]
     },
     "execution_count": 29,
     "metadata": {},
     "output_type": "execute_result"
    }
   ],
   "source": [
    "z_score = (50-35)/sample_std\n",
    "z_score"
   ]
  },
  {
   "cell_type": "code",
   "execution_count": 30,
   "id": "6c818844",
   "metadata": {},
   "outputs": [
    {
     "name": "stdout",
     "output_type": "stream",
     "text": [
      "p-value = 0.06485041366099456\n"
     ]
    }
   ],
   "source": [
    "import scipy.stats\n",
    "\n",
    "p_value = scipy.stats.norm.sf(abs(z_score))\n",
    "print(f'p-value = {p_value}')"
   ]
  },
  {
   "cell_type": "markdown",
   "id": "04478c39",
   "metadata": {},
   "source": [
    "## Q9. 재민이는 Q8에서 수행한 결과를 학회에서 발표하였다. 그러나 율도국 정부에서 인구주택총조사를 진행하여 율도국 국민들의 나이를 조사한 결과 재민이가 추출한 표본은 극단적인 값임이 확인되었다. 이 때, 재민이가 범한 오류는 \"1종 오류\"와 \"2종 오류\" 중 무엇인지 출력하세요."
   ]
  },
  {
   "cell_type": "code",
   "execution_count": 31,
   "id": "9f55f7bf",
   "metadata": {},
   "outputs": [
    {
     "name": "stdout",
     "output_type": "stream",
     "text": [
      "1종 오류\n"
     ]
    }
   ],
   "source": [
    "print(\"1종 오류\")"
   ]
  },
  {
   "cell_type": "markdown",
   "id": "b2613649",
   "metadata": {},
   "source": [
    "## Q10. 재민이는 율도국 국민들이 나이가 들수록 더 많은 소득을 얻을 것이라고 생각하고 있다. 재민이의 주장이 맞으려면 age와 salary를 단순 선형 회귀 분석하였을 때, slope가 양수여야 하며, p-value는 0.05보다 작아야 한다. 이러한 가설을 확인 할 수 있도록 선형 회귀 분석을 하고 이를 summary하는 테이블을 출력하는 코드를 작성하세요."
   ]
  },
  {
   "cell_type": "code",
   "execution_count": 32,
   "id": "e4d2b2dd",
   "metadata": {},
   "outputs": [
    {
     "data": {
      "text/html": [
       "<table class=\"simpletable\">\n",
       "<caption>OLS Regression Results</caption>\n",
       "<tr>\n",
       "  <th>Dep. Variable:</th>           <td>age</td>       <th>  R-squared:         </th> <td>   0.000</td> \n",
       "</tr>\n",
       "<tr>\n",
       "  <th>Model:</th>                   <td>OLS</td>       <th>  Adj. R-squared:    </th> <td>  -0.000</td> \n",
       "</tr>\n",
       "<tr>\n",
       "  <th>Method:</th>             <td>Least Squares</td>  <th>  F-statistic:       </th> <td> 0.04095</td> \n",
       "</tr>\n",
       "<tr>\n",
       "  <th>Date:</th>             <td>Fri, 13 May 2022</td> <th>  Prob (F-statistic):</th>  <td> 0.840</td>  \n",
       "</tr>\n",
       "<tr>\n",
       "  <th>Time:</th>                 <td>12:22:47</td>     <th>  Log-Likelihood:    </th> <td> -37337.</td> \n",
       "</tr>\n",
       "<tr>\n",
       "  <th>No. Observations:</th>      <td> 10000</td>      <th>  AIC:               </th> <td>7.468e+04</td>\n",
       "</tr>\n",
       "<tr>\n",
       "  <th>Df Residuals:</th>          <td>  9998</td>      <th>  BIC:               </th> <td>7.469e+04</td>\n",
       "</tr>\n",
       "<tr>\n",
       "  <th>Df Model:</th>              <td>     1</td>      <th>                     </th>     <td> </td>    \n",
       "</tr>\n",
       "<tr>\n",
       "  <th>Covariance Type:</th>      <td>nonrobust</td>    <th>                     </th>     <td> </td>    \n",
       "</tr>\n",
       "</table>\n",
       "<table class=\"simpletable\">\n",
       "<tr>\n",
       "      <td></td>         <th>coef</th>     <th>std err</th>      <th>t</th>      <th>P>|t|</th>  <th>[0.025</th>    <th>0.975]</th>  \n",
       "</tr>\n",
       "<tr>\n",
       "  <th>Intercept</th> <td>   34.5332</td> <td>    0.140</td> <td>  247.092</td> <td> 0.000</td> <td>   34.259</td> <td>   34.807</td>\n",
       "</tr>\n",
       "<tr>\n",
       "  <th>salary</th>    <td>-7.976e-05</td> <td>    0.000</td> <td>   -0.202</td> <td> 0.840</td> <td>   -0.001</td> <td>    0.001</td>\n",
       "</tr>\n",
       "</table>\n",
       "<table class=\"simpletable\">\n",
       "<tr>\n",
       "  <th>Omnibus:</th>       <td> 2.965</td> <th>  Durbin-Watson:     </th> <td>   1.973</td>\n",
       "</tr>\n",
       "<tr>\n",
       "  <th>Prob(Omnibus):</th> <td> 0.227</td> <th>  Jarque-Bera (JB):  </th> <td>   2.976</td>\n",
       "</tr>\n",
       "<tr>\n",
       "  <th>Skew:</th>          <td> 0.042</td> <th>  Prob(JB):          </th> <td>   0.226</td>\n",
       "</tr>\n",
       "<tr>\n",
       "  <th>Kurtosis:</th>      <td> 2.990</td> <th>  Cond. No.          </th> <td>    489.</td>\n",
       "</tr>\n",
       "</table><br/><br/>Notes:<br/>[1] Standard Errors assume that the covariance matrix of the errors is correctly specified."
      ],
      "text/plain": [
       "<class 'statsmodels.iolib.summary.Summary'>\n",
       "\"\"\"\n",
       "                            OLS Regression Results                            \n",
       "==============================================================================\n",
       "Dep. Variable:                    age   R-squared:                       0.000\n",
       "Model:                            OLS   Adj. R-squared:                 -0.000\n",
       "Method:                 Least Squares   F-statistic:                   0.04095\n",
       "Date:                Fri, 13 May 2022   Prob (F-statistic):              0.840\n",
       "Time:                        12:22:47   Log-Likelihood:                -37337.\n",
       "No. Observations:               10000   AIC:                         7.468e+04\n",
       "Df Residuals:                    9998   BIC:                         7.469e+04\n",
       "Df Model:                           1                                         \n",
       "Covariance Type:            nonrobust                                         \n",
       "==============================================================================\n",
       "                 coef    std err          t      P>|t|      [0.025      0.975]\n",
       "------------------------------------------------------------------------------\n",
       "Intercept     34.5332      0.140    247.092      0.000      34.259      34.807\n",
       "salary     -7.976e-05      0.000     -0.202      0.840      -0.001       0.001\n",
       "==============================================================================\n",
       "Omnibus:                        2.965   Durbin-Watson:                   1.973\n",
       "Prob(Omnibus):                  0.227   Jarque-Bera (JB):                2.976\n",
       "Skew:                           0.042   Prob(JB):                        0.226\n",
       "Kurtosis:                       2.990   Cond. No.                         489.\n",
       "==============================================================================\n",
       "\n",
       "Notes:\n",
       "[1] Standard Errors assume that the covariance matrix of the errors is correctly specified.\n",
       "\"\"\""
      ]
     },
     "execution_count": 32,
     "metadata": {},
     "output_type": "execute_result"
    }
   ],
   "source": [
    "import statsmodels.api as sm\n",
    "model = sm.OLS.from_formula('age ~ salary', data= df)\n",
    "result = model.fit()\n",
    "result.summary()"
   ]
  },
  {
   "cell_type": "markdown",
   "id": "7f2325b0",
   "metadata": {},
   "source": [
    "## Q11. 재민이는 대전, 서울, 대구, 광주 지역의 Red당의 지지율에 의미 있는 차이가 있다고 생각했다. 이를 확인하기 위해 재민이는 여론조사를 실시하여 크기 1,000개짜리 표본을 추출하였다. 재민이의 가설이 맞는지 ANOVA를 실시하여 확인하는 코드를 작성하세요."
   ]
  },
  {
   "cell_type": "code",
   "execution_count": 33,
   "id": "af4e4f23",
   "metadata": {},
   "outputs": [
    {
     "data": {
      "text/plain": [
       "(2523, 2)"
      ]
     },
     "execution_count": 33,
     "metadata": {},
     "output_type": "execute_result"
    }
   ],
   "source": [
    "df1= df[df.location.isin(['대전', '서울', '대구', '광주'])][['location', 'party']]\n",
    "df1.shape"
   ]
  },
  {
   "cell_type": "code",
   "execution_count": 34,
   "id": "7e78f8c5",
   "metadata": {},
   "outputs": [],
   "source": [
    "df1 = df1.reset_index()"
   ]
  },
  {
   "cell_type": "code",
   "execution_count": 35,
   "id": "8aced976",
   "metadata": {},
   "outputs": [],
   "source": [
    "df1.drop(['index'], axis = 1,inplace =True)"
   ]
  },
  {
   "cell_type": "code",
   "execution_count": 36,
   "id": "36c58af1",
   "metadata": {},
   "outputs": [],
   "source": [
    "i = np.random.randint(0, 1428, size = 1000)"
   ]
  },
  {
   "cell_type": "code",
   "execution_count": 37,
   "id": "357edc26",
   "metadata": {},
   "outputs": [
    {
     "data": {
      "text/html": [
       "<div>\n",
       "<style scoped>\n",
       "    .dataframe tbody tr th:only-of-type {\n",
       "        vertical-align: middle;\n",
       "    }\n",
       "\n",
       "    .dataframe tbody tr th {\n",
       "        vertical-align: top;\n",
       "    }\n",
       "\n",
       "    .dataframe thead th {\n",
       "        text-align: right;\n",
       "    }\n",
       "</style>\n",
       "<table border=\"1\" class=\"dataframe\">\n",
       "  <thead>\n",
       "    <tr style=\"text-align: right;\">\n",
       "      <th></th>\n",
       "      <th>location</th>\n",
       "      <th>party</th>\n",
       "    </tr>\n",
       "  </thead>\n",
       "  <tbody>\n",
       "    <tr>\n",
       "      <th>536</th>\n",
       "      <td>서울</td>\n",
       "      <td>Blue</td>\n",
       "    </tr>\n",
       "    <tr>\n",
       "      <th>278</th>\n",
       "      <td>대구</td>\n",
       "      <td>Blue</td>\n",
       "    </tr>\n",
       "    <tr>\n",
       "      <th>276</th>\n",
       "      <td>대구</td>\n",
       "      <td>Red</td>\n",
       "    </tr>\n",
       "    <tr>\n",
       "      <th>858</th>\n",
       "      <td>서울</td>\n",
       "      <td>Blue</td>\n",
       "    </tr>\n",
       "    <tr>\n",
       "      <th>1271</th>\n",
       "      <td>광주</td>\n",
       "      <td>Red</td>\n",
       "    </tr>\n",
       "    <tr>\n",
       "      <th>...</th>\n",
       "      <td>...</td>\n",
       "      <td>...</td>\n",
       "    </tr>\n",
       "    <tr>\n",
       "      <th>499</th>\n",
       "      <td>대구</td>\n",
       "      <td>Blue</td>\n",
       "    </tr>\n",
       "    <tr>\n",
       "      <th>706</th>\n",
       "      <td>대구</td>\n",
       "      <td>Blue</td>\n",
       "    </tr>\n",
       "    <tr>\n",
       "      <th>103</th>\n",
       "      <td>광주</td>\n",
       "      <td>Red</td>\n",
       "    </tr>\n",
       "    <tr>\n",
       "      <th>808</th>\n",
       "      <td>광주</td>\n",
       "      <td>Red</td>\n",
       "    </tr>\n",
       "    <tr>\n",
       "      <th>885</th>\n",
       "      <td>대전</td>\n",
       "      <td>Blue</td>\n",
       "    </tr>\n",
       "  </tbody>\n",
       "</table>\n",
       "<p>1000 rows × 2 columns</p>\n",
       "</div>"
      ],
      "text/plain": [
       "     location party\n",
       "536        서울  Blue\n",
       "278        대구  Blue\n",
       "276        대구   Red\n",
       "858        서울  Blue\n",
       "1271       광주   Red\n",
       "...       ...   ...\n",
       "499        대구  Blue\n",
       "706        대구  Blue\n",
       "103        광주   Red\n",
       "808        광주   Red\n",
       "885        대전  Blue\n",
       "\n",
       "[1000 rows x 2 columns]"
      ]
     },
     "execution_count": 37,
     "metadata": {},
     "output_type": "execute_result"
    }
   ],
   "source": [
    "df2 = pd.DataFrame(data= df1, index = i)\n",
    "df2"
   ]
  },
  {
   "cell_type": "code",
   "execution_count": 38,
   "id": "1e6d5bcf",
   "metadata": {},
   "outputs": [
    {
     "data": {
      "text/plain": [
       "1.173913043478261"
      ]
     },
     "execution_count": 38,
     "metadata": {},
     "output_type": "execute_result"
    }
   ],
   "source": [
    "rate_seoul = df2[(df2['party'] == 'Red') & (df2['location'] == '서울')].shape[0]\\\n",
    "/df2[(df2['party'] == 'Blue') & (df2['location'] == '서울')].shape[0]\n",
    "rate_seoul"
   ]
  },
  {
   "cell_type": "code",
   "execution_count": 39,
   "id": "3febcdc3",
   "metadata": {},
   "outputs": [
    {
     "data": {
      "text/plain": [
       "0.11855670103092783"
      ]
     },
     "execution_count": 39,
     "metadata": {},
     "output_type": "execute_result"
    }
   ],
   "source": [
    "rate_daejeon = df2[(df2['party'] == 'Red') & (df2['location'] == '대전')].shape[0]\\\n",
    "/df2[(df2['party'] == 'Blue') & (df2['location'] == '대전')].shape[0]\n",
    "rate_daejeon"
   ]
  },
  {
   "cell_type": "raw",
   "id": "08da4f04",
   "metadata": {},
   "source": [
    "rate_daejeon = df2[(df2['party'] == 'Red') & (df2['location'] == '대전')].shape[0]\\\n",
    "/df2[(df2['party'] == 'Blue') & (df2['location'] == '대전')].shape[0]\n",
    "rate_daejeon"
   ]
  },
  {
   "cell_type": "code",
   "execution_count": 43,
   "id": "ae5a6c25",
   "metadata": {},
   "outputs": [
    {
     "ename": "ValueError",
     "evalue": "endog has evaluated to an array with multiple columns that has shape (1000, 4). This occurs when the variable converted to endog is non-numeric (e.g., bool or str).",
     "output_type": "error",
     "traceback": [
      "\u001b[1;31m---------------------------------------------------------------------------\u001b[0m",
      "\u001b[1;31mValueError\u001b[0m                                Traceback (most recent call last)",
      "\u001b[1;32m<ipython-input-43-e5a446bacb83>\u001b[0m in \u001b[0;36m<module>\u001b[1;34m\u001b[0m\n\u001b[0;32m      1\u001b[0m \u001b[1;32mfrom\u001b[0m \u001b[0mstatsmodels\u001b[0m\u001b[1;33m.\u001b[0m\u001b[0mformula\u001b[0m\u001b[1;33m.\u001b[0m\u001b[0mapi\u001b[0m \u001b[1;32mimport\u001b[0m \u001b[0mols\u001b[0m\u001b[1;33m\u001b[0m\u001b[1;33m\u001b[0m\u001b[0m\n\u001b[1;32m----> 2\u001b[1;33m \u001b[0mmodel\u001b[0m \u001b[1;33m=\u001b[0m \u001b[0mols\u001b[0m\u001b[1;33m(\u001b[0m\u001b[1;34m'C(location) ~ C(party)'\u001b[0m\u001b[1;33m,\u001b[0m \u001b[0mdata\u001b[0m \u001b[1;33m=\u001b[0m \u001b[0mdf2\u001b[0m\u001b[1;33m)\u001b[0m\u001b[1;33m.\u001b[0m\u001b[0mfit\u001b[0m\u001b[1;33m(\u001b[0m\u001b[1;33m)\u001b[0m\u001b[1;33m\u001b[0m\u001b[1;33m\u001b[0m\u001b[0m\n\u001b[0m\u001b[0;32m      3\u001b[0m \u001b[0manova_table\u001b[0m \u001b[1;33m=\u001b[0m \u001b[0msm\u001b[0m\u001b[1;33m.\u001b[0m\u001b[0mstats\u001b[0m\u001b[1;33m.\u001b[0m\u001b[0manova_lm\u001b[0m\u001b[1;33m(\u001b[0m\u001b[0mmodel\u001b[0m\u001b[1;33m,\u001b[0m \u001b[0mtpy\u001b[0m\u001b[1;33m=\u001b[0m\u001b[1;36m2\u001b[0m\u001b[1;33m)\u001b[0m\u001b[1;33m\u001b[0m\u001b[1;33m\u001b[0m\u001b[0m\n\u001b[0;32m      4\u001b[0m \u001b[0manova_table\u001b[0m\u001b[1;33m\u001b[0m\u001b[1;33m\u001b[0m\u001b[0m\n",
      "\u001b[1;32m~\\anaconda3\\lib\\site-packages\\statsmodels\\base\\model.py\u001b[0m in \u001b[0;36mfrom_formula\u001b[1;34m(cls, formula, data, subset, drop_cols, *args, **kwargs)\u001b[0m\n\u001b[0;32m    173\u001b[0m         if (max_endog is not None and\n\u001b[0;32m    174\u001b[0m                 endog.ndim > 1 and endog.shape[1] > max_endog):\n\u001b[1;32m--> 175\u001b[1;33m             raise ValueError('endog has evaluated to an array with multiple '\n\u001b[0m\u001b[0;32m    176\u001b[0m                              \u001b[1;34m'columns that has shape {0}. This occurs when '\u001b[0m\u001b[1;33m\u001b[0m\u001b[1;33m\u001b[0m\u001b[0m\n\u001b[0;32m    177\u001b[0m                              \u001b[1;34m'the variable converted to endog is non-numeric'\u001b[0m\u001b[1;33m\u001b[0m\u001b[1;33m\u001b[0m\u001b[0m\n",
      "\u001b[1;31mValueError\u001b[0m: endog has evaluated to an array with multiple columns that has shape (1000, 4). This occurs when the variable converted to endog is non-numeric (e.g., bool or str)."
     ]
    }
   ],
   "source": [
    "from statsmodels.formula.api import ols\n",
    "model = ols('C(location) ~ C(party)', data = df2).fit()\n",
    "anova_table = sm.stats.anova_lm(model, tpy=2)\n",
    "anova_table"
   ]
  },
  {
   "cell_type": "code",
   "execution_count": 44,
   "id": "4fe06ee0",
   "metadata": {},
   "outputs": [
    {
     "ename": "TypeError",
     "evalue": "Neither the `x` nor `y` variable appears to be numeric.",
     "output_type": "error",
     "traceback": [
      "\u001b[1;31m---------------------------------------------------------------------------\u001b[0m",
      "\u001b[1;31mTypeError\u001b[0m                                 Traceback (most recent call last)",
      "\u001b[1;32m<ipython-input-44-c147cc6c3751>\u001b[0m in \u001b[0;36m<module>\u001b[1;34m\u001b[0m\n\u001b[1;32m----> 1\u001b[1;33m \u001b[0max\u001b[0m \u001b[1;33m=\u001b[0m \u001b[0msns\u001b[0m\u001b[1;33m.\u001b[0m\u001b[0mboxplot\u001b[0m\u001b[1;33m(\u001b[0m\u001b[0mx\u001b[0m\u001b[1;33m=\u001b[0m\u001b[1;34m'location'\u001b[0m\u001b[1;33m,\u001b[0m \u001b[0my\u001b[0m\u001b[1;33m=\u001b[0m\u001b[1;34m'party'\u001b[0m\u001b[1;33m,\u001b[0m \u001b[0mdata\u001b[0m\u001b[1;33m=\u001b[0m\u001b[0mdf2\u001b[0m\u001b[1;33m,\u001b[0m \u001b[0mcolor\u001b[0m\u001b[1;33m=\u001b[0m\u001b[1;34m'#99c2a2'\u001b[0m\u001b[1;33m)\u001b[0m\u001b[1;33m\u001b[0m\u001b[1;33m\u001b[0m\u001b[0m\n\u001b[0m\u001b[0;32m      2\u001b[0m \u001b[0max\u001b[0m \u001b[1;33m=\u001b[0m \u001b[0msns\u001b[0m\u001b[1;33m.\u001b[0m\u001b[0mswarmplot\u001b[0m\u001b[1;33m(\u001b[0m\u001b[0mx\u001b[0m\u001b[1;33m=\u001b[0m\u001b[1;34m\"location\"\u001b[0m\u001b[1;33m,\u001b[0m \u001b[0my\u001b[0m\u001b[1;33m=\u001b[0m\u001b[1;34m\"party\"\u001b[0m\u001b[1;33m,\u001b[0m \u001b[0mdata\u001b[0m\u001b[1;33m=\u001b[0m\u001b[0mdf2\u001b[0m\u001b[1;33m,\u001b[0m \u001b[0mcolor\u001b[0m\u001b[1;33m=\u001b[0m\u001b[1;34m'#7d0013'\u001b[0m\u001b[1;33m)\u001b[0m\u001b[1;33m\u001b[0m\u001b[1;33m\u001b[0m\u001b[0m\n\u001b[0;32m      3\u001b[0m \u001b[0mplt\u001b[0m\u001b[1;33m.\u001b[0m\u001b[0mshow\u001b[0m\u001b[1;33m(\u001b[0m\u001b[1;33m)\u001b[0m\u001b[1;33m\u001b[0m\u001b[1;33m\u001b[0m\u001b[0m\n",
      "\u001b[1;32m~\\anaconda3\\lib\\site-packages\\seaborn\\_decorators.py\u001b[0m in \u001b[0;36minner_f\u001b[1;34m(*args, **kwargs)\u001b[0m\n\u001b[0;32m     44\u001b[0m             )\n\u001b[0;32m     45\u001b[0m         \u001b[0mkwargs\u001b[0m\u001b[1;33m.\u001b[0m\u001b[0mupdate\u001b[0m\u001b[1;33m(\u001b[0m\u001b[1;33m{\u001b[0m\u001b[0mk\u001b[0m\u001b[1;33m:\u001b[0m \u001b[0marg\u001b[0m \u001b[1;32mfor\u001b[0m \u001b[0mk\u001b[0m\u001b[1;33m,\u001b[0m \u001b[0marg\u001b[0m \u001b[1;32min\u001b[0m \u001b[0mzip\u001b[0m\u001b[1;33m(\u001b[0m\u001b[0msig\u001b[0m\u001b[1;33m.\u001b[0m\u001b[0mparameters\u001b[0m\u001b[1;33m,\u001b[0m \u001b[0margs\u001b[0m\u001b[1;33m)\u001b[0m\u001b[1;33m}\u001b[0m\u001b[1;33m)\u001b[0m\u001b[1;33m\u001b[0m\u001b[1;33m\u001b[0m\u001b[0m\n\u001b[1;32m---> 46\u001b[1;33m         \u001b[1;32mreturn\u001b[0m \u001b[0mf\u001b[0m\u001b[1;33m(\u001b[0m\u001b[1;33m**\u001b[0m\u001b[0mkwargs\u001b[0m\u001b[1;33m)\u001b[0m\u001b[1;33m\u001b[0m\u001b[1;33m\u001b[0m\u001b[0m\n\u001b[0m\u001b[0;32m     47\u001b[0m     \u001b[1;32mreturn\u001b[0m \u001b[0minner_f\u001b[0m\u001b[1;33m\u001b[0m\u001b[1;33m\u001b[0m\u001b[0m\n\u001b[0;32m     48\u001b[0m \u001b[1;33m\u001b[0m\u001b[0m\n",
      "\u001b[1;32m~\\anaconda3\\lib\\site-packages\\seaborn\\categorical.py\u001b[0m in \u001b[0;36mboxplot\u001b[1;34m(x, y, hue, data, order, hue_order, orient, color, palette, saturation, width, dodge, fliersize, linewidth, whis, ax, **kwargs)\u001b[0m\n\u001b[0;32m   2238\u001b[0m ):\n\u001b[0;32m   2239\u001b[0m \u001b[1;33m\u001b[0m\u001b[0m\n\u001b[1;32m-> 2240\u001b[1;33m     plotter = _BoxPlotter(x, y, hue, data, order, hue_order,\n\u001b[0m\u001b[0;32m   2241\u001b[0m                           \u001b[0morient\u001b[0m\u001b[1;33m,\u001b[0m \u001b[0mcolor\u001b[0m\u001b[1;33m,\u001b[0m \u001b[0mpalette\u001b[0m\u001b[1;33m,\u001b[0m \u001b[0msaturation\u001b[0m\u001b[1;33m,\u001b[0m\u001b[1;33m\u001b[0m\u001b[1;33m\u001b[0m\u001b[0m\n\u001b[0;32m   2242\u001b[0m                           width, dodge, fliersize, linewidth)\n",
      "\u001b[1;32m~\\anaconda3\\lib\\site-packages\\seaborn\\categorical.py\u001b[0m in \u001b[0;36m__init__\u001b[1;34m(self, x, y, hue, data, order, hue_order, orient, color, palette, saturation, width, dodge, fliersize, linewidth)\u001b[0m\n\u001b[0;32m    404\u001b[0m                  width, dodge, fliersize, linewidth):\n\u001b[0;32m    405\u001b[0m \u001b[1;33m\u001b[0m\u001b[0m\n\u001b[1;32m--> 406\u001b[1;33m         \u001b[0mself\u001b[0m\u001b[1;33m.\u001b[0m\u001b[0mestablish_variables\u001b[0m\u001b[1;33m(\u001b[0m\u001b[0mx\u001b[0m\u001b[1;33m,\u001b[0m \u001b[0my\u001b[0m\u001b[1;33m,\u001b[0m \u001b[0mhue\u001b[0m\u001b[1;33m,\u001b[0m \u001b[0mdata\u001b[0m\u001b[1;33m,\u001b[0m \u001b[0morient\u001b[0m\u001b[1;33m,\u001b[0m \u001b[0morder\u001b[0m\u001b[1;33m,\u001b[0m \u001b[0mhue_order\u001b[0m\u001b[1;33m)\u001b[0m\u001b[1;33m\u001b[0m\u001b[1;33m\u001b[0m\u001b[0m\n\u001b[0m\u001b[0;32m    407\u001b[0m         \u001b[0mself\u001b[0m\u001b[1;33m.\u001b[0m\u001b[0mestablish_colors\u001b[0m\u001b[1;33m(\u001b[0m\u001b[0mcolor\u001b[0m\u001b[1;33m,\u001b[0m \u001b[0mpalette\u001b[0m\u001b[1;33m,\u001b[0m \u001b[0msaturation\u001b[0m\u001b[1;33m)\u001b[0m\u001b[1;33m\u001b[0m\u001b[1;33m\u001b[0m\u001b[0m\n\u001b[0;32m    408\u001b[0m \u001b[1;33m\u001b[0m\u001b[0m\n",
      "\u001b[1;32m~\\anaconda3\\lib\\site-packages\\seaborn\\categorical.py\u001b[0m in \u001b[0;36mestablish_variables\u001b[1;34m(self, x, y, hue, data, orient, order, hue_order, units)\u001b[0m\n\u001b[0;32m    154\u001b[0m \u001b[1;33m\u001b[0m\u001b[0m\n\u001b[0;32m    155\u001b[0m             \u001b[1;31m# Figure out the plotting orientation\u001b[0m\u001b[1;33m\u001b[0m\u001b[1;33m\u001b[0m\u001b[1;33m\u001b[0m\u001b[0m\n\u001b[1;32m--> 156\u001b[1;33m             orient = infer_orient(\n\u001b[0m\u001b[0;32m    157\u001b[0m                 \u001b[0mx\u001b[0m\u001b[1;33m,\u001b[0m \u001b[0my\u001b[0m\u001b[1;33m,\u001b[0m \u001b[0morient\u001b[0m\u001b[1;33m,\u001b[0m \u001b[0mrequire_numeric\u001b[0m\u001b[1;33m=\u001b[0m\u001b[0mself\u001b[0m\u001b[1;33m.\u001b[0m\u001b[0mrequire_numeric\u001b[0m\u001b[1;33m\u001b[0m\u001b[1;33m\u001b[0m\u001b[0m\n\u001b[0;32m    158\u001b[0m             )\n",
      "\u001b[1;32m~\\anaconda3\\lib\\site-packages\\seaborn\\_core.py\u001b[0m in \u001b[0;36minfer_orient\u001b[1;34m(x, y, orient, require_numeric)\u001b[0m\n\u001b[0;32m   1343\u001b[0m     \u001b[1;32melif\u001b[0m \u001b[0mrequire_numeric\u001b[0m \u001b[1;32mand\u001b[0m \u001b[1;34m\"numeric\"\u001b[0m \u001b[1;32mnot\u001b[0m \u001b[1;32min\u001b[0m \u001b[1;33m(\u001b[0m\u001b[0mx_type\u001b[0m\u001b[1;33m,\u001b[0m \u001b[0my_type\u001b[0m\u001b[1;33m)\u001b[0m\u001b[1;33m:\u001b[0m\u001b[1;33m\u001b[0m\u001b[1;33m\u001b[0m\u001b[0m\n\u001b[0;32m   1344\u001b[0m         \u001b[0merr\u001b[0m \u001b[1;33m=\u001b[0m \u001b[1;34m\"Neither the `x` nor `y` variable appears to be numeric.\"\u001b[0m\u001b[1;33m\u001b[0m\u001b[1;33m\u001b[0m\u001b[0m\n\u001b[1;32m-> 1345\u001b[1;33m         \u001b[1;32mraise\u001b[0m \u001b[0mTypeError\u001b[0m\u001b[1;33m(\u001b[0m\u001b[0merr\u001b[0m\u001b[1;33m)\u001b[0m\u001b[1;33m\u001b[0m\u001b[1;33m\u001b[0m\u001b[0m\n\u001b[0m\u001b[0;32m   1346\u001b[0m \u001b[1;33m\u001b[0m\u001b[0m\n\u001b[0;32m   1347\u001b[0m     \u001b[1;32melse\u001b[0m\u001b[1;33m:\u001b[0m\u001b[1;33m\u001b[0m\u001b[1;33m\u001b[0m\u001b[0m\n",
      "\u001b[1;31mTypeError\u001b[0m: Neither the `x` nor `y` variable appears to be numeric."
     ]
    }
   ],
   "source": [
    "ax = sns.boxplot(x='location', y='party', data=df2, color='#99c2a2')\n",
    "ax = sns.swarmplot(x=\"location\", y=\"party\", data=df2, color='#7d0013')\n",
    "plt.show()"
   ]
  },
  {
   "cell_type": "code",
   "execution_count": 42,
   "id": "d029a616",
   "metadata": {},
   "outputs": [],
   "source": [
    "# 두 변수가 모두 categorical 일 때 ANOVA를 어떤 식으로 해야되는지 잘 모르겠습니다. ㅠ\n"
   ]
  },
  {
   "cell_type": "code",
   "execution_count": null,
   "id": "323986e5",
   "metadata": {},
   "outputs": [],
   "source": []
  }
 ],
 "metadata": {
  "kernelspec": {
   "display_name": "Python 3",
   "language": "python",
   "name": "python3"
  },
  "language_info": {
   "codemirror_mode": {
    "name": "ipython",
    "version": 3
   },
   "file_extension": ".py",
   "mimetype": "text/x-python",
   "name": "python",
   "nbconvert_exporter": "python",
   "pygments_lexer": "ipython3",
   "version": "3.8.8"
  }
 },
 "nbformat": 4,
 "nbformat_minor": 5
}
